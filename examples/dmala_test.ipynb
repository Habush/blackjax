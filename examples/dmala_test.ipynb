{
  "nbformat": 4,
  "nbformat_minor": 0,
  "metadata": {
    "colab": {
      "name": "dmala_test.ipynb",
      "provenance": [],
      "collapsed_sections": []
    },
    "kernelspec": {
      "name": "python3",
      "display_name": "Python 3"
    },
    "language_info": {
      "name": "python"
    }
  },
  "cells": [
    {
      "cell_type": "code",
      "source": [
        "!pip install jax\n",
        "!pip install distrax\n",
        "!pip install tensorflow\n",
        "!pip install tensorflow-probability\n",
        "!pip install git+https://github.com/Habush/blackjax.git"
      ],
      "metadata": {
        "id": "8ze2AqS0_MHk"
      },
      "execution_count": null,
      "outputs": []
    },
    {
      "cell_type": "code",
      "execution_count": null,
      "metadata": {
        "id": "-YkflBxOiCcW",
        "colab": {
          "base_uri": "https://localhost:8080/"
        },
        "outputId": "2b838bea-97d1-413d-9684-7de3a05869db"
      },
      "outputs": [
        {
          "output_type": "stream",
          "name": "stderr",
          "text": [
            "/home/xabush/miniconda3/lib/python3.9/site-packages/chex/_src/pytypes.py:37: FutureWarning: jax.tree_structure is deprecated, and will be removed in a future release. Use jax.tree_util.tree_structure instead.\n",
            "  PyTreeDef = type(jax.tree_structure(None))\n"
          ]
        }
      ],
      "source": [
        "import jax\n",
        "import jax.numpy as jnp\n",
        "import jax.scipy.stats as stats\n",
        "import matplotlib.pyplot as plt\n",
        "import numpy as np\n",
        "import blackjax\n",
        "import networkx as nx\n",
        "import itertools\n",
        "import numpyro\n",
        "import torch\n",
        "from tensorflow_probability.substrates import jax as tfp\n",
        "import time\n",
        "tfd = tfp.distributions\n",
        "%load_ext autoreload"
      ]
    },
    {
      "cell_type": "code",
      "source": [
        "def jax_prng_key():\n",
        "    return jax.random.PRNGKey(np.random.randint(int(1e5)))"
      ],
      "metadata": {
        "id": "se5EsmeNd5A9"
      },
      "execution_count": null,
      "outputs": []
    },
    {
      "cell_type": "code",
      "source": [
        "rng_key = jax.random.PRNGKey(0)"
      ],
      "metadata": {
        "id": "kaSrxwpHHsq4"
      },
      "execution_count": null,
      "outputs": []
    },
    {
      "cell_type": "code",
      "source": [
        "import igraph as ig\n",
        "dim = 4\n",
        "lattice_dim = 2\n",
        "g = ig.Graph.Lattice(dim=[dim, dim])\n",
        "J = np.asarray(g.get_adjacency().data)\n",
        "p = J.shape[1]\n",
        "eta = 0.1\n",
        "mu = 0.2\n",
        "J.shape"
      ],
      "metadata": {
        "id": "DNOLaOhhiMY8",
        "colab": {
          "base_uri": "https://localhost:8080/"
        },
        "outputId": "b610207e-35a2-4fba-a6fe-bf57a0ce2a43"
      },
      "execution_count": null,
      "outputs": [
        {
          "output_type": "execute_result",
          "data": {
            "text/plain": [
              "(16, 16)"
            ]
          },
          "metadata": {},
          "execution_count": 4
        }
      ]
    },
    {
      "cell_type": "code",
      "source": [
        "J"
      ],
      "metadata": {
        "colab": {
          "base_uri": "https://localhost:8080/"
        },
        "id": "f6dGBgqGgxHq",
        "outputId": "b1c6cebe-89bd-4c9e-caf8-b300a883d97f"
      },
      "execution_count": null,
      "outputs": [
        {
          "output_type": "execute_result",
          "data": {
            "text/plain": [
              "array([[0, 1, 0, 1, 1, 0, 0, 0, 0, 0, 0, 0, 1, 0, 0, 0],\n",
              "       [1, 0, 1, 0, 0, 1, 0, 0, 0, 0, 0, 0, 0, 1, 0, 0],\n",
              "       [0, 1, 0, 1, 0, 0, 1, 0, 0, 0, 0, 0, 0, 0, 1, 0],\n",
              "       [1, 0, 1, 0, 0, 0, 0, 1, 0, 0, 0, 0, 0, 0, 0, 1],\n",
              "       [1, 0, 0, 0, 0, 1, 0, 1, 1, 0, 0, 0, 0, 0, 0, 0],\n",
              "       [0, 1, 0, 0, 1, 0, 1, 0, 0, 1, 0, 0, 0, 0, 0, 0],\n",
              "       [0, 0, 1, 0, 0, 1, 0, 1, 0, 0, 1, 0, 0, 0, 0, 0],\n",
              "       [0, 0, 0, 1, 1, 0, 1, 0, 0, 0, 0, 1, 0, 0, 0, 0],\n",
              "       [0, 0, 0, 0, 1, 0, 0, 0, 0, 1, 0, 1, 1, 0, 0, 0],\n",
              "       [0, 0, 0, 0, 0, 1, 0, 0, 1, 0, 1, 0, 0, 1, 0, 0],\n",
              "       [0, 0, 0, 0, 0, 0, 1, 0, 0, 1, 0, 1, 0, 0, 1, 0],\n",
              "       [0, 0, 0, 0, 0, 0, 0, 1, 1, 0, 1, 0, 0, 0, 0, 1],\n",
              "       [1, 0, 0, 0, 0, 0, 0, 0, 1, 0, 0, 0, 0, 1, 0, 1],\n",
              "       [0, 1, 0, 0, 0, 0, 0, 0, 0, 1, 0, 0, 1, 0, 1, 0],\n",
              "       [0, 0, 1, 0, 0, 0, 0, 0, 0, 0, 1, 0, 0, 1, 0, 1],\n",
              "       [0, 0, 0, 1, 0, 0, 0, 0, 0, 0, 0, 1, 1, 0, 1, 0]])"
            ]
          },
          "metadata": {},
          "execution_count": 5
        }
      ]
    },
    {
      "cell_type": "code",
      "source": [
        "\n",
        "quadfun = lambda x, A: jnp.dot(x, jnp.dot(A, x))\n",
        "def get_gt_mean(J, mu):\n",
        "  dim = J.shape[1]**2\n",
        "  # b = jnp.full(dim, mu)\n",
        "  ar = jnp.array([-1., 1.])[None]\n",
        "  ar_dup = jnp.repeat(ar, p, axis=0)\n",
        "  arg = [ar_dup[i] for i in range(ar_dup.shape[0])]\n",
        "  lst = jnp.array(list(itertools.product([-1.0, 1.0], repeat=dim)))\n",
        "  print(lst.shape)\n",
        "  f = lambda x: jnp.exp(jnp.sum((x @ J * x), axis=-1) + jnp.sum(mu*x, axis=-1))\n",
        "  flst = jax.jit(f)(lst)\n",
        "  plst = flst/jnp.sum(flst)\n",
        "  gt_mean = jnp.sum(plst.reshape(-1, lst.shape[1]), axis=0)\n",
        "  return gt_mean\n",
        "\n",
        "# def get_gt_mean(J, eta, mu):\n",
        "#   dim = J.shape[1]**2\n",
        "#   lst = jnp.array(list(itertools.product([-1.0, 1.0], repeat=dim)))\n",
        "#   f = lambda x: jnp.exp(eta*jnp.sum(x @ J * x, axis=-1) + jnp.sum(mu*x, axis=-1))\n",
        "#   flst = jax.jit(f)(lst)\n",
        "#   plst = flst/jnp.sum(flst)\n",
        "\n",
        "\n",
        "def get_log_rmse(x, gt_mean):\n",
        "  x = 2. * x - 1\n",
        "  return jnp.log(jnp.sqrt(jnp.mean((x - gt_mean)**2)))\n",
        "\n",
        "def inference_loop(rng_key, kernel, initial_state, num_samples):\n",
        "  @jax.jit\n",
        "  def one_step(state, rng_key):\n",
        "    state, _ = kernel(rng_key, state)\n",
        "    return state, state\n",
        "\n",
        "  keys = jax.random.split(rng_key, num_samples)\n",
        "  _, states = jax.lax.scan(one_step, initial_state, keys)\n",
        "\n",
        "  return states\n",
        "\n",
        "\n",
        "def inference_loop_multiple_chains(rng_key, kernel, initial_state, num_samples, num_chains):\n",
        "  \n",
        "  def one_step(states, rng_key):\n",
        "    keys = jax.random.split(rng_key, num_chains)\n",
        "    states, _ = jax.vmap(kernel)(keys, states)\n",
        "    return states, states\n",
        "\n",
        "  keys = jax.random.split(rng_key, num_samples)\n",
        "  _, states = jax.lax.scan(one_step, initial_state, keys)\n",
        "\n",
        "  return states \n",
        "\n",
        "def get_ess(chain, burn_in):\n",
        "    c = chain\n",
        "    l = c.shape[0]\n",
        "    bi = int(burn_in * l)\n",
        "    c = c[bi:]\n",
        "    cv = tfp.mcmc.effective_sample_size(c)\n",
        "    cv = cv.at[jnp.isnan(cv)*1].set(1.)\n",
        "    return cv"
      ],
      "metadata": {
        "id": "6u29mWtkp9p-"
      },
      "execution_count": null,
      "outputs": []
    },
    {
      "cell_type": "code",
      "source": [
        "# gt_mean = get_gt_mean(J, mu)\n",
        "gt_mean = jnp.array([0.4800, 0.4800, 0.4800, 0.4800, 0.4800, 0.4800, 0.4800, 0.4800, 0.4800,\n",
        "        0.4800, 0.4800, 0.4800, 0.4800, 0.4800, 0.4800, 0.4800])"
      ],
      "metadata": {
        "id": "XwtDA5s5gnqe"
      },
      "execution_count": null,
      "outputs": []
    },
    {
      "cell_type": "code",
      "source": [
        "def logprob_fn(theta, J, eta, mu):\n",
        "  x = (2 * theta) - 1\n",
        "  xg = x @ J\n",
        "  xgx = jnp.sum((xg * x), axis=-1)\n",
        "  return eta*xgx + mu*jnp.sum(x)\n",
        "\n",
        "logprob = lambda x: logprob_fn(x, J, eta, mu)\n",
        "grad_fn = jax.grad(logprob)"
      ],
      "metadata": {
        "id": "kdaQseU1inAW"
      },
      "execution_count": null,
      "outputs": []
    },
    {
      "cell_type": "code",
      "source": [
        "# %autoreload\n",
        "# import blackjax\n",
        "# import distrax\n",
        "num_test = 1\n",
        "num_chains = 2\n",
        "num_samples = 10000\n",
        "step_size = 0.2\n",
        "cat_dist = tfd.Bernoulli(probs=[0.5]*p)\n",
        "init_pos = cat_dist.sample(seed=jax_prng_key()) * 1.\n",
        "init_state = blackjax.dmala.init(init_pos, logprob)\n",
        "dmala = blackjax.dmala(logprob, step_size)\n",
        "dmala_kernel = jax.jit(dmala.step)\n",
        "init_state"
      ],
      "metadata": {
        "id": "L78_2SPemFAW",
        "colab": {
          "base_uri": "https://localhost:8080/"
        },
        "outputId": "aa747529-9c29-44e7-a2fe-514d8f02dbc6"
      },
      "execution_count": null,
      "outputs": [
        {
          "output_type": "execute_result",
          "data": {
            "text/plain": [
              "MALAState(position=DeviceArray([1., 0., 1., 1., 1., 0., 0., 1., 0., 1., 1., 0., 1., 1., 0.,\n",
              "             0.], dtype=float32, weak_type=True), logprob=DeviceArray(-0.4, dtype=float32), logprob_grad=DeviceArray([ 1.2,  1.2, -0.4,  1.2,  0.4,  0.4,  1.2,  0.4,  1.2,  0.4,\n",
              "             -0.4,  0.4,  0.4,  0.4,  1.2,  0.4],            dtype=float32, weak_type=True))"
            ]
          },
          "metadata": {},
          "execution_count": 30
        }
      ]
    },
    {
      "cell_type": "code",
      "source": [
        "keys = jax.random.split(rng_key, num_samples)\n",
        "print_every = 10\n",
        "chain = np.zeros((num_samples, p))\n",
        "viz_every = 1000\n",
        "time_list = []\n",
        "times = []\n",
        "rmses = []\n",
        "mean = np.zeros(p)\n",
        "cur_time = 0.\n",
        "\n",
        "cur_state = init_state\n",
        "\n",
        "for i in range(num_samples):\n",
        "  key = keys[i]\n",
        "  st = time.time()\n",
        "  cur_state, _ = dmala_kernel(key, cur_state)\n",
        "  cur_time += time.time() - st\n",
        "\n",
        "  x = cur_state.position\n",
        "  chain[i] = x\n",
        "  mean = mean + x\n",
        "  if i % viz_every == 0:\n",
        "    time_list.append(cur_time)\n",
        "    rmse = get_log_rmse(mean / (i+1), gt_mean)\n",
        "    rmses.append(rmse)\n",
        "\n",
        "  if i % print_every == 0:\n",
        "    times.append(cur_time)\n",
        "    # print(\"=\", end=\"\")\n",
        "\n",
        "mean = mean / num_samples"
      ],
      "metadata": {
        "id": "z97PZSIn-1o8"
      },
      "execution_count": null,
      "outputs": []
    },
    {
      "cell_type": "code",
      "source": [
        "rmses"
      ],
      "metadata": {
        "colab": {
          "base_uri": "https://localhost:8080/"
        },
        "id": "Q6AnXEulE71J",
        "outputId": "ae99efe4-7818-449e-d9d4-6e16618f78a9"
      },
      "execution_count": null,
      "outputs": [
        {
          "output_type": "execute_result",
          "data": {
            "text/plain": [
              "[DeviceArray(0.05236013, dtype=float32),\n",
              " DeviceArray(-2.5134761, dtype=float32),\n",
              " DeviceArray(-2.7733402, dtype=float32),\n",
              " DeviceArray(-2.7359052, dtype=float32),\n",
              " DeviceArray(-2.8884366, dtype=float32),\n",
              " DeviceArray(-2.9066622, dtype=float32),\n",
              " DeviceArray(-2.7770133, dtype=float32),\n",
              " DeviceArray(-2.746789, dtype=float32),\n",
              " DeviceArray(-3.008416, dtype=float32),\n",
              " DeviceArray(-3.0751057, dtype=float32)]"
            ]
          },
          "metadata": {},
          "execution_count": 32
        }
      ]
    },
    {
      "cell_type": "code",
      "source": [
        "chain.shape"
      ],
      "metadata": {
        "colab": {
          "base_uri": "https://localhost:8080/"
        },
        "id": "ygtjPqBBB_sC",
        "outputId": "6ea29dc4-da6a-46a0-e73d-f37a1d7f543c"
      },
      "execution_count": null,
      "outputs": [
        {
          "output_type": "execute_result",
          "data": {
            "text/plain": [
              "(10000, 16)"
            ]
          },
          "metadata": {},
          "execution_count": 33
        }
      ]
    },
    {
      "cell_type": "code",
      "source": [
        "\n",
        "ess = get_ess(chain, 0.1)\n",
        "print(\"ess = {} +/- {}\".format(ess.mean(), ess.std()))"
      ],
      "metadata": {
        "colab": {
          "base_uri": "https://localhost:8080/"
        },
        "id": "EbjHC56FBO-i",
        "outputId": "a909da72-3ed5-4606-bc37-8076fa7fb327"
      },
      "execution_count": null,
      "outputs": [
        {
          "output_type": "stream",
          "name": "stdout",
          "text": [
            "ess = 576.8231201171875 +/- 171.40316772460938\n"
          ]
        },
        {
          "output_type": "stream",
          "name": "stderr",
          "text": [
            "/home/xabush/miniconda3/lib/python3.9/site-packages/tensorflow_probability/python/internal/backend/jax/ops.py:282: UserWarning: Explicitly requested dtype float64 requested in astype is not available, and will be truncated to dtype float32. To enable more dtypes, set the jax_enable_x64 configuration option or the JAX_ENABLE_X64 shell environment variable. See https://github.com/google/jax#current-gotchas for more.\n",
            "  return arr.astype(dtype)\n"
          ]
        }
      ]
    },
    {
      "cell_type": "code",
      "source": [
        "plt.boxplot([ess / times[-1] / (1. - 0.1)], labels=[\"dmala\"], showfliers=False)"
      ],
      "metadata": {
        "colab": {
          "base_uri": "https://localhost:8080/",
          "height": 408
        },
        "id": "rOmy48g3Fahx",
        "outputId": "19f76290-f2ef-42a1-f0e7-721a5e8d88bb"
      },
      "execution_count": null,
      "outputs": [
        {
          "output_type": "execute_result",
          "data": {
            "text/plain": [
              "{'whiskers': [<matplotlib.lines.Line2D at 0x7fa3c81e3c40>,\n",
              "  <matplotlib.lines.Line2D at 0x7fa3c81e31c0>],\n",
              " 'caps': [<matplotlib.lines.Line2D at 0x7fa3c839e610>,\n",
              "  <matplotlib.lines.Line2D at 0x7fa3c839e580>],\n",
              " 'boxes': [<matplotlib.lines.Line2D at 0x7fa3c82700d0>],\n",
              " 'medians': [<matplotlib.lines.Line2D at 0x7fa3c839e6d0>],\n",
              " 'fliers': [],\n",
              " 'means': []}"
            ]
          },
          "metadata": {},
          "execution_count": 35
        },
        {
          "output_type": "display_data",
          "data": {
            "text/plain": [
              "<Figure size 432x288 with 1 Axes>"
            ],
            "image/png": "[encoded data removed]"
          },
          "metadata": {
            "needs_background": "light"
          }
        }
      ]
    },
    {
      "cell_type": "code",
      "source": [
        "plt.plot(rmses)"
      ],
      "metadata": {
        "colab": {
          "base_uri": "https://localhost:8080/",
          "height": 283
        },
        "id": "VmZuZmsuCp4l",
        "outputId": "2b31e370-54a7-4e8b-89fb-1debe58d560a"
      },
      "execution_count": null,
      "outputs": [
        {
          "output_type": "execute_result",
          "data": {
            "text/plain": [
              "[<matplotlib.lines.Line2D at 0x7fa3e81f18b0>]"
            ]
          },
          "metadata": {},
          "execution_count": 20
        },
        {
          "output_type": "display_data",
          "data": {
            "text/plain": [
              "<Figure size 432x288 with 1 Axes>"
            ],
            "image/png": "[encoded data removed]"
          },
          "metadata": {
            "needs_background": "light"
          }
        }
      ]
    },
    {
      "cell_type": "code",
      "source": [
        "states = inference_loop(rng_key, dmala_kernel, init_state, num_samples)\n",
        "states.position.block_until_ready()\n",
        "states = blackjax.mcmc.mala.MALAState(np.squeeze(states.position).squeeze(), \n",
        "                                  states.logprob, states.logprob_grad)"
      ],
      "metadata": {
        "id": "7WJSD6_oB5aq"
      },
      "execution_count": null,
      "outputs": []
    },
    {
      "cell_type": "code",
      "source": [
        ""
      ],
      "metadata": {
        "id": "e6A5C2StEoGW"
      },
      "execution_count": null,
      "outputs": []
    },
    {
      "cell_type": "markdown",
      "source": [
        "### Experiments with Categorical Distribution"
      ],
      "metadata": {
        "id": "vUCHZ59xKeIV"
      }
    },
    {
      "cell_type": "code",
      "source": [
        "def diff_fn_multi_dim(theta, theta_delta, step_size):\n",
        "    return jax.tree_util.tree_map(lambda x_cur, x_delta, g_cur: 0.5*g_cur*(x_delta - x_cur)\n",
        "                                                          - 0.5*((x_delta - x_cur)**2)*step_size,\n",
        "                            theta.position, theta_delta.position, theta.logprob_grad)\n"
      ],
      "metadata": {
        "collapsed": true,
        "id": "vhOvkvAvpWO_"
      },
      "execution_count": null,
      "outputs": []
    },
    {
      "cell_type": "code",
      "source": [
        "def mix(A, n_out, sigma):\n",
        "    off_diag = -(jnp.ones((n_out, n_out)) - jnp.eye(n_out)) * sigma\n",
        "    diag = jnp.eye(n_out) * sigma\n",
        "    return off_diag + diag\n",
        "\n",
        "def forward(x, dim, n_out, G, bias, sigma):\n",
        "\n",
        "    assert list(x.shape[1:]) == [dim ** 2, n_out]\n",
        "    xr = x.reshape(-1, n_out)\n",
        "    print(xr.shape)\n",
        "    xr_mix = (xr @ mix(A, n_out, sigma)).reshape(x.shape[0], -1, n_out)\n",
        "    TEST = jnp.einsum(\"aik,ij->ajk\", xr_mix, G)\n",
        "    TEST2 = jnp.einsum(\"aik,aik->a\", TEST, x)\n",
        "\n",
        "    indep = jnp.sum(jnp.sum((x * bias[None]), axis=-1), axis=-1)\n",
        "    # return pairwise + indep\n",
        "    return TEST2 + indep\n",
        "\n",
        "logprob = lambda x: jnp.sum(forward(x, dim, n_out, A, bias, sigma), axis=0)\n",
        "grad_fn = jax.value_and_grad(logprob)"
      ],
      "metadata": {
        "id": "IY2b8APHWB8J"
      },
      "execution_count": null,
      "outputs": []
    },
    {
      "cell_type": "code",
      "source": [
        "import igraph as ig\n",
        "from blackjax.mcmc.diffusion import DiffusionState, overdamped_langevin\n",
        "dim = 2\n",
        "n_out = 3\n",
        "sigma = 0.1\n",
        "integrator = overdamped_langevin(grad_fn)\n",
        "g = ig.Graph.Lattice(dim=[dim, dim], circular=True)  # Boundary conditions\n",
        "A = jnp.asarray(g.get_adjacency().data)  \n",
        "bias = jnp.ones((dim**2, n_out))\n",
        "init_dist = tfd.OneHotCategorical(logits=bias)\n",
        "s1 = init_dist.sample(seed=jax_prng_key(), sample_shape=(1,)) * 1.\n",
        "s2 = init_dist.sample(seed=jax_prng_key(), sample_shape=(1,)) * 1.\n",
        "assert not jnp.allclose(s1, s2)"
      ],
      "metadata": {
        "colab": {
          "base_uri": "https://localhost:8080/"
        },
        "id": "-coKuiZHwbcD",
        "outputId": "1d9851f2-bba8-41a0-a22e-67650873d723"
      },
      "execution_count": null,
      "outputs": [
        {
          "output_type": "stream",
          "name": "stderr",
          "text": [
            "/home/xabush/miniconda3/lib/python3.9/site-packages/tensorflow_probability/python/internal/backend/jax/random_generators.py:105: UserWarning: Explicitly requested dtype <class 'jax.numpy.int64'> requested in astype is not available, and will be truncated to dtype int32. To enable more dtypes, set the jax_enable_x64 configuration option or the JAX_ENABLE_X64 shell environment variable. See https://github.com/google/jax#current-gotchas for more.\n",
            "  return np.argmax(np.expand_dims(logits, -1) + z, axis=-2).astype(dtype)\n"
          ]
        }
      ]
    },
    {
      "cell_type": "code",
      "source": [
        "\n",
        "val1, grad1 = grad_fn(s1)\n",
        "ds1 = DiffusionState(s1, val1, grad1)\n",
        "ds2 = integrator(rng_key, ds1, 1e-3)"
      ],
      "metadata": {
        "id": "QJQKwaVZ016a",
        "colab": {
          "base_uri": "https://localhost:8080/"
        },
        "outputId": "56694224-fbff-4f04-cc63-2957597e9bb8"
      },
      "execution_count": null,
      "outputs": [
        {
          "output_type": "stream",
          "name": "stdout",
          "text": [
            "(4, 3)\n",
            "(4, 3)\n",
            "(4, 3)\n"
          ]
        }
      ]
    },
    {
      "cell_type": "code",
      "source": [
        "s1"
      ],
      "metadata": {
        "colab": {
          "base_uri": "https://localhost:8080/"
        },
        "id": "4UK9S_PBbim_",
        "outputId": "b582026c-25d7-4764-dead-c1cd6f5e04ce"
      },
      "execution_count": null,
      "outputs": [
        {
          "output_type": "execute_result",
          "data": {
            "text/plain": [
              "DeviceArray([[[0., 0., 1.],\n",
              "              [0., 0., 1.],\n",
              "              [0., 1., 0.],\n",
              "              [1., 0., 0.]]], dtype=float32, weak_type=True)"
            ]
          },
          "metadata": {},
          "execution_count": 77
        }
      ]
    },
    {
      "cell_type": "code",
      "source": [
        "forward_logits = diff_fn_multi_dim(ds1, ds2, 1e-3).reshape(s1.shape[0], -1)\n",
        "cd_forward = tfd.OneHotCategorical(logits=forward_logits)\n",
        "changes = cd_forward.sample(seed=rng_key)\n",
        "changes"
      ],
      "metadata": {
        "colab": {
          "base_uri": "https://localhost:8080/"
        },
        "id": "My-iH-NiVTef",
        "outputId": "1110e06b-6a23-430b-dea5-8b8602c21513"
      },
      "execution_count": null,
      "outputs": [
        {
          "output_type": "stream",
          "name": "stderr",
          "text": [
            "/home/xabush/miniconda3/lib/python3.9/site-packages/tensorflow_probability/python/internal/backend/jax/random_generators.py:105: UserWarning: Explicitly requested dtype <class 'jax.numpy.int64'> requested in astype is not available, and will be truncated to dtype int32. To enable more dtypes, set the jax_enable_x64 configuration option or the JAX_ENABLE_X64 shell environment variable. See https://github.com/google/jax#current-gotchas for more.\n",
            "  return np.argmax(np.expand_dims(logits, -1) + z, axis=-2).astype(dtype)\n"
          ]
        },
        {
          "output_type": "execute_result",
          "data": {
            "text/plain": [
              "DeviceArray([[1, 0, 0, 0, 0, 0, 0, 0, 0, 0, 0, 0]], dtype=int32)"
            ]
          },
          "metadata": {},
          "execution_count": 89
        }
      ]
    },
    {
      "cell_type": "code",
      "source": [
        "changes_r = changes.reshape(s1.shape)\n",
        "change_ind = jnp.sum(changes_r, axis=-1)\n",
        "s2 = s1*(1. - change_ind[:,:,None]) + changes_r\n",
        "val2, grad2 = grad_fn(s2)\n",
        "ds2 = DiffusionState(s2, val2, grad2)\n",
        "reverse_logits = diff_fn_multi_dim(ds2, ds1, 1e-3).reshape(s2.shape[0], -1)\n",
        "cd_reverse = tfd.OneHotCategorical(logits=reverse_logits)\n",
        "reverse_changes = (s1 * change_ind[:,:,None]).reshape(s2.shape[0], -1)\n"
      ],
      "metadata": {
        "colab": {
          "base_uri": "https://localhost:8080/"
        },
        "id": "cvm-8OMdVyOE",
        "outputId": "534a8330-f53b-488d-acb8-5c9d6a638701"
      },
      "execution_count": null,
      "outputs": [
        {
          "output_type": "stream",
          "name": "stdout",
          "text": [
            "(4, 3)\n"
          ]
        }
      ]
    },
    {
      "cell_type": "code",
      "source": [
        "lp_forward = cd_forward.log_prob(changes)\n",
        "lp_reverse = cd_reverse.log_prob(reverse_changes)\n",
        "m_term = (jnp.squeeze(val2 - val1))\n",
        "la = jnp.exp(m_term)\n",
        "u = jax.random.uniform(jax_prng_key(), shape=(la.shape))"
      ],
      "metadata": {
        "id": "mw0QIm0iXpDE"
      },
      "execution_count": null,
      "outputs": []
    },
    {
      "cell_type": "code",
      "source": [
        "a = la > u"
      ],
      "metadata": {
        "id": "FDFz4Hpba5jg"
      },
      "execution_count": null,
      "outputs": []
    },
    {
      "cell_type": "code",
      "source": [
        "s2*a[None,None,None] + s1*(1. - a[None, None, None])"
      ],
      "metadata": {
        "colab": {
          "base_uri": "https://localhost:8080/"
        },
        "id": "QonLKfOvc6HH",
        "outputId": "f9fff416-be05-4c6b-a849-178fdc75b788"
      },
      "execution_count": null,
      "outputs": [
        {
          "output_type": "execute_result",
          "data": {
            "text/plain": [
              "DeviceArray([[[1., 0., 0.],\n",
              "              [0., 0., 1.],\n",
              "              [0., 1., 0.],\n",
              "              [1., 0., 0.]]], dtype=float32, weak_type=True)"
            ]
          },
          "metadata": {},
          "execution_count": 115
        }
      ]
    },
    {
      "cell_type": "code",
      "source": [
        "a[...,None][None][None]"
      ],
      "metadata": {
        "colab": {
          "base_uri": "https://localhost:8080/"
        },
        "id": "KFfxJ71yftTT",
        "outputId": "0c74d283-7c59-4031-d6e2-6b704b980dbc"
      },
      "execution_count": null,
      "outputs": [
        {
          "output_type": "execute_result",
          "data": {
            "text/plain": [
              "DeviceArray([[[ True]]], dtype=bool)"
            ]
          },
          "metadata": {},
          "execution_count": 121
        }
      ]
    },
    {
      "cell_type": "code",
      "source": [
        ""
      ],
      "metadata": {
        "id": "1zfWxWPvgJaX"
      },
      "execution_count": null,
      "outputs": []
    }
  ]
}