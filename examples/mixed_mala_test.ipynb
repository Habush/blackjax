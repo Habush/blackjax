{
 "cells": [
  {
   "cell_type": "code",
   "execution_count": 2,
   "metadata": {
    "colab": {
     "base_uri": "https://localhost:8080/"
    },
    "execution": {
     "iopub.execute_input": "2022-08-05T18:23:50.574849Z",
     "iopub.status.busy": "2022-08-05T18:23:50.574352Z",
     "iopub.status.idle": "2022-08-05T18:23:52.736604Z",
     "shell.execute_reply": "2022-08-05T18:23:52.735612Z",
     "shell.execute_reply.started": "2022-08-05T18:23:50.574830Z"
    },
    "id": "z2FQtrXV-6T-",
    "outputId": "445a6505-1bdf-4344-a99c-38d99692bf5c",
    "pycharm": {
     "name": "#%%\n"
    }
   },
   "outputs": [
    {
     "name": "stdout",
     "output_type": "stream",
     "text": [
      "Requirement already satisfied: jax in /usr/local/lib/python3.9/dist-packages (0.3.14)\r\n",
      "Collecting jax\r\n",
      "  Downloading jax-0.3.15.tar.gz (1.0 MB)\r\n",
      "\u001B[2K     \u001B[90m━━━━━━━━━━━━━━━━━━━━━━━━━━━━━━━━━━━━━━━━\u001B[0m \u001B[32m1.0/1.0 MB\u001B[0m \u001B[31m16.1 MB/s\u001B[0m eta \u001B[36m0:00:00\u001B[0ma \u001B[36m0:00:01\u001B[0m\r\n",
      "\u001B[?25h  Preparing metadata (setup.py) ... \u001B[?25ldone\r\n",
      "\u001B[?25hRequirement already satisfied: absl-py in /usr/local/lib/python3.9/dist-packages (from jax) (1.1.0)\r\n",
      "Requirement already satisfied: numpy>=1.19 in /usr/local/lib/python3.9/dist-packages (from jax) (1.23.1)\r\n",
      "Requirement already satisfied: opt_einsum in /usr/local/lib/python3.9/dist-packages (from jax) (3.3.0)\r\n",
      "Requirement already satisfied: scipy>=1.5 in /usr/local/lib/python3.9/dist-packages (from jax) (1.8.1)\r\n",
      "Requirement already satisfied: typing_extensions in /usr/local/lib/python3.9/dist-packages (from jax) (4.3.0)\r\n",
      "Requirement already satisfied: etils[epath] in /usr/local/lib/python3.9/dist-packages (from jax) (0.6.0)\r\n",
      "Requirement already satisfied: zipp in /usr/local/lib/python3.9/dist-packages (from etils[epath]->jax) (3.8.1)\r\n",
      "Requirement already satisfied: importlib_resources in /usr/local/lib/python3.9/dist-packages (from etils[epath]->jax) (5.8.0)\r\n",
      "Building wheels for collected packages: jax\r\n",
      "  Building wheel for jax (setup.py) ... \u001B[?25ldone\r\n",
      "\u001B[?25h  Created wheel for jax: filename=jax-0.3.15-py3-none-any.whl size=1201903 sha256=78c8b66e32251aad1df57a7feca6fdde9131e78747cd9c24bfbd0ec4d5d0d503\r\n",
      "  Stored in directory: /root/.cache/pip/wheels/59/9d/cb/21506ed546ffa6e339e75a0bb7500d363d68349a89f9c5a080\r\n",
      "Successfully built jax\r\n",
      "Installing collected packages: jax\r\n",
      "  Attempting uninstall: jax\r\n",
      "    Found existing installation: jax 0.3.14\r\n",
      "    Uninstalling jax-0.3.14:\r\n",
      "      Successfully uninstalled jax-0.3.14\r\n",
      "Successfully installed jax-0.3.15\r\n",
      "\u001B[33mWARNING: Running pip as the 'root' user can result in broken permissions and conflicting behaviour with the system package manager. It is recommended to use a virtual environment instead: https://pip.pypa.io/warnings/venv\u001B[0m\u001B[33m\r\n",
      "\u001B[0mCollecting distrax\r\n",
      "  Downloading distrax-0.1.2-py3-none-any.whl (272 kB)\r\n",
      "\u001B[2K     \u001B[90m━━━━━━━━━━━━━━━━━━━━━━━━━━━━━━━━━━━━━━\u001B[0m \u001B[32m272.0/272.0 kB\u001B[0m \u001B[31m19.1 MB/s\u001B[0m eta \u001B[36m0:00:00\u001B[0m\r\n",
      "\u001B[?25hCollecting tensorflow-probability>=0.15.0\r\n",
      "  Downloading tensorflow_probability-0.17.0-py2.py3-none-any.whl (6.5 MB)\r\n",
      "\u001B[2K     \u001B[90m━━━━━━━━━━━━━━━━━━━━━━━━━━━━━━━━━━━━━━━━\u001B[0m \u001B[32m6.5/6.5 MB\u001B[0m \u001B[31m21.1 MB/s\u001B[0m eta \u001B[36m0:00:00\u001B[0m00:01\u001B[0m00:01\u001B[0m\r\n",
      "\u001B[?25hRequirement already satisfied: numpy>=1.18.0 in /usr/local/lib/python3.9/dist-packages (from distrax) (1.23.1)\r\n",
      "Requirement already satisfied: jax>=0.1.55 in /usr/local/lib/python3.9/dist-packages (from distrax) (0.3.15)\r\n",
      "Requirement already satisfied: absl-py>=0.9.0 in /usr/local/lib/python3.9/dist-packages (from distrax) (1.1.0)\r\n",
      "Collecting chex>=0.0.7\r\n",
      "  Downloading chex-0.1.4-py3-none-any.whl (76 kB)\r\n",
      "\u001B[2K     \u001B[90m━━━━━━━━━━━━━━━━━━━━━━━━━━━━━━━━━━━━━━━━\u001B[0m \u001B[32m76.7/76.7 kB\u001B[0m \u001B[31m21.6 MB/s\u001B[0m eta \u001B[36m0:00:00\u001B[0m\r\n",
      "\u001B[?25hRequirement already satisfied: jaxlib>=0.1.67 in /usr/local/lib/python3.9/dist-packages (from distrax) (0.3.8+cuda11.cudnn82)\r\n",
      "Collecting toolz>=0.9.0\r\n",
      "  Downloading toolz-0.12.0-py3-none-any.whl (55 kB)\r\n",
      "\u001B[2K     \u001B[90m━━━━━━━━━━━━━━━━━━━━━━━━━━━━━━━━━━━━━━━━\u001B[0m \u001B[32m55.8/55.8 kB\u001B[0m \u001B[31m15.9 MB/s\u001B[0m eta \u001B[36m0:00:00\u001B[0m\r\n",
      "\u001B[?25hCollecting dm-tree>=0.1.5\r\n",
      "  Downloading dm_tree-0.1.7-cp39-cp39-manylinux_2_12_x86_64.manylinux2010_x86_64.whl (142 kB)\r\n",
      "\u001B[2K     \u001B[90m━━━━━━━━━━━━━━━━━━━━━━━━━━━━━━━━━━━━━━\u001B[0m \u001B[32m142.7/142.7 kB\u001B[0m \u001B[31m22.5 MB/s\u001B[0m eta \u001B[36m0:00:00\u001B[0m\r\n",
      "\u001B[?25hRequirement already satisfied: opt-einsum in /usr/local/lib/python3.9/dist-packages (from jax>=0.1.55->distrax) (3.3.0)\r\n",
      "Requirement already satisfied: scipy>=1.5 in /usr/local/lib/python3.9/dist-packages (from jax>=0.1.55->distrax) (1.8.1)\r\n",
      "Requirement already satisfied: etils[epath] in /usr/local/lib/python3.9/dist-packages (from jax>=0.1.55->distrax) (0.6.0)\r\n",
      "Requirement already satisfied: typing-extensions in /usr/local/lib/python3.9/dist-packages (from jax>=0.1.55->distrax) (4.3.0)\r\n",
      "Requirement already satisfied: flatbuffers<3.0,>=1.12 in /usr/local/lib/python3.9/dist-packages (from jaxlib>=0.1.67->distrax) (1.12)\r\n",
      "Requirement already satisfied: six>=1.10.0 in /usr/lib/python3/dist-packages (from tensorflow-probability>=0.15.0->distrax) (1.14.0)\r\n",
      "Requirement already satisfied: decorator in /usr/local/lib/python3.9/dist-packages (from tensorflow-probability>=0.15.0->distrax) (5.1.1)\r\n",
      "Requirement already satisfied: gast>=0.3.2 in /usr/local/lib/python3.9/dist-packages (from tensorflow-probability>=0.15.0->distrax) (0.4.0)\r\n",
      "Requirement already satisfied: cloudpickle>=1.3 in /usr/local/lib/python3.9/dist-packages (from tensorflow-probability>=0.15.0->distrax) (2.1.0)\r\n",
      "Requirement already satisfied: importlib_resources in /usr/local/lib/python3.9/dist-packages (from etils[epath]->jax>=0.1.55->distrax) (5.8.0)\r\n",
      "Requirement already satisfied: zipp in /usr/local/lib/python3.9/dist-packages (from etils[epath]->jax>=0.1.55->distrax) (3.8.1)\r\n",
      "Installing collected packages: dm-tree, toolz, tensorflow-probability, chex, distrax\r\n",
      "Successfully installed chex-0.1.4 distrax-0.1.2 dm-tree-0.1.7 tensorflow-probability-0.17.0 toolz-0.12.0\r\n",
      "\u001B[33mWARNING: Running pip as the 'root' user can result in broken permissions and conflicting behaviour with the system package manager. It is recommended to use a virtual environment instead: https://pip.pypa.io/warnings/venv\u001B[0m\u001B[33m\r\n",
      "\u001B[0mRequirement already satisfied: tensorflow in /usr/local/lib/python3.9/dist-packages (2.9.1)\r\n",
      "Requirement already satisfied: protobuf<3.20,>=3.9.2 in /usr/local/lib/python3.9/dist-packages (from tensorflow) (3.19.4)\r\n",
      "Requirement already satisfied: termcolor>=1.1.0 in /usr/local/lib/python3.9/dist-packages (from tensorflow) (1.1.0)\r\n",
      "Requirement already satisfied: typing-extensions>=3.6.6 in /usr/local/lib/python3.9/dist-packages (from tensorflow) (4.3.0)\r\n",
      "Requirement already satisfied: gast<=0.4.0,>=0.2.1 in /usr/local/lib/python3.9/dist-packages (from tensorflow) (0.4.0)\r\n",
      "Requirement already satisfied: wrapt>=1.11.0 in /usr/local/lib/python3.9/dist-packages (from tensorflow) (1.14.1)\r\n",
      "Requirement already satisfied: six>=1.12.0 in /usr/lib/python3/dist-packages (from tensorflow) (1.14.0)\r\n",
      "Requirement already satisfied: tensorboard<2.10,>=2.9 in /usr/local/lib/python3.9/dist-packages (from tensorflow) (2.9.1)\r\n",
      "Requirement already satisfied: opt-einsum>=2.3.2 in /usr/local/lib/python3.9/dist-packages (from tensorflow) (3.3.0)\r\n",
      "Requirement already satisfied: libclang>=13.0.0 in /usr/local/lib/python3.9/dist-packages (from tensorflow) (14.0.1)\r\n",
      "Requirement already satisfied: h5py>=2.9.0 in /usr/local/lib/python3.9/dist-packages (from tensorflow) (3.7.0)\r\n",
      "Requirement already satisfied: astunparse>=1.6.0 in /usr/local/lib/python3.9/dist-packages (from tensorflow) (1.6.3)\r\n",
      "Requirement already satisfied: tensorflow-estimator<2.10.0,>=2.9.0rc0 in /usr/local/lib/python3.9/dist-packages (from tensorflow) (2.9.0)\r\n",
      "Requirement already satisfied: packaging in /usr/local/lib/python3.9/dist-packages (from tensorflow) (21.3)\r\n",
      "Requirement already satisfied: tensorflow-io-gcs-filesystem>=0.23.1 in /usr/local/lib/python3.9/dist-packages (from tensorflow) (0.26.0)\r\n",
      "Requirement already satisfied: keras<2.10.0,>=2.9.0rc0 in /usr/local/lib/python3.9/dist-packages (from tensorflow) (2.9.0)\r\n",
      "Requirement already satisfied: flatbuffers<2,>=1.12 in /usr/local/lib/python3.9/dist-packages (from tensorflow) (1.12)\r\n",
      "Requirement already satisfied: google-pasta>=0.1.1 in /usr/local/lib/python3.9/dist-packages (from tensorflow) (0.2.0)\r\n",
      "Requirement already satisfied: keras-preprocessing>=1.1.1 in /usr/local/lib/python3.9/dist-packages (from tensorflow) (1.1.2)\r\n",
      "Requirement already satisfied: absl-py>=1.0.0 in /usr/local/lib/python3.9/dist-packages (from tensorflow) (1.1.0)\r\n",
      "Requirement already satisfied: numpy>=1.20 in /usr/local/lib/python3.9/dist-packages (from tensorflow) (1.23.1)\r\n",
      "Requirement already satisfied: grpcio<2.0,>=1.24.3 in /usr/local/lib/python3.9/dist-packages (from tensorflow) (1.47.0)\r\n",
      "Requirement already satisfied: setuptools in /usr/local/lib/python3.9/dist-packages (from tensorflow) (63.1.0)\r\n",
      "Requirement already satisfied: wheel<1.0,>=0.23.0 in /usr/local/lib/python3.9/dist-packages (from astunparse>=1.6.0->tensorflow) (0.35.1)\r\n",
      "Requirement already satisfied: tensorboard-data-server<0.7.0,>=0.6.0 in /usr/local/lib/python3.9/dist-packages (from tensorboard<2.10,>=2.9->tensorflow) (0.6.1)\r\n",
      "Requirement already satisfied: requests<3,>=2.21.0 in /usr/local/lib/python3.9/dist-packages (from tensorboard<2.10,>=2.9->tensorflow) (2.28.1)\r\n",
      "Requirement already satisfied: google-auth-oauthlib<0.5,>=0.4.1 in /usr/local/lib/python3.9/dist-packages (from tensorboard<2.10,>=2.9->tensorflow) (0.4.6)\r\n",
      "Requirement already satisfied: tensorboard-plugin-wit>=1.6.0 in /usr/local/lib/python3.9/dist-packages (from tensorboard<2.10,>=2.9->tensorflow) (1.8.1)\r\n",
      "Requirement already satisfied: markdown>=2.6.8 in /usr/local/lib/python3.9/dist-packages (from tensorboard<2.10,>=2.9->tensorflow) (3.3.7)\r\n",
      "Requirement already satisfied: google-auth<3,>=1.6.3 in /usr/local/lib/python3.9/dist-packages (from tensorboard<2.10,>=2.9->tensorflow) (2.9.0)\r\n",
      "Requirement already satisfied: werkzeug>=1.0.1 in /usr/local/lib/python3.9/dist-packages (from tensorboard<2.10,>=2.9->tensorflow) (2.1.2)\r\n",
      "Requirement already satisfied: pyparsing!=3.0.5,>=2.0.2 in /usr/local/lib/python3.9/dist-packages (from packaging->tensorflow) (3.0.9)\r\n",
      "Requirement already satisfied: rsa<5,>=3.1.4 in /usr/lib/python3/dist-packages (from google-auth<3,>=1.6.3->tensorboard<2.10,>=2.9->tensorflow) (4.0)\r\n",
      "Requirement already satisfied: cachetools<6.0,>=2.0.0 in /usr/local/lib/python3.9/dist-packages (from google-auth<3,>=1.6.3->tensorboard<2.10,>=2.9->tensorflow) (5.2.0)\r\n",
      "Requirement already satisfied: pyasn1-modules>=0.2.1 in /usr/local/lib/python3.9/dist-packages (from google-auth<3,>=1.6.3->tensorboard<2.10,>=2.9->tensorflow) (0.2.8)\r\n",
      "Requirement already satisfied: requests-oauthlib>=0.7.0 in /usr/local/lib/python3.9/dist-packages (from google-auth-oauthlib<0.5,>=0.4.1->tensorboard<2.10,>=2.9->tensorflow) (1.3.1)\r\n",
      "Requirement already satisfied: importlib-metadata>=4.4 in /usr/local/lib/python3.9/dist-packages (from markdown>=2.6.8->tensorboard<2.10,>=2.9->tensorflow) (4.12.0)\r\n",
      "Requirement already satisfied: certifi>=2017.4.17 in /usr/lib/python3/dist-packages (from requests<3,>=2.21.0->tensorboard<2.10,>=2.9->tensorflow) (2019.11.28)\r\n",
      "Requirement already satisfied: idna<4,>=2.5 in /usr/lib/python3/dist-packages (from requests<3,>=2.21.0->tensorboard<2.10,>=2.9->tensorflow) (2.8)\r\n",
      "Requirement already satisfied: urllib3<1.27,>=1.21.1 in /usr/local/lib/python3.9/dist-packages (from requests<3,>=2.21.0->tensorboard<2.10,>=2.9->tensorflow) (1.26.10)\r\n",
      "Requirement already satisfied: charset-normalizer<3,>=2 in /usr/local/lib/python3.9/dist-packages (from requests<3,>=2.21.0->tensorboard<2.10,>=2.9->tensorflow) (2.1.0)\r\n",
      "Requirement already satisfied: zipp>=0.5 in /usr/local/lib/python3.9/dist-packages (from importlib-metadata>=4.4->markdown>=2.6.8->tensorboard<2.10,>=2.9->tensorflow) (3.8.1)\r\n",
      "Requirement already satisfied: pyasn1<0.5.0,>=0.4.6 in /usr/local/lib/python3.9/dist-packages (from pyasn1-modules>=0.2.1->google-auth<3,>=1.6.3->tensorboard<2.10,>=2.9->tensorflow) (0.4.8)\r\n",
      "Requirement already satisfied: oauthlib>=3.0.0 in /usr/local/lib/python3.9/dist-packages (from requests-oauthlib>=0.7.0->google-auth-oauthlib<0.5,>=0.4.1->tensorboard<2.10,>=2.9->tensorflow) (3.2.0)\r\n",
      "\u001B[33mWARNING: Running pip as the 'root' user can result in broken permissions and conflicting behaviour with the system package manager. It is recommended to use a virtual environment instead: https://pip.pypa.io/warnings/venv\u001B[0m\u001B[33m\r\n",
      "\u001B[0mRequirement already satisfied: tensorflow-probability in /usr/local/lib/python3.9/dist-packages (0.17.0)\r\n",
      "Requirement already satisfied: cloudpickle>=1.3 in /usr/local/lib/python3.9/dist-packages (from tensorflow-probability) (2.1.0)\r\n",
      "Requirement already satisfied: decorator in /usr/local/lib/python3.9/dist-packages (from tensorflow-probability) (5.1.1)\r\n",
      "Requirement already satisfied: dm-tree in /usr/local/lib/python3.9/dist-packages (from tensorflow-probability) (0.1.7)\r\n",
      "Requirement already satisfied: numpy>=1.13.3 in /usr/local/lib/python3.9/dist-packages (from tensorflow-probability) (1.23.1)\r\n",
      "Requirement already satisfied: six>=1.10.0 in /usr/lib/python3/dist-packages (from tensorflow-probability) (1.14.0)\r\n",
      "Requirement already satisfied: gast>=0.3.2 in /usr/local/lib/python3.9/dist-packages (from tensorflow-probability) (0.4.0)\r\n",
      "Requirement already satisfied: absl-py in /usr/local/lib/python3.9/dist-packages (from tensorflow-probability) (1.1.0)\r\n",
      "\u001B[33mWARNING: Running pip as the 'root' user can result in broken permissions and conflicting behaviour with the system package manager. It is recommended to use a virtual environment instead: https://pip.pypa.io/warnings/venv\u001B[0m\u001B[33m\r\n",
      "\u001B[0mCollecting optax\r\n",
      "  Downloading optax-0.1.3-py3-none-any.whl (145 kB)\r\n",
      "\u001B[2K     \u001B[90m━━━━━━━━━━━━━━━━━━━━━━━━━━━━━━━━━━━━━━\u001B[0m \u001B[32m145.1/145.1 kB\u001B[0m \u001B[31m12.1 MB/s\u001B[0m eta \u001B[36m0:00:00\u001B[0m\r\n",
      "\u001B[?25hRequirement already satisfied: typing-extensions>=3.10.0 in /usr/local/lib/python3.9/dist-packages (from optax) (4.3.0)\r\n",
      "Requirement already satisfied: absl-py>=0.7.1 in /usr/local/lib/python3.9/dist-packages (from optax) (1.1.0)\r\n",
      "Requirement already satisfied: numpy>=1.18.0 in /usr/local/lib/python3.9/dist-packages (from optax) (1.23.1)\r\n",
      "Requirement already satisfied: chex>=0.0.4 in /usr/local/lib/python3.9/dist-packages (from optax) (0.1.4)\r\n",
      "Requirement already satisfied: jax>=0.1.55 in /usr/local/lib/python3.9/dist-packages (from optax) (0.3.15)\r\n",
      "Requirement already satisfied: jaxlib>=0.1.37 in /usr/local/lib/python3.9/dist-packages (from optax) (0.3.8+cuda11.cudnn82)\r\n",
      "Requirement already satisfied: dm-tree>=0.1.5 in /usr/local/lib/python3.9/dist-packages (from chex>=0.0.4->optax) (0.1.7)\r\n",
      "Requirement already satisfied: toolz>=0.9.0 in /usr/local/lib/python3.9/dist-packages (from chex>=0.0.4->optax) (0.12.0)\r\n",
      "Requirement already satisfied: etils[epath] in /usr/local/lib/python3.9/dist-packages (from jax>=0.1.55->optax) (0.6.0)\r\n",
      "Requirement already satisfied: scipy>=1.5 in /usr/local/lib/python3.9/dist-packages (from jax>=0.1.55->optax) (1.8.1)\r\n",
      "Requirement already satisfied: opt-einsum in /usr/local/lib/python3.9/dist-packages (from jax>=0.1.55->optax) (3.3.0)\r\n",
      "Requirement already satisfied: flatbuffers<3.0,>=1.12 in /usr/local/lib/python3.9/dist-packages (from jaxlib>=0.1.37->optax) (1.12)\r\n",
      "Requirement already satisfied: importlib_resources in /usr/local/lib/python3.9/dist-packages (from etils[epath]->jax>=0.1.55->optax) (5.8.0)\r\n",
      "Requirement already satisfied: zipp in /usr/local/lib/python3.9/dist-packages (from etils[epath]->jax>=0.1.55->optax) (3.8.1)\r\n",
      "Installing collected packages: optax\r\n",
      "Successfully installed optax-0.1.3\r\n",
      "\u001B[33mWARNING: Running pip as the 'root' user can result in broken permissions and conflicting behaviour with the system package manager. It is recommended to use a virtual environment instead: https://pip.pypa.io/warnings/venv\u001B[0m\u001B[33m\r\n",
      "\u001B[0mRequirement already satisfied: jax in /usr/local/lib/python3.9/dist-packages (0.3.15)\r\n",
      "Requirement already satisfied: numpy>=1.19 in /usr/local/lib/python3.9/dist-packages (from jax) (1.23.1)\r\n",
      "Requirement already satisfied: opt-einsum in /usr/local/lib/python3.9/dist-packages (from jax) (3.3.0)\r\n",
      "Requirement already satisfied: absl-py in /usr/local/lib/python3.9/dist-packages (from jax) (1.1.0)\r\n",
      "Requirement already satisfied: typing-extensions in /usr/local/lib/python3.9/dist-packages (from jax) (4.3.0)\r\n",
      "Requirement already satisfied: scipy>=1.5 in /usr/local/lib/python3.9/dist-packages (from jax) (1.8.1)\r\n",
      "Requirement already satisfied: etils[epath] in /usr/local/lib/python3.9/dist-packages (from jax) (0.6.0)\r\n",
      "Requirement already satisfied: zipp in /usr/local/lib/python3.9/dist-packages (from etils[epath]->jax) (3.8.1)\r\n",
      "Requirement already satisfied: importlib_resources in /usr/local/lib/python3.9/dist-packages (from etils[epath]->jax) (5.8.0)\r\n",
      "\u001B[33mWARNING: Running pip as the 'root' user can result in broken permissions and conflicting behaviour with the system package manager. It is recommended to use a virtual environment instead: https://pip.pypa.io/warnings/venv\u001B[0m\u001B[33m\r\n",
      "\u001B[0mRequirement already satisfied: distrax in /usr/local/lib/python3.9/dist-packages (0.1.2)\r\n",
      "Requirement already satisfied: absl-py>=0.9.0 in /usr/local/lib/python3.9/dist-packages (from distrax) (1.1.0)\r\n",
      "Requirement already satisfied: jax>=0.1.55 in /usr/local/lib/python3.9/dist-packages (from distrax) (0.3.15)\r\n",
      "Requirement already satisfied: jaxlib>=0.1.67 in /usr/local/lib/python3.9/dist-packages (from distrax) (0.3.8+cuda11.cudnn82)\r\n",
      "Requirement already satisfied: numpy>=1.18.0 in /usr/local/lib/python3.9/dist-packages (from distrax) (1.23.1)\r\n",
      "Requirement already satisfied: tensorflow-probability>=0.15.0 in /usr/local/lib/python3.9/dist-packages (from distrax) (0.17.0)\r\n",
      "Requirement already satisfied: chex>=0.0.7 in /usr/local/lib/python3.9/dist-packages (from distrax) (0.1.4)\r\n",
      "Requirement already satisfied: toolz>=0.9.0 in /usr/local/lib/python3.9/dist-packages (from chex>=0.0.7->distrax) (0.12.0)\r\n",
      "Requirement already satisfied: dm-tree>=0.1.5 in /usr/local/lib/python3.9/dist-packages (from chex>=0.0.7->distrax) (0.1.7)\r\n",
      "Requirement already satisfied: scipy>=1.5 in /usr/local/lib/python3.9/dist-packages (from jax>=0.1.55->distrax) (1.8.1)\r\n",
      "Requirement already satisfied: typing-extensions in /usr/local/lib/python3.9/dist-packages (from jax>=0.1.55->distrax) (4.3.0)\r\n",
      "Requirement already satisfied: etils[epath] in /usr/local/lib/python3.9/dist-packages (from jax>=0.1.55->distrax) (0.6.0)\r\n",
      "Requirement already satisfied: opt-einsum in /usr/local/lib/python3.9/dist-packages (from jax>=0.1.55->distrax) (3.3.0)\r\n",
      "Requirement already satisfied: flatbuffers<3.0,>=1.12 in /usr/local/lib/python3.9/dist-packages (from jaxlib>=0.1.67->distrax) (1.12)\r\n",
      "Requirement already satisfied: six>=1.10.0 in /usr/lib/python3/dist-packages (from tensorflow-probability>=0.15.0->distrax) (1.14.0)\r\n",
      "Requirement already satisfied: cloudpickle>=1.3 in /usr/local/lib/python3.9/dist-packages (from tensorflow-probability>=0.15.0->distrax) (2.1.0)\r\n",
      "Requirement already satisfied: decorator in /usr/local/lib/python3.9/dist-packages (from tensorflow-probability>=0.15.0->distrax) (5.1.1)\r\n",
      "Requirement already satisfied: gast>=0.3.2 in /usr/local/lib/python3.9/dist-packages (from tensorflow-probability>=0.15.0->distrax) (0.4.0)\r\n",
      "Requirement already satisfied: importlib_resources in /usr/local/lib/python3.9/dist-packages (from etils[epath]->jax>=0.1.55->distrax) (5.8.0)\r\n",
      "Requirement already satisfied: zipp in /usr/local/lib/python3.9/dist-packages (from etils[epath]->jax>=0.1.55->distrax) (3.8.1)\r\n",
      "\u001B[33mWARNING: Running pip as the 'root' user can result in broken permissions and conflicting behaviour with the system package manager. It is recommended to use a virtual environment instead: https://pip.pypa.io/warnings/venv\u001B[0m\u001B[33m\r\n",
      "\u001B[0mRequirement already satisfied: tensorflow in /usr/local/lib/python3.9/dist-packages (2.9.1)\r\n",
      "Requirement already satisfied: flatbuffers<2,>=1.12 in /usr/local/lib/python3.9/dist-packages (from tensorflow) (1.12)\r\n",
      "Requirement already satisfied: opt-einsum>=2.3.2 in /usr/local/lib/python3.9/dist-packages (from tensorflow) (3.3.0)\r\n",
      "Requirement already satisfied: grpcio<2.0,>=1.24.3 in /usr/local/lib/python3.9/dist-packages (from tensorflow) (1.47.0)\r\n",
      "Requirement already satisfied: h5py>=2.9.0 in /usr/local/lib/python3.9/dist-packages (from tensorflow) (3.7.0)\r\n",
      "Requirement already satisfied: numpy>=1.20 in /usr/local/lib/python3.9/dist-packages (from tensorflow) (1.23.1)\r\n",
      "Requirement already satisfied: google-pasta>=0.1.1 in /usr/local/lib/python3.9/dist-packages (from tensorflow) (0.2.0)\r\n",
      "Requirement already satisfied: wrapt>=1.11.0 in /usr/local/lib/python3.9/dist-packages (from tensorflow) (1.14.1)\r\n",
      "Requirement already satisfied: setuptools in /usr/local/lib/python3.9/dist-packages (from tensorflow) (63.1.0)\r\n",
      "Requirement already satisfied: typing-extensions>=3.6.6 in /usr/local/lib/python3.9/dist-packages (from tensorflow) (4.3.0)\r\n",
      "Requirement already satisfied: astunparse>=1.6.0 in /usr/local/lib/python3.9/dist-packages (from tensorflow) (1.6.3)\r\n",
      "Requirement already satisfied: libclang>=13.0.0 in /usr/local/lib/python3.9/dist-packages (from tensorflow) (14.0.1)\r\n",
      "Requirement already satisfied: protobuf<3.20,>=3.9.2 in /usr/local/lib/python3.9/dist-packages (from tensorflow) (3.19.4)\r\n",
      "Requirement already satisfied: keras-preprocessing>=1.1.1 in /usr/local/lib/python3.9/dist-packages (from tensorflow) (1.1.2)\r\n",
      "Requirement already satisfied: tensorboard<2.10,>=2.9 in /usr/local/lib/python3.9/dist-packages (from tensorflow) (2.9.1)\r\n",
      "Requirement already satisfied: tensorflow-io-gcs-filesystem>=0.23.1 in /usr/local/lib/python3.9/dist-packages (from tensorflow) (0.26.0)\r\n",
      "Requirement already satisfied: keras<2.10.0,>=2.9.0rc0 in /usr/local/lib/python3.9/dist-packages (from tensorflow) (2.9.0)\r\n",
      "Requirement already satisfied: packaging in /usr/local/lib/python3.9/dist-packages (from tensorflow) (21.3)\r\n",
      "Requirement already satisfied: termcolor>=1.1.0 in /usr/local/lib/python3.9/dist-packages (from tensorflow) (1.1.0)\r\n",
      "Requirement already satisfied: gast<=0.4.0,>=0.2.1 in /usr/local/lib/python3.9/dist-packages (from tensorflow) (0.4.0)\r\n",
      "Requirement already satisfied: tensorflow-estimator<2.10.0,>=2.9.0rc0 in /usr/local/lib/python3.9/dist-packages (from tensorflow) (2.9.0)\r\n",
      "Requirement already satisfied: absl-py>=1.0.0 in /usr/local/lib/python3.9/dist-packages (from tensorflow) (1.1.0)\r\n",
      "Requirement already satisfied: six>=1.12.0 in /usr/lib/python3/dist-packages (from tensorflow) (1.14.0)\r\n",
      "Requirement already satisfied: wheel<1.0,>=0.23.0 in /usr/local/lib/python3.9/dist-packages (from astunparse>=1.6.0->tensorflow) (0.35.1)\r\n",
      "Requirement already satisfied: requests<3,>=2.21.0 in /usr/local/lib/python3.9/dist-packages (from tensorboard<2.10,>=2.9->tensorflow) (2.28.1)\r\n",
      "Requirement already satisfied: tensorboard-plugin-wit>=1.6.0 in /usr/local/lib/python3.9/dist-packages (from tensorboard<2.10,>=2.9->tensorflow) (1.8.1)\r\n",
      "Requirement already satisfied: markdown>=2.6.8 in /usr/local/lib/python3.9/dist-packages (from tensorboard<2.10,>=2.9->tensorflow) (3.3.7)\r\n",
      "Requirement already satisfied: google-auth<3,>=1.6.3 in /usr/local/lib/python3.9/dist-packages (from tensorboard<2.10,>=2.9->tensorflow) (2.9.0)\r\n",
      "Requirement already satisfied: google-auth-oauthlib<0.5,>=0.4.1 in /usr/local/lib/python3.9/dist-packages (from tensorboard<2.10,>=2.9->tensorflow) (0.4.6)\r\n",
      "Requirement already satisfied: tensorboard-data-server<0.7.0,>=0.6.0 in /usr/local/lib/python3.9/dist-packages (from tensorboard<2.10,>=2.9->tensorflow) (0.6.1)\r\n",
      "Requirement already satisfied: werkzeug>=1.0.1 in /usr/local/lib/python3.9/dist-packages (from tensorboard<2.10,>=2.9->tensorflow) (2.1.2)\r\n",
      "Requirement already satisfied: pyparsing!=3.0.5,>=2.0.2 in /usr/local/lib/python3.9/dist-packages (from packaging->tensorflow) (3.0.9)\r\n",
      "Requirement already satisfied: cachetools<6.0,>=2.0.0 in /usr/local/lib/python3.9/dist-packages (from google-auth<3,>=1.6.3->tensorboard<2.10,>=2.9->tensorflow) (5.2.0)\r\n",
      "Requirement already satisfied: rsa<5,>=3.1.4 in /usr/lib/python3/dist-packages (from google-auth<3,>=1.6.3->tensorboard<2.10,>=2.9->tensorflow) (4.0)\r\n",
      "Requirement already satisfied: pyasn1-modules>=0.2.1 in /usr/local/lib/python3.9/dist-packages (from google-auth<3,>=1.6.3->tensorboard<2.10,>=2.9->tensorflow) (0.2.8)\r\n",
      "Requirement already satisfied: requests-oauthlib>=0.7.0 in /usr/local/lib/python3.9/dist-packages (from google-auth-oauthlib<0.5,>=0.4.1->tensorboard<2.10,>=2.9->tensorflow) (1.3.1)\r\n",
      "Requirement already satisfied: importlib-metadata>=4.4 in /usr/local/lib/python3.9/dist-packages (from markdown>=2.6.8->tensorboard<2.10,>=2.9->tensorflow) (4.12.0)\r\n",
      "Requirement already satisfied: charset-normalizer<3,>=2 in /usr/local/lib/python3.9/dist-packages (from requests<3,>=2.21.0->tensorboard<2.10,>=2.9->tensorflow) (2.1.0)\r\n",
      "Requirement already satisfied: urllib3<1.27,>=1.21.1 in /usr/local/lib/python3.9/dist-packages (from requests<3,>=2.21.0->tensorboard<2.10,>=2.9->tensorflow) (1.26.10)\r\n",
      "Requirement already satisfied: certifi>=2017.4.17 in /usr/lib/python3/dist-packages (from requests<3,>=2.21.0->tensorboard<2.10,>=2.9->tensorflow) (2019.11.28)\r\n",
      "Requirement already satisfied: idna<4,>=2.5 in /usr/lib/python3/dist-packages (from requests<3,>=2.21.0->tensorboard<2.10,>=2.9->tensorflow) (2.8)\r\n",
      "Requirement already satisfied: zipp>=0.5 in /usr/local/lib/python3.9/dist-packages (from importlib-metadata>=4.4->markdown>=2.6.8->tensorboard<2.10,>=2.9->tensorflow) (3.8.1)\r\n",
      "Requirement already satisfied: pyasn1<0.5.0,>=0.4.6 in /usr/local/lib/python3.9/dist-packages (from pyasn1-modules>=0.2.1->google-auth<3,>=1.6.3->tensorboard<2.10,>=2.9->tensorflow) (0.4.8)\r\n",
      "Requirement already satisfied: oauthlib>=3.0.0 in /usr/local/lib/python3.9/dist-packages (from requests-oauthlib>=0.7.0->google-auth-oauthlib<0.5,>=0.4.1->tensorboard<2.10,>=2.9->tensorflow) (3.2.0)\r\n",
      "\u001B[33mWARNING: Running pip as the 'root' user can result in broken permissions and conflicting behaviour with the system package manager. It is recommended to use a virtual environment instead: https://pip.pypa.io/warnings/venv\u001B[0m\u001B[33m\r\n",
      "\u001B[0mRequirement already satisfied: tensorflow-probability in /usr/local/lib/python3.9/dist-packages (0.17.0)\r\n",
      "Requirement already satisfied: numpy>=1.13.3 in /usr/local/lib/python3.9/dist-packages (from tensorflow-probability) (1.23.1)\r\n",
      "Requirement already satisfied: dm-tree in /usr/local/lib/python3.9/dist-packages (from tensorflow-probability) (0.1.7)\r\n",
      "Requirement already satisfied: decorator in /usr/local/lib/python3.9/dist-packages (from tensorflow-probability) (5.1.1)\r\n",
      "Requirement already satisfied: gast>=0.3.2 in /usr/local/lib/python3.9/dist-packages (from tensorflow-probability) (0.4.0)\r\n",
      "Requirement already satisfied: cloudpickle>=1.3 in /usr/local/lib/python3.9/dist-packages (from tensorflow-probability) (2.1.0)\r\n",
      "Requirement already satisfied: six>=1.10.0 in /usr/lib/python3/dist-packages (from tensorflow-probability) (1.14.0)\r\n",
      "Requirement already satisfied: absl-py in /usr/local/lib/python3.9/dist-packages (from tensorflow-probability) (1.1.0)\r\n",
      "\u001B[33mWARNING: Running pip as the 'root' user can result in broken permissions and conflicting behaviour with the system package manager. It is recommended to use a virtual environment instead: https://pip.pypa.io/warnings/venv\u001B[0m\u001B[33m\r\n",
      "\u001B[0mRequirement already satisfied: optax in /usr/local/lib/python3.9/dist-packages (0.1.3)\r\n",
      "Requirement already satisfied: numpy>=1.18.0 in /usr/local/lib/python3.9/dist-packages (from optax) (1.23.1)\r\n",
      "Requirement already satisfied: absl-py>=0.7.1 in /usr/local/lib/python3.9/dist-packages (from optax) (1.1.0)\r\n",
      "Requirement already satisfied: chex>=0.0.4 in /usr/local/lib/python3.9/dist-packages (from optax) (0.1.4)\r\n",
      "Requirement already satisfied: typing-extensions>=3.10.0 in /usr/local/lib/python3.9/dist-packages (from optax) (4.3.0)\r\n",
      "Requirement already satisfied: jax>=0.1.55 in /usr/local/lib/python3.9/dist-packages (from optax) (0.3.15)\r\n",
      "Requirement already satisfied: jaxlib>=0.1.37 in /usr/local/lib/python3.9/dist-packages (from optax) (0.3.8+cuda11.cudnn82)\r\n",
      "Requirement already satisfied: dm-tree>=0.1.5 in /usr/local/lib/python3.9/dist-packages (from chex>=0.0.4->optax) (0.1.7)\r\n",
      "Requirement already satisfied: toolz>=0.9.0 in /usr/local/lib/python3.9/dist-packages (from chex>=0.0.4->optax) (0.12.0)\r\n",
      "Requirement already satisfied: etils[epath] in /usr/local/lib/python3.9/dist-packages (from jax>=0.1.55->optax) (0.6.0)\r\n",
      "Requirement already satisfied: scipy>=1.5 in /usr/local/lib/python3.9/dist-packages (from jax>=0.1.55->optax) (1.8.1)\r\n",
      "Requirement already satisfied: opt-einsum in /usr/local/lib/python3.9/dist-packages (from jax>=0.1.55->optax) (3.3.0)\r\n",
      "Requirement already satisfied: flatbuffers<3.0,>=1.12 in /usr/local/lib/python3.9/dist-packages (from jaxlib>=0.1.37->optax) (1.12)\r\n",
      "Requirement already satisfied: zipp in /usr/local/lib/python3.9/dist-packages (from etils[epath]->jax>=0.1.55->optax) (3.8.1)\r\n",
      "Requirement already satisfied: importlib_resources in /usr/local/lib/python3.9/dist-packages (from etils[epath]->jax>=0.1.55->optax) (5.8.0)\r\n",
      "\u001B[33mWARNING: Running pip as the 'root' user can result in broken permissions and conflicting behaviour with the system package manager. It is recommended to use a virtual environment instead: https://pip.pypa.io/warnings/venv\u001B[0m\u001B[33m\r\n",
      "\u001B[0m"
     ]
    }
   ],
   "source": [
    "#Uncomment this if you want to install the packages\n",
    "!pip install -U jax\n",
    "!pip install distrax\n",
    "!pip install tensorflow\n",
    "!pip install tensorflow-probability\n",
    "# !pip install numpyro\n",
    "!pip install optax\n",
    "# !pip uninstall -y blackjax\n"
   ]
  },
  {
   "cell_type": "code",
   "execution_count": 17,
   "outputs": [
    {
     "name": "stdout",
     "output_type": "stream",
     "text": [
      "Fetching origin\r\n",
      "fatal: 'origin/exp' is not a commit and a branch 'exp' cannot be created from it\r\n",
      "\u001B[31mERROR: Directory '.' is not installable. Neither 'setup.py' nor 'pyproject.toml' found.\u001B[0m\u001B[31m\r\n",
      "\u001B[0m"
     ]
    }
   ],
   "source": [
    "# !git clone https://github.com/Habush/blackjax.git\n",
    "!cd blackjax\n",
    "!git remote update\n",
    "!git fetch\n",
    "!git checkout --track origin/exp\n",
    "!pip install ."
   ],
   "metadata": {
    "collapsed": false,
    "pycharm": {
     "name": "#%%\n"
    }
   }
  },
  {
   "cell_type": "code",
   "execution_count": 1,
   "metadata": {
    "colab": {
     "base_uri": "https://localhost:8080/"
    },
    "execution": {
     "iopub.execute_input": "2022-08-05T19:20:47.003600Z",
     "iopub.status.busy": "2022-08-05T19:20:47.002728Z",
     "iopub.status.idle": "2022-08-05T19:20:47.010082Z",
     "shell.execute_reply": "2022-08-05T19:20:47.009571Z",
     "shell.execute_reply.started": "2022-08-05T19:20:47.003568Z"
    },
    "id": "rQfR6i0XQtut",
    "outputId": "bc9c2cee-2067-4c30-ce0a-04ba027c00b3",
    "pycharm": {
     "name": "#%%\n"
    }
   },
   "outputs": [
    {
     "name": "stderr",
     "output_type": "stream",
     "text": [
      "/home/xabush/miniconda3/lib/python3.9/site-packages/chex/_src/pytypes.py:37: FutureWarning: jax.tree_structure is deprecated, and will be removed in a future release. Use jax.tree_util.tree_structure instead.\n",
      "  PyTreeDef = type(jax.tree_structure(None))\n"
     ]
    }
   ],
   "source": [
    "import jax\n",
    "import jax.numpy as jnp\n",
    "import jax.scipy.stats as stats\n",
    "import matplotlib.pyplot as plt\n",
    "import numpy as np\n",
    "import distrax\n",
    "import blackjax\n",
    "import seaborn as sns\n",
    "import scipy\n",
    "from tensorflow_probability.substrates import jax as tfp\n",
    "\n",
    "tfd = tfp.distributions\n",
    "\n",
    "import warnings\n",
    "warnings.filterwarnings('ignore')\n",
    "%load_ext autoreload"
   ]
  },
  {
   "cell_type": "code",
   "execution_count": 3,
   "outputs": [],
   "source": [
    "plt.style.use(\"ggplot\")"
   ],
   "metadata": {
    "collapsed": false,
    "pycharm": {
     "name": "#%%\n"
    }
   }
  },
  {
   "cell_type": "code",
   "execution_count": 4,
   "metadata": {
    "execution": {
     "iopub.execute_input": "2022-08-05T18:24:11.969013Z",
     "iopub.status.busy": "2022-08-05T18:24:11.968856Z",
     "iopub.status.idle": "2022-08-05T18:24:11.973401Z",
     "shell.execute_reply": "2022-08-05T18:24:11.972954Z",
     "shell.execute_reply.started": "2022-08-05T18:24:11.968999Z"
    },
    "id": "iKpSSjojQ5Ie",
    "pycharm": {
     "name": "#%%\n"
    }
   },
   "outputs": [],
   "source": [
    "def jax_prng_key():\n",
    "    return jax.random.PRNGKey(np.random.randint(int(1e5)))"
   ]
  },
  {
   "cell_type": "code",
   "execution_count": 5,
   "metadata": {
    "execution": {
     "iopub.execute_input": "2022-08-05T18:24:11.974169Z",
     "iopub.status.busy": "2022-08-05T18:24:11.974016Z",
     "iopub.status.idle": "2022-08-05T18:24:12.049645Z",
     "shell.execute_reply": "2022-08-05T18:24:12.049038Z",
     "shell.execute_reply.started": "2022-08-05T18:24:11.974156Z"
    },
    "id": "6WtXluf2Q5jv",
    "pycharm": {
     "name": "#%%\n"
    }
   },
   "outputs": [],
   "source": [
    "# rng_key = jax_prng_key()\n",
    "rng_key = jax.random.PRNGKey(0)"
   ]
  },
  {
   "cell_type": "code",
   "execution_count": 6,
   "outputs": [
    {
     "data": {
      "text/plain": "'gpu'"
     },
     "execution_count": 6,
     "metadata": {},
     "output_type": "execute_result"
    }
   ],
   "source": [
    "jax.default_backend()"
   ],
   "metadata": {
    "collapsed": false,
    "pycharm": {
     "name": "#%%\n"
    }
   }
  },
  {
   "cell_type": "code",
   "execution_count": 13,
   "metadata": {
    "execution": {
     "iopub.execute_input": "2022-08-05T19:10:46.467501Z",
     "iopub.status.busy": "2022-08-05T19:10:46.467174Z",
     "iopub.status.idle": "2022-08-05T19:10:46.474255Z",
     "shell.execute_reply": "2022-08-05T19:10:46.473699Z",
     "shell.execute_reply.started": "2022-08-05T19:10:46.467482Z"
    },
    "id": "A_2Y9wCOgFgE",
    "pycharm": {
     "name": "#%%\n"
    }
   },
   "outputs": [],
   "source": [
    "from jax.experimental.host_callback import id_print\n",
    "\n",
    "\n",
    "## Inference loop implemented using lax.scan\n",
    "def inference_loop(rng_key, kernel, initial_state, num_samples):\n",
    "  @jax.jit\n",
    "  def one_step(state, rng_key):\n",
    "    state, _ = kernel(rng_key, state)\n",
    "    return state, state\n",
    "\n",
    "  keys = jax.random.split(rng_key, num_samples)\n",
    "  _, states = jax.lax.scan(one_step, initial_state, keys)\n",
    "\n",
    "  return states\n",
    "\n",
    "\n",
    "\n",
    "def inference_loop_multiple_chains(rng_key, kernel, initial_state, num_samples, num_chains):\n",
    "  \n",
    "  def one_step(states, rng_key):\n",
    "    keys = jax.random.split(rng_key, num_chains)\n",
    "    states, _ = jax.vmap(kernel)(keys, states)\n",
    "    return states, states\n",
    "\n",
    "  keys = jax.random.split(rng_key, num_samples)\n",
    "  _, states = jax.lax.scan(one_step, initial_state, keys)\n",
    "\n",
    "  return states \n",
    "\n",
    "def get_ess(chain, burn_in):\n",
    "    c = chain\n",
    "    l = c.shape[0]\n",
    "    bi = int(burn_in * l)\n",
    "    c = c[bi:]\n",
    "    cv = tfp.mcmc.effective_sample_size(c)\n",
    "    cv = cv.at[jnp.isnan(cv)].set(1.)\n",
    "    return cv"
   ]
  },
  {
   "cell_type": "markdown",
   "metadata": {
    "id": "JObbuBZjRAV0",
    "pycharm": {
     "name": "#%% md\n"
    }
   },
   "source": [
    "### Gaussian Mixture Model"
   ]
  },
  {
   "cell_type": "code",
   "execution_count": 7,
   "metadata": {
    "id": "GDnrgmwRRERI",
    "pycharm": {
     "name": "#%%\n"
    }
   },
   "outputs": [],
   "source": [
    "n_comp = 2\n",
    "# pi = np.array([0.15, 0.3, 0.3, 0.25])\n",
    "pi = jnp.array([0.6, 0.4])\n",
    "# mu_list = jnp.array([-2, 0, 2, 4]).reshape(n_comp,)\n",
    "mu_list = np.array([-2., 4.]).reshape(n_comp,)\n",
    "Sigma_list = (0.1 * np.stack([np.eye(1) for _ in range(pi.shape[0])])).reshape(n_comp,)\n",
    "# Sigma_list = jnp.array([0.1, 1.])\n",
    "N = 1000\n",
    "rng_key = jax.random.PRNGKey(0)\n",
    "\n",
    "def generate_gmm_samples(rng_key, pi, locs, scales, N=1000):\n",
    "\n",
    "  gmm = tfd.MixtureSameFamily(\n",
    "      mixture_distribution=tfd.Categorical(\n",
    "          probs=pi),\n",
    "      components_distribution=tfd.Normal(\n",
    "        loc=locs,       # One for each component.\n",
    "        scale=scales))\n",
    "\n",
    "  samples = gmm.sample(seed=jax_prng_key(), sample_shape=(N,))\n",
    "  cls = gmm.posterior_marginal(samples).sample(seed=jax_prng_key())\n",
    "  print(cls.shape)\n",
    "  return jnp.array(cls, dtype=jnp.float32), samples\n",
    "\n",
    "def one_hot_encode(cat, total_cat=4):\n",
    "  return jnp.array(jnp.array([cat])[...,None] == jnp.arange(total_cat), dtype=jnp.float32)"
   ]
  },
  {
   "cell_type": "code",
   "execution_count": 8,
   "metadata": {
    "colab": {
     "base_uri": "https://localhost:8080/",
     "height": 1000
    },
    "collapsed": true,
    "id": "97DV8tu8RMip",
    "jupyter": {
     "outputs_hidden": true
    },
    "outputId": "d970c943-4b3f-4a4d-ba82-752501575ecf",
    "pycharm": {
     "name": "#%%\n"
    }
   },
   "outputs": [
    {
     "name": "stdout",
     "output_type": "stream",
     "text": [
      "(1000,)\n"
     ]
    },
    {
     "data": {
      "text/plain": "<AxesSubplot:ylabel='Density'>"
     },
     "execution_count": 8,
     "metadata": {},
     "output_type": "execute_result"
    },
    {
     "data": {
      "text/plain": "<Figure size 432x288 with 1 Axes>",
      "image/png": "[encoded data removed]"
     },
     "metadata": {
      "needs_background": "light"
     },
     "output_type": "display_data"
    }
   ],
   "source": [
    "cls, samples = generate_gmm_samples(jax_prng_key(), pi, mu_list, Sigma_list)\n",
    "sns.kdeplot(data=samples)"
   ]
  },
  {
   "cell_type": "code",
   "execution_count": 9,
   "metadata": {
    "id": "nC2XTUw9Q_cY",
    "pycharm": {
     "name": "#%%\n"
    }
   },
   "outputs": [],
   "source": [
    "from jax.scipy.stats import norm\n",
    "\n",
    "\n",
    "# def generate_simple_gmm_potential(pi, locs, scales):\n",
    "#     gmm = tfd.MixtureSameFamily(\n",
    "#       mixture_distribution=tfd.OneHotCategorical(\n",
    "#           probs=pi),\n",
    "#       components_distribution=tfd.Normal(\n",
    "#         loc=locs,       # One for each component.\n",
    "#         scale=scales))\n",
    "\n",
    "      \n",
    "#     def simple_gmm_potential(z, x):\n",
    "#         # z, x = position\n",
    "#         # k = one_hot_encode(z, n_comp)\n",
    "#         # log_mix_prob = jax.nn.log_softmax(\n",
    "#         # gmm.mixture_distribution.logits_parameter(), axis=-1)\n",
    "#         log_x = gmm._per_mixture_component_log_prob(x)\n",
    "        \n",
    "#         # k = jnp.int32(z)\n",
    "#         # print(f\"z: {z}, x: {x}, k: {k}, log_x: {log_x}\")\n",
    "#         return z*log_x[1] + (1. - z)*log_x[0]\n",
    "\n",
    "#     return simple_gmm_potential\n",
    "\n",
    "\n",
    "def generate_simple_gmm_potential(pi, locs, scales):\n",
    "    component_dist = tfd.Normal(loc=locs, scale=scales)\n",
    "\n",
    "    def get_cluster_assignment(z, x):\n",
    "        \n",
    "        unnormalized_posterior = component_dist.log_prob(x) + jnp.log(pi)\n",
    "        # print(unnormalized_posterior)\n",
    "        # posterior = unnormalized_posterior - jax.nn.logsumexp(unnormalized_posterior, axis=-1)\n",
    "        # posterior = jnp.mean(posterior, axis=1)\n",
    "        # print(posterior)\n",
    "        k = jnp.int32(z)\n",
    "        return unnormalized_posterior[k][0]\n",
    "\n",
    "\n",
    "    return get_cluster_assignment\n"
   ]
  },
  {
   "cell_type": "code",
   "execution_count": 10,
   "metadata": {
    "id": "lPVNMEGVI-q5",
    "pycharm": {
     "name": "#%%\n"
    }
   },
   "outputs": [],
   "source": [
    "gmm = tfd.MixtureSameFamily(\n",
    "    mixture_distribution=tfd.Categorical(\n",
    "        probs=pi),\n",
    "    components_distribution=tfd.Normal(\n",
    "      loc=mu_list,       # One for each component.\n",
    "      scale=Sigma_list))"
   ]
  },
  {
   "cell_type": "code",
   "execution_count": 13,
   "metadata": {
    "colab": {
     "base_uri": "https://localhost:8080/",
     "height": 409
    },
    "id": "EVMMfweqRQto",
    "outputId": "babb030d-5170-4f05-be56-9b9099c7a834",
    "pycharm": {
     "name": "#%%\n"
    }
   },
   "outputs": [
    {
     "name": "stdout",
     "output_type": "stream",
     "text": [
      "(2, 1)\n",
      "="
     ]
    },
    {
     "data": {
      "text/plain": "<AxesSubplot:ylabel='Density'>"
     },
     "execution_count": 13,
     "metadata": {},
     "output_type": "execute_result"
    },
    {
     "data": {
      "text/plain": "<Figure size 864x432 with 1 Axes>",
      "image/png": "[encoded data removed]"
     },
     "metadata": {
      "needs_background": "light"
     },
     "output_type": "display_data"
    }
   ],
   "source": [
    "# %autoreload\n",
    "# import blackjax\n",
    "\n",
    "mu_list = np.array([-2., 4.]).reshape(n_comp,)\n",
    "Sigma_list = (0.1 * np.stack([np.eye(1) for _ in range(pi.shape[0])])).reshape(n_comp,)\n",
    "discrete_step = 0.2\n",
    "contin_step = 1e-5\n",
    "\n",
    "## Different initialization points result in d/t sampling\n",
    "L = 2\n",
    "num_samples = 10000\n",
    "# logprob_fn = generate_simple_gmm_potential(pi, mu_list, Sigma_list)\n",
    "logprob_fn = lambda z, x : jnp.sum(jax.vmap(gmm.log_prob)(x))\n",
    "grad_fn = jax.grad(logprob_fn, argnums=1)\n",
    "mixed_mala = blackjax.mixed_mala(logprob_fn, grad_fn, grad_fn, discrete_step, \n",
    "                                 contin_step, L)\n",
    "\n",
    "\n",
    "states = []\n",
    "\n",
    "disc_init_pos = np.random.randint(0, 2, size=2)[...,None] * 1.\n",
    "contin_init_pos = np.random.normal(size=2)[...,None]\n",
    "print(contin_init_pos.shape)\n",
    "init_state = mixed_mala.init((disc_init_pos, contin_init_pos))\n",
    "mm_kernel = jax.jit(mixed_mala.step)\n",
    "post_samples = mm_inference_loop(jax_prng_key(), mm_kernel, init_state, num_samples)\n",
    "print(\"=\", end=\"\")\n",
    "\n",
    "fig, ax = plt.subplots(figsize=(12, 6))\n",
    "sns.histplot(data=post_samples.position.contin_position.reshape(-1,), ax=ax, stat=\"density\", bins=100)\n",
    "sns.kdeplot(data=samples, ax=ax, legend=\"ground truth\")"
   ]
  },
  {
   "cell_type": "markdown",
   "metadata": {
    "id": "6qPXLy_dQxv9",
    "pycharm": {
     "name": "#%% md\n"
    }
   },
   "source": [
    "### Currently Not working (due to API Change)"
   ]
  },
  {
   "cell_type": "code",
   "execution_count": 14,
   "metadata": {
    "colab": {
     "base_uri": "https://localhost:8080/",
     "height": 588
    },
    "id": "-KRC907EBPPi",
    "outputId": "fade4547-dcbc-4ab8-ca2e-3a38fbb86d89",
    "pycharm": {
     "name": "#%%\n"
    }
   },
   "outputs": [
    {
     "ename": "TypeError",
     "evalue": "Gradient only defined for scalar-output functions. Output had shape: (1, 2).",
     "output_type": "error",
     "traceback": [
      "\u001B[0;31m---------------------------------------------------------------------------\u001B[0m",
      "\u001B[0;31mTypeError\u001B[0m                                 Traceback (most recent call last)",
      "Input \u001B[0;32mIn [14]\u001B[0m, in \u001B[0;36m<cell line: 17>\u001B[0;34m()\u001B[0m\n\u001B[1;32m     15\u001B[0m disc_init_pos \u001B[38;5;241m=\u001B[39m \u001B[38;5;28mcls\u001B[39m[:\u001B[38;5;241m10\u001B[39m][\u001B[38;5;241m.\u001B[39m\u001B[38;5;241m.\u001B[39m\u001B[38;5;241m.\u001B[39m,\u001B[38;5;28;01mNone\u001B[39;00m]\n\u001B[1;32m     16\u001B[0m contin_init_pos \u001B[38;5;241m=\u001B[39m samples[:\u001B[38;5;241m10\u001B[39m][\u001B[38;5;241m.\u001B[39m\u001B[38;5;241m.\u001B[39m\u001B[38;5;241m.\u001B[39m,\u001B[38;5;28;01mNone\u001B[39;00m]\n\u001B[0;32m---> 17\u001B[0m init_state \u001B[38;5;241m=\u001B[39m \u001B[43mmixed_mala\u001B[49m\u001B[38;5;241;43m.\u001B[39;49m\u001B[43minit\u001B[49m\u001B[43m(\u001B[49m\u001B[43m(\u001B[49m\u001B[43mdisc_init_pos\u001B[49m\u001B[43m,\u001B[49m\u001B[43m \u001B[49m\u001B[43mcontin_init_pos\u001B[49m\u001B[43m)\u001B[49m\u001B[43m)\u001B[49m\n\u001B[1;32m     18\u001B[0m mm_kernel \u001B[38;5;241m=\u001B[39m jax\u001B[38;5;241m.\u001B[39mjit(mixed_mala\u001B[38;5;241m.\u001B[39mstep)\n\u001B[1;32m     19\u001B[0m post_samples \u001B[38;5;241m=\u001B[39m mm_inference_loop(jax_prng_key(), mm_kernel, init_state, \u001B[38;5;241m10_000\u001B[39m)\n",
      "File \u001B[0;32m/usr/local/lib/python3.9/dist-packages/blackjax/kernels.py:393\u001B[0m, in \u001B[0;36mmixed_mala.__new__.<locals>.init_fn\u001B[0;34m(position)\u001B[0m\n\u001B[1;32m    391\u001B[0m \u001B[38;5;28;01mdef\u001B[39;00m \u001B[38;5;21minit_fn\u001B[39m(position: PyTree):\n\u001B[1;32m    392\u001B[0m     disc_position, contin_position \u001B[38;5;241m=\u001B[39m position\n\u001B[0;32m--> 393\u001B[0m     \u001B[38;5;28;01mreturn\u001B[39;00m \u001B[38;5;28;43mcls\u001B[39;49m\u001B[38;5;241;43m.\u001B[39;49m\u001B[43minit\u001B[49m\u001B[43m(\u001B[49m\u001B[43mdisc_position\u001B[49m\u001B[43m,\u001B[49m\u001B[43m \u001B[49m\u001B[43mcontin_position\u001B[49m\u001B[43m,\u001B[49m\u001B[43m \u001B[49m\u001B[43mlogprob_fn\u001B[49m\u001B[43m,\u001B[49m\u001B[43m \u001B[49m\u001B[43mdiscrete_grad_fn\u001B[49m\u001B[43m,\u001B[49m\u001B[43m \u001B[49m\u001B[43mcontin_grad_fn\u001B[49m\u001B[43m)\u001B[49m\n",
      "File \u001B[0;32m/usr/local/lib/python3.9/dist-packages/blackjax/mcmc/mixed_mala.py:54\u001B[0m, in \u001B[0;36minit\u001B[0;34m(disc_position, contin_position, logprob_fn, disc_grad_fn, contin_grad_fn)\u001B[0m\n\u001B[1;32m     50\u001B[0m \u001B[38;5;28;01mdef\u001B[39;00m \u001B[38;5;21minit\u001B[39m(disc_position: PyTree, contin_position: PyTree, logprob_fn: Callable,\n\u001B[1;32m     51\u001B[0m          disc_grad_fn: Callable, contin_grad_fn: Callable) \u001B[38;5;241m-\u001B[39m\u001B[38;5;241m>\u001B[39m MixedMALAState:\n\u001B[1;32m     53\u001B[0m     logprob \u001B[38;5;241m=\u001B[39m logprob_fn(disc_position, contin_position)\n\u001B[0;32m---> 54\u001B[0m     disc_logprob_grad \u001B[38;5;241m=\u001B[39m \u001B[43mdisc_grad_fn\u001B[49m\u001B[43m(\u001B[49m\u001B[43mdisc_position\u001B[49m\u001B[43m,\u001B[49m\u001B[43m \u001B[49m\u001B[43mcontin_position\u001B[49m\u001B[43m)\u001B[49m\n\u001B[1;32m     56\u001B[0m     contin_logprob_grad \u001B[38;5;241m=\u001B[39m contin_grad_fn(disc_position, contin_position)\n\u001B[1;32m     58\u001B[0m     \u001B[38;5;28;01mreturn\u001B[39;00m MixedMALAState(MixedMALAPosition(disc_position, contin_position), logprob,\n\u001B[1;32m     59\u001B[0m                                                     disc_logprob_grad, contin_logprob_grad)\n",
      "    \u001B[0;31m[... skipping hidden 4 frame]\u001B[0m\n",
      "File \u001B[0;32m/usr/local/lib/python3.9/dist-packages/jax/_src/api.py:1094\u001B[0m, in \u001B[0;36m_check_scalar\u001B[0;34m(x)\u001B[0m\n\u001B[1;32m   1092\u001B[0m \u001B[38;5;28;01mif\u001B[39;00m \u001B[38;5;28misinstance\u001B[39m(aval, ShapedArray):\n\u001B[1;32m   1093\u001B[0m   \u001B[38;5;28;01mif\u001B[39;00m aval\u001B[38;5;241m.\u001B[39mshape \u001B[38;5;241m!=\u001B[39m ():\n\u001B[0;32m-> 1094\u001B[0m     \u001B[38;5;28;01mraise\u001B[39;00m \u001B[38;5;167;01mTypeError\u001B[39;00m(msg(\u001B[38;5;124mf\u001B[39m\u001B[38;5;124m\"\u001B[39m\u001B[38;5;124mhad shape: \u001B[39m\u001B[38;5;132;01m{\u001B[39;00maval\u001B[38;5;241m.\u001B[39mshape\u001B[38;5;132;01m}\u001B[39;00m\u001B[38;5;124m\"\u001B[39m))\n\u001B[1;32m   1095\u001B[0m \u001B[38;5;28;01melse\u001B[39;00m:\n\u001B[1;32m   1096\u001B[0m   \u001B[38;5;28;01mraise\u001B[39;00m \u001B[38;5;167;01mTypeError\u001B[39;00m(msg(\u001B[38;5;124mf\u001B[39m\u001B[38;5;124m\"\u001B[39m\u001B[38;5;124mhad abstract value \u001B[39m\u001B[38;5;132;01m{\u001B[39;00maval\u001B[38;5;132;01m}\u001B[39;00m\u001B[38;5;124m\"\u001B[39m))\n",
      "\u001B[0;31mTypeError\u001B[0m: Gradient only defined for scalar-output functions. Output had shape: (1, 2)."
     ]
    }
   ],
   "source": [
    "discrete_step = 1e-5\n",
    "contin_step = 5e-5\n",
    "\n",
    "## Different initialization points result in d/t sampling\n",
    "\n",
    "L = 2\n",
    "\n",
    "logprob_fn = generate_simple_gmm_potential(pi, mu_list, Sigma_list)\n",
    "logprob = lambda z, x : jnp.sum(jax.vmap(logprob_fn)(z, x))\n",
    "grad_fn = jax.grad(logprob_fn, argnums=1)\n",
    "mixed_mala = blackjax.mixed_mala(logprob_fn, grad_fn, grad_fn, discrete_step, \n",
    "                                 contin_step, L)\n",
    "\n",
    "\n",
    "disc_init_pos = cls[:10][...,None]\n",
    "contin_init_pos = samples[:10][...,None]\n",
    "init_state = mixed_mala.init((disc_init_pos, contin_init_pos))\n",
    "mm_kernel = jax.jit(mixed_mala.step)\n",
    "post_samples = mm_inference_loop(jax_prng_key(), mm_kernel, init_state, 10_000)\n",
    "print(\"=\", end=\"\")\n",
    "\n",
    "fig, ax = plt.subplots(figsize=(6, 6))\n",
    "\n",
    "sns.histplot(data=post_samples.position.contin_position.reshape(-1, 1), ax=ax, stat=\"density\", bins=100)\n",
    "sns.kdeplot(data=samples, ax=ax, legend=\"ground truth\")\n",
    "# ax.set_title(f\"Cat {i+1} - $\\mu = {mu_list[i]}$\")\n",
    "# ax.set_xlim(-3, 5)\n"
   ]
  },
  {
   "cell_type": "code",
   "execution_count": null,
   "metadata": {
    "colab": {
     "base_uri": "https://localhost:8080/",
     "height": 392
    },
    "id": "HNugVJ52z1SR",
    "outputId": "ce055892-08cd-4d09-ffce-d0e04c4279d6",
    "pycharm": {
     "name": "#%%\n"
    }
   },
   "outputs": [
    {
     "data": {
      "text/plain": [
       "<matplotlib.axes._subplots.AxesSubplot at 0x7f46f2ddcf10>"
      ]
     },
     "execution_count": 16,
     "metadata": {},
     "output_type": "execute_result"
    },
    {
     "data": {
      "image/png": "[encoded data removed]",
      "text/plain": [
       "<Figure size 432x432 with 1 Axes>"
      ]
     },
     "metadata": {
      "needs_background": "light"
     },
     "output_type": "display_data"
    }
   ],
   "source": [
    "\n",
    "fig, ax = plt.subplots(figsize=(6, 6))\n",
    "sns.histplot(data=samples[:10], ax=ax, stat=\"density\", bins=100)"
   ]
  },
  {
   "cell_type": "code",
   "execution_count": null,
   "metadata": {
    "colab": {
     "base_uri": "https://localhost:8080/"
    },
    "id": "4mOXJZrGqmhG",
    "outputId": "525fd3ed-d3f5-4d99-b01f-289ab52be6b7",
    "pycharm": {
     "name": "#%%\n"
    }
   },
   "outputs": [
    {
     "data": {
      "text/plain": [
       "(10000, 10, 1)"
      ]
     },
     "execution_count": 111,
     "metadata": {},
     "output_type": "execute_result"
    }
   ],
   "source": [
    "post_samples.position.contin_position.shape"
   ]
  },
  {
   "cell_type": "markdown",
   "metadata": {
    "id": "V4BiFJtKQ4nk",
    "pycharm": {
     "name": "#%% md\n"
    }
   },
   "source": [
    "### Test the Mixed MALA on synthetic dataset"
   ]
  },
  {
   "cell_type": "code",
   "execution_count": 7,
   "metadata": {
    "execution": {
     "iopub.execute_input": "2022-08-05T19:31:48.069563Z",
     "iopub.status.busy": "2022-08-05T19:31:48.069057Z",
     "iopub.status.idle": "2022-08-05T19:31:48.080620Z",
     "shell.execute_reply": "2022-08-05T19:31:48.079931Z",
     "shell.execute_reply.started": "2022-08-05T19:31:48.069542Z"
    },
    "id": "IL8H16XCsJmR",
    "pycharm": {
     "name": "#%%\n"
    }
   },
   "outputs": [],
   "source": [
    "def generate_betas(sz, tf, n_genes, val_tf, val_genes, num_pos=-1):\n",
    "    if num_pos > n_genes:\n",
    "        raise ValueError(f\"Number of positive genes {num_pos} must be less than or equal to number of genes {n_genes}. To set all \"\n",
    "                         f\"genes to positive, set it to -1\")\n",
    "    beta = np.zeros(sz)\n",
    "\n",
    "    k = (tf + (tf * n_genes))\n",
    "    st = n_genes + 1\n",
    "    m = 0\n",
    "    for i in range(k):\n",
    "        if i % st == 0:\n",
    "            beta[i] = val_tf[m]\n",
    "            z = 0\n",
    "            for j in range(i + 1, i + st):\n",
    "                if num_pos < 0:\n",
    "                    beta[j] = val_tf[m]/val_genes\n",
    "                else:\n",
    "                    if z < num_pos:\n",
    "                        beta[j] = val_tf[m]/val_genes\n",
    "                    else:\n",
    "                        beta[j] = -val_tf[m]/val_genes\n",
    "                    z += 1\n",
    "            m += 1\n",
    "\n",
    "    return beta\n",
    "\n",
    "def generate_data_v2(tf, genes, tf_on=4, corr=0.7, val_tf=None, val_gene=np.sqrt(10), num_pos=-1, n=100):\n",
    "    if val_tf is None:\n",
    "        val_tf = [2, 2, 2, 2]\n",
    "    sz = (tf + (tf * genes))\n",
    "    X = np.zeros((n, sz))\n",
    "    assert len(val_tf) == tf_on\n",
    "    m = genes + 1\n",
    "    for t in range(0, m*tf, m):\n",
    "        X_tf = np.random.normal(0, 1, size=n)\n",
    "        X[:,t] = X_tf\n",
    "        for g in range(t + 1, t + m):\n",
    "            X_g = np.random.normal(corr*X_tf, 0.51, size=n)\n",
    "            X[:,g] = X_g\n",
    "\n",
    "    beta = generate_betas(sz, tf_on, genes, val_tf, val_gene, num_pos=num_pos)\n",
    "\n",
    "    sd_e = np.sqrt(np.sum(np.square(beta)) / 4)\n",
    "    err = np.random.normal(np.zeros(n), sd_e, size=n)\n",
    "\n",
    "    y = (X @ beta) + err\n",
    "\n",
    "    return X, beta, y\n",
    "\n",
    "\n",
    "def generate_log_data(tf, genes, tf_on=4, corr=0.7, val_tf=None, val_gene=np.sqrt(10), num_pos=-1, n=100):\n",
    "   if val_tf is None:\n",
    "       val_tf = [2, 2, 2, 2]\n",
    "   X, beta, y_lin = generate_data_v2(tf, genes, tf_on=tf_on, corr=corr, val_tf=val_tf, val_gene=val_gene, num_pos=num_pos, n=n)\n",
    "   print(f\"y_lin shape : {y_lin.shape}\")\n",
    "   y_dist = tfd.Bernoulli(logits=y_lin)\n",
    "   print(y_dist)\n",
    "   y_log = y_dist.sample(seed=jax_prng_key())\n",
    "\n",
    "   return X, beta, y_log\n",
    "\n",
    "def get_assoc_mat(tf, genes, corr=1, bias=False):\n",
    "    feats = tf + (tf * genes)\n",
    "    assoc_mat = np.eye(feats, feats)\n",
    "    m = genes + 1\n",
    "    for t in range(0, m * tf, m):\n",
    "        for g in range(t + 1, t + m):\n",
    "            assoc_mat[t, g] = 1\n",
    "            assoc_mat[g, t] = 1\n",
    "    if bias:\n",
    "        zero_col = np.zeros((assoc_mat.shape[0], 1))\n",
    "        zero_row = np.zeros((1, assoc_mat.shape[0] + 1))\n",
    "        assoc_mat = np.hstack((zero_col, assoc_mat))\n",
    "        return np.vstack((zero_row, assoc_mat))\n",
    "    return assoc_mat"
   ]
  },
  {
   "cell_type": "code",
   "execution_count": 8,
   "metadata": {
    "execution": {
     "iopub.execute_input": "2022-08-05T19:44:27.956720Z",
     "iopub.status.busy": "2022-08-05T19:44:27.956148Z",
     "iopub.status.idle": "2022-08-05T19:44:27.972715Z",
     "shell.execute_reply": "2022-08-05T19:44:27.972036Z",
     "shell.execute_reply.started": "2022-08-05T19:44:27.956698Z"
    },
    "id": "NVavZEg9CcJq",
    "pycharm": {
     "name": "#%%\n"
    }
   },
   "outputs": [],
   "source": [
    "from sklearn.model_selection import train_test_split\n",
    "np.random.seed(1234)\n",
    "X, beta_true, y = generate_data_v2(20, 10, tf_on=4, val_tf=[5, 5, 5, 5], corr=0.7, n=100)\n",
    "X_train, X_test, y_train, y_test = train_test_split(X, y, test_size=0.3, shuffle=True)\n",
    "J = get_assoc_mat(20, 10, 1)\n",
    "np.fill_diagonal(J, 0.)\n",
    "p = J.shape[1]"
   ]
  },
  {
   "cell_type": "code",
   "execution_count": 9,
   "metadata": {
    "colab": {
     "base_uri": "https://localhost:8080/",
     "height": 501
    },
    "execution": {
     "iopub.execute_input": "2022-08-05T19:44:28.977149Z",
     "iopub.status.busy": "2022-08-05T19:44:28.976579Z",
     "iopub.status.idle": "2022-08-05T19:44:29.051526Z",
     "shell.execute_reply": "2022-08-05T19:44:29.050932Z",
     "shell.execute_reply.started": "2022-08-05T19:44:28.977128Z"
    },
    "id": "FPc5jACKDErw",
    "outputId": "79b93593-8241-41e5-c205-bf1cb46eb152",
    "pycharm": {
     "name": "#%%\n"
    }
   },
   "outputs": [
    {
     "data": {
      "text/plain": "<matplotlib.lines.Line2D at 0x7f3f243190a0>"
     },
     "execution_count": 9,
     "metadata": {},
     "output_type": "execute_result"
    },
    {
     "data": {
      "text/plain": "<Figure size 576x576 with 1 Axes>",
      "image/png": "[encoded data removed]"
     },
     "metadata": {
      "needs_background": "light"
     },
     "output_type": "display_data"
    }
   ],
   "source": [
    "fig, ax = plt.subplots(figsize=(8, 8))\n",
    "ax.plot(np.arange(0, p), beta_true, color=\"orange\")\n",
    "ax.axvline(x=44, linestyle=\"--\", color=\"blue\", label=\"i = 20\")"
   ]
  },
  {
   "cell_type": "code",
   "execution_count": 10,
   "metadata": {
    "execution": {
     "iopub.execute_input": "2022-08-05T19:47:00.385307Z",
     "iopub.status.busy": "2022-08-05T19:47:00.384974Z",
     "iopub.status.idle": "2022-08-05T19:47:00.392767Z",
     "shell.execute_reply": "2022-08-05T19:47:00.392086Z",
     "shell.execute_reply.started": "2022-08-05T19:47:00.385278Z"
    },
    "id": "smvQSJjBCmvr",
    "pycharm": {
     "name": "#%%\n"
    }
   },
   "outputs": [],
   "source": [
    "from jax.experimental.host_callback import id_print\n",
    "def gamma_energy(theta, J, eta, mu):\n",
    "  # x = theta\n",
    "  x = (2 * theta) - 1\n",
    "  xg = x @ J\n",
    "  xgx = jnp.sum((xg * x), axis=-1)\n",
    "  return eta*xgx + mu*jnp.sum(x)\n",
    "\n",
    "\n",
    "# def gamma_energy(theta, J, eta, mu):\n",
    "  \n",
    "#   return eta*((theta.T @ J) @ theta) + mu*jnp.sum(theta)"
   ]
  },
  {
   "cell_type": "markdown",
   "source": [
    "### Check for phase transition in the Ising Model (See Li & Zhang 2014)"
   ],
   "metadata": {
    "collapsed": false,
    "pycharm": {
     "name": "#%% md\n"
    }
   }
  },
  {
   "cell_type": "code",
   "execution_count": 101,
   "outputs": [
    {
     "data": {
      "text/plain": "array([ 0.1       ,  0.11352226,  0.12887303,  0.14629957,  0.16608258,\n        0.18854069,  0.21403565,  0.24297811,  0.27583423,  0.31313325,\n        0.35547593,  0.40354431,  0.45811261,  0.52005978,  0.5903836 ,\n        0.6702168 ,  0.76084524,  0.8637287 ,  0.98052432,  1.11311334,\n        1.2636314 ,  1.4345029 ,  1.62848008,  1.84868736,  2.09867163,\n        2.38245942,  2.70462173,  3.07034766,  3.48552798,  3.95685007,\n        4.49190554,  5.09931259,  5.78885479,  6.57163867,  7.4602726 ,\n        8.4690699 ,  9.61427938, 10.91434703, 12.39021318, 14.06564977,\n       15.96764321, 18.12682911, 20.57798569, 23.36059399, 26.51947376,\n       30.1055054 , 34.17644949, 38.79787713, 44.04422614, 50.        ])"
     },
     "execution_count": 101,
     "metadata": {},
     "output_type": "execute_result"
    }
   ],
   "source": [
    "np.geomspace(0.1, 50, 50)"
   ],
   "metadata": {
    "collapsed": false,
    "pycharm": {
     "name": "#%%\n"
    }
   }
  },
  {
   "cell_type": "code",
   "execution_count": 24,
   "outputs": [],
   "source": [
    "a = -5\n",
    "n = 50\n",
    "b_values = np.geomspace(0.1, 50, n)\n",
    "keys = jax.random.split(rng_key, n)\n",
    "num_gamma_on = np.zeros(n)\n",
    "ess_stat = np.zeros(n)\n",
    "num_samples = 20000\n",
    "burnin = 0.1\n",
    "cat_dist = tfd.Bernoulli(probs=[0.5]*p)\n",
    "chains = np.zeros((n, num_samples, p))\n",
    "\n",
    "for i in range(b_values.shape[0]):\n",
    "    b = b_values[i]\n",
    "    print(f\"Current b val: {b:.3f}\")\n",
    "    step_size = 0.2\n",
    "    init_pos = cat_dist.sample(seed=keys[i]) * 1.\n",
    "    logprob = lambda x: gamma_energy(x, J, b, a)\n",
    "    curr_state = blackjax.dmala.init(init_pos, logprob)\n",
    "    dmala = blackjax.dmala(logprob, step_size)\n",
    "    dmala_kernel = jax.jit(dmala.step)\n",
    "    sample_keys = jax.random.split(keys[i], num_samples)\n",
    "    for j in range(num_samples):\n",
    "        curr_state, _ = dmala_kernel(sample_keys[j], curr_state)\n",
    "        chains[i, j] = curr_state.position\n",
    "\n",
    "    mean = np.mean(np.sum(chains[i, int(burnin*num_samples):], axis=1), axis=0)\n",
    "    num_gamma_on[i] = mean\n",
    "    ess = get_ess(chains[i], burnin)\n",
    "    ess_stat[i] = jnp.mean(ess)"
   ],
   "metadata": {
    "collapsed": false,
    "pycharm": {
     "name": "#%%\n"
    }
   }
  },
  {
   "cell_type": "code",
   "execution_count": 100,
   "outputs": [
    {
     "data": {
      "text/plain": "[Text(0, -0.1, '-10.00%'),\n Text(0, 0.0, '0.00%'),\n Text(0, 0.1, '10.00%'),\n Text(0, 0.20000000000000004, '20.00%'),\n Text(0, 0.30000000000000004, '30.00%'),\n Text(0, 0.4, '40.00%'),\n Text(0, 0.5000000000000001, '50.00%'),\n Text(0, 0.6000000000000001, '60.00%')]"
     },
     "execution_count": 100,
     "metadata": {},
     "output_type": "execute_result"
    },
    {
     "data": {
      "text/plain": "<Figure size 864x864 with 1 Axes>",
      "image/png": "[encoded data removed]"
     },
     "metadata": {},
     "output_type": "display_data"
    }
   ],
   "source": [
    "percent_on = (num_gamma_on / p)\n",
    "fig, ax = plt.subplots(figsize=(12, 12))\n",
    "ax.plot(b_values, percent_on, marker='o')\n",
    "\n",
    "# ax.set_xscale(\"log\")\n",
    "ax.set_xlabel(\"b\")\n",
    "ax.set_ylabel(r\"Avg. % of $\\gamma$ ON\")\n",
    "y_ticks = ax.get_yticks()\n",
    "ax.set_yticklabels(['{:,.2%}'.format(x) for x in y_ticks])"
   ],
   "metadata": {
    "collapsed": false,
    "pycharm": {
     "name": "#%%\n"
    }
   }
  },
  {
   "cell_type": "code",
   "execution_count": 103,
   "outputs": [
    {
     "data": {
      "text/plain": "[Text(0, -0.1, '-10.00%'),\n Text(0, 0.0, '0.00%'),\n Text(0, 0.1, '10.00%'),\n Text(0, 0.20000000000000004, '20.00%'),\n Text(0, 0.30000000000000004, '30.00%'),\n Text(0, 0.4, '40.00%'),\n Text(0, 0.5000000000000001, '50.00%'),\n Text(0, 0.6000000000000001, '60.00%'),\n Text(0, 0.7000000000000001, '70.00%')]"
     },
     "execution_count": 103,
     "metadata": {},
     "output_type": "execute_result"
    },
    {
     "data": {
      "text/plain": "<Figure size 864x864 with 1 Axes>",
      "image/png": "[encoded data removed]"
     },
     "metadata": {},
     "output_type": "display_data"
    }
   ],
   "source": [
    "percent_on = (num_gamma_on / p)\n",
    "fig, ax = plt.subplots(figsize=(12, 12))\n",
    "ax.plot(b_values, percent_on, marker='o')\n",
    "\n",
    "# ax.set_xscale(\"log\")\n",
    "ax.set_xlabel(\"b\")\n",
    "ax.set_ylabel(r\"Avg. % of $\\gamma$ ON\")\n",
    "y_ticks = ax.get_yticks()\n",
    "ax.set_yticklabels(['{:,.2%}'.format(x) for x in y_ticks])"
   ],
   "metadata": {
    "collapsed": false,
    "pycharm": {
     "name": "#%%\n"
    }
   }
  },
  {
   "cell_type": "markdown",
   "source": [
    "### Find suitable $\\mu$ and $\\eta$ values using Fan Li. et al 2015.\n",
    "\n",
    "    $$(a + 8b)V^2 - 12bV + 4b >  \\frac{-n . R^{2}}{2(1 - R^{2})}$$"
   ],
   "metadata": {
    "collapsed": false,
    "pycharm": {
     "name": "#%% md\n"
    }
   }
  },
  {
   "cell_type": "code",
   "execution_count": 11,
   "outputs": [
    {
     "name": "stdout",
     "output_type": "stream",
     "text": [
      "Max R2 - 0.32171414137111876, V - 2\n"
     ]
    }
   ],
   "source": [
    "r2_scores = np.zeros(p)\n",
    "from sklearn.linear_model import LinearRegression\n",
    "from sklearn.metrics import r2_score\n",
    "\n",
    "n = X_train.shape[0]\n",
    "for j in range(p):\n",
    "    X_j = X_train[:,j].reshape(-1, 1)\n",
    "    reg = LinearRegression()\n",
    "    reg.fit(X_j, y_train)\n",
    "    y_pred = reg.predict(X_j)\n",
    "    r2_scores[j] = r2_score(y_train, y_pred)\n",
    "\n",
    "\n",
    "r2_max = np.max(r2_scores)\n",
    "V = 2\n",
    "print(f\"Max R2 - {r2_max}, V - {V}\")"
   ],
   "metadata": {
    "collapsed": false,
    "pycharm": {
     "name": "#%%\n"
    }
   }
  },
  {
   "cell_type": "code",
   "execution_count": 14,
   "outputs": [
    {
     "name": "stdout",
     "output_type": "stream",
     "text": [
      "mean - 0.007, % ON - 0.003\n"
     ]
    }
   ],
   "source": [
    "b_max = 0.83 # calculated using the above equation\n",
    "a_min = -6.3\n",
    "\n",
    "\n",
    "num_gamma_on = np.zeros(n)\n",
    "ess_stat = np.zeros(n)\n",
    "num_samples = 10000\n",
    "burnin = 0.1\n",
    "step_size = 0.2\n",
    "cat_dist = tfd.Bernoulli(probs=[0.5] * p)\n",
    "init_pos = cat_dist.sample(seed=rng_key) * 1.\n",
    "logprob = lambda x: gamma_energy(x, J, b_max, a_min)\n",
    "init_state = blackjax.dmala.init(init_pos, logprob)\n",
    "dmala = blackjax.dmala(logprob, step_size)\n",
    "dmala_kernel = jax.jit(dmala.step)\n",
    "\n",
    "states = inference_loop(rng_key, dmala_kernel, init_state, num_samples)\n",
    "mean = np.mean(np.sum(states.position[int(burnin*num_samples):], axis=1))\n",
    "percent_on = (mean / p) * 100\n",
    "print(f\"mean - {mean:.3f}, % ON - {percent_on:.3f}\")"
   ],
   "metadata": {
    "collapsed": false,
    "pycharm": {
     "name": "#%%\n"
    }
   }
  },
  {
   "cell_type": "code",
   "execution_count": 116,
   "outputs": [],
   "source": [
    "EPS = 1e-12\n",
    "init_gamma_dist = tfd.Bernoulli(probs=[0.5]*p)\n",
    "init_beta_dist = tfd.Normal(loc=jnp.zeros(p) ,scale=jnp.ones(p))"
   ],
   "metadata": {
    "collapsed": false,
    "pycharm": {
     "name": "#%%\n"
    }
   }
  },
  {
   "cell_type": "code",
   "execution_count": 31,
   "outputs": [
    {
     "name": "stdout",
     "output_type": "stream",
     "text": [
      "tfp.distributions.JointDistributionNamed(\"JointDistributionNamed\", batch_shape={alpha: [1], loc: [20], mix_probs: [], precision: [20]}, event_shape={alpha: [], loc: [1], mix_probs: [20], precision: [1]}, dtype={alpha: float32, loc: float32, mix_probs: float32, precision: float32})\n"
     ]
    }
   ],
   "source": [
    "# Prior distributions of the training variables\n",
    "# Upperbound on K\n",
    "max_cluster_num = 20\n",
    "dims = 1\n",
    "#Use symmetric Dirichlet prior as finite approximation of Dirichlet process.\n",
    "\n",
    "joint_dist = tfd.JointDistributionNamed(dict(\n",
    "    alpha = tfd.InverseGamma(\n",
    "        concentration=np.ones([1]),\n",
    "        scale=np.ones([1]),\n",
    "        name='alpha'),\n",
    "\n",
    "    mix_probs = lambda alpha: tfd.Dirichlet(\n",
    "        concentration=np.ones(max_cluster_num) * alpha / max_cluster_num,\n",
    "        name='mix_probs'),\n",
    "\n",
    "    loc = tfd.Independent(\n",
    "        tfd.Normal(\n",
    "            loc=jnp.zeros([max_cluster_num, dims]),\n",
    "            scale=jnp.ones([max_cluster_num, dims])),\n",
    "        reinterpreted_batch_ndims=1,\n",
    "        name='loc'),\n",
    "\n",
    "\n",
    "    precision = tfd.Independent(\n",
    "        tfd.InverseGamma(\n",
    "            concentration=np.ones([max_cluster_num, dims]),\n",
    "            scale=np.ones([max_cluster_num, dims])),\n",
    "        reinterpreted_batch_ndims=1,\n",
    "        name='precision')\n",
    "))\n",
    "\n",
    "sigma_dist = tfd.InverseGamma(concentration=jnp.ones(1), scale=jnp.ones(1))\n",
    "\n",
    "sample = joint_dist.sample(seed=rng_key)\n",
    "print(joint_dist)"
   ],
   "metadata": {
    "collapsed": false,
    "pycharm": {
     "name": "#%%\n"
    }
   }
  },
  {
   "cell_type": "code",
   "execution_count": 34,
   "outputs": [
    {
     "data": {
      "text/plain": "(220, 20)"
     },
     "execution_count": 34,
     "metadata": {},
     "output_type": "execute_result"
    }
   ],
   "source": [
    "\n",
    "sample[\"beta\"] = jnp.expand_dims(jnp.expand_dims(beta_true, axis=1), axis=1)\n",
    "# sample[\"beta\"] = beta_true\n",
    "joint_dist.log_prob(sample).shape"
   ],
   "metadata": {
    "collapsed": false,
    "pycharm": {
     "name": "#%%\n"
    }
   }
  },
  {
   "cell_type": "code",
   "execution_count": 42,
   "outputs": [
    {
     "data": {
      "text/plain": "DeviceArray([-4.9153194, -1.7751547, -1.7751547, -1.7751547, -1.7751547,\n             -1.7751547, -1.7751547, -1.7751547, -1.7751547, -1.7751547,\n             -1.7751547, -4.9153194, -1.7751547, -1.7751547, -1.7751547,\n             -1.7751547, -1.7751547, -1.7751547, -1.7751547, -1.7751547,\n             -1.7751547, -1.7751547, -4.9153194, -1.7751547, -1.7751547,\n             -1.7751547, -1.7751547, -1.7751547, -1.7751547, -1.7751547,\n             -1.7751547, -1.7751547, -1.7751547, -4.9153194, -1.7751547,\n             -1.7751547, -1.7751547, -1.7751547, -1.7751547, -1.7751547,\n             -1.7751547, -1.7751547, -1.7751547, -1.7751547, -1.609133 ,\n             -1.609133 , -1.609133 , -1.609133 , -1.609133 , -1.609133 ,\n             -1.609133 , -1.609133 , -1.609133 , -1.609133 , -1.609133 ,\n             -1.609133 , -1.609133 , -1.609133 , -1.609133 , -1.609133 ,\n             -1.609133 , -1.609133 , -1.609133 , -1.609133 , -1.609133 ,\n             -1.609133 , -1.609133 , -1.609133 , -1.609133 , -1.609133 ,\n             -1.609133 , -1.609133 , -1.609133 , -1.609133 , -1.609133 ,\n             -1.609133 , -1.609133 , -1.609133 , -1.609133 , -1.609133 ,\n             -1.609133 , -1.609133 , -1.609133 , -1.609133 , -1.609133 ,\n             -1.609133 , -1.609133 , -1.609133 , -1.609133 , -1.609133 ,\n             -1.609133 , -1.609133 , -1.609133 , -1.609133 , -1.609133 ,\n             -1.609133 , -1.609133 , -1.609133 , -1.609133 , -1.609133 ,\n             -1.609133 , -1.609133 , -1.609133 , -1.609133 , -1.609133 ,\n             -1.609133 , -1.609133 , -1.609133 , -1.609133 , -1.609133 ,\n             -1.609133 , -1.609133 , -1.609133 , -1.609133 , -1.609133 ,\n             -1.609133 , -1.609133 , -1.609133 , -1.609133 , -1.609133 ,\n             -1.609133 , -1.609133 , -1.609133 , -1.609133 , -1.609133 ,\n             -1.609133 , -1.609133 , -1.609133 , -1.609133 , -1.609133 ,\n             -1.609133 , -1.609133 , -1.609133 , -1.609133 , -1.609133 ,\n             -1.609133 , -1.609133 , -1.609133 , -1.609133 , -1.609133 ,\n             -1.609133 , -1.609133 , -1.609133 , -1.609133 , -1.609133 ,\n             -1.609133 , -1.609133 , -1.609133 , -1.609133 , -1.609133 ,\n             -1.609133 , -1.609133 , -1.609133 , -1.609133 , -1.609133 ,\n             -1.609133 , -1.609133 , -1.609133 , -1.609133 , -1.609133 ,\n             -1.609133 , -1.609133 , -1.609133 , -1.609133 , -1.609133 ,\n             -1.609133 , -1.609133 , -1.609133 , -1.609133 , -1.609133 ,\n             -1.609133 , -1.609133 , -1.609133 , -1.609133 , -1.609133 ,\n             -1.609133 , -1.609133 , -1.609133 , -1.609133 , -1.609133 ,\n             -1.609133 , -1.609133 , -1.609133 , -1.609133 , -1.609133 ,\n             -1.609133 , -1.609133 , -1.609133 , -1.609133 , -1.609133 ,\n             -1.609133 , -1.609133 , -1.609133 , -1.609133 , -1.609133 ,\n             -1.609133 , -1.609133 , -1.609133 , -1.609133 , -1.609133 ,\n             -1.609133 , -1.609133 , -1.609133 , -1.609133 , -1.609133 ,\n             -1.609133 , -1.609133 , -1.609133 , -1.609133 , -1.609133 ,\n             -1.609133 , -1.609133 , -1.609133 , -1.609133 , -1.609133 ,\n             -1.609133 , -1.609133 , -1.609133 , -1.609133 , -1.609133 ],            dtype=float32)"
     },
     "execution_count": 42,
     "metadata": {},
     "output_type": "execute_result"
    }
   ],
   "source": [
    "beta_dist = tfd.MixtureSameFamily(\n",
    "mixture_distribution=tfd.Categorical(probs=sample[\"mix_probs\"]),\n",
    "components_distribution=tfd.MultivariateNormalDiag(\n",
    "    loc=sample[\"loc\"], scale_diag=sample[\"precision\"]))\n",
    "\n",
    "beta_dist.log_prob(jnp.expand_dims(beta_true, axis=1))"
   ],
   "metadata": {
    "collapsed": false,
    "pycharm": {
     "name": "#%%\n"
    }
   }
  },
  {
   "cell_type": "code",
   "execution_count": null,
   "outputs": [],
   "source": [
    "def generate_potential_energy_fn(X, y, J):\n",
    "    # eta = jax.device_put(eta)\n",
    "    # mu = jax.device_put(mu)\n",
    "\n",
    "    # beta_dist = tfd.Normal(jnp.zeros(p), scale=jnp.ones(p))\n",
    "    def potential_energy(gamma, contin):\n",
    "\n",
    "        gamma = jnp.squeeze(gamma)\n",
    "        # beta, eta, mu, sigma, loc = contin[\"beta\"], contin[\"eta\"], contin[\"mu\"], contin[\"sigma\"], contin[\"loc\"]\n",
    "        beta, sigma, loc = contin[\"beta\"], contin[\"sigma\"],  contin[\"loc\"]\n",
    "        # beta = jnp.squeeze(contin)\n",
    "        beta_dist = tfd.Normal(loc=loc, scale=sigma)\n",
    "        prior_potential = jnp.sum(loc_dist.log_prob(loc)) + jnp.sum(sigma_dist.log_prob(sigma))\n",
    "        logits = (X @ (gamma * beta))\n",
    "        likelihood_dist = tfd.Bernoulli(logits=logits)\n",
    "        # likelihood_potential = jnp.sum(\n",
    "        #     y * jnp.log(probs + EPS) + (1 - y) * jnp.log(1 - probs + EPS)\n",
    "        # )\n",
    "        # likelihood_potential = jnp.sum(likelihood_dist.log_prob(y))\n",
    "        # prior_potential = jnp.sum(sigma_dist.log_prob(sigma)) + eta_dist.log_prob(eta) + mu_dist.log_prob(mu) \\\n",
    "        #                         + jnp.sum(loc_dist.log_prob(loc))\n",
    "        beta_prior_potential = jnp.sum(beta_dist.log_prob(beta))\n",
    "        gamma_potential = gamma_energy(gamma, J, eta, mu)\n",
    "\n",
    "        potential_eng = beta_prior_potential + likelihood_potential +  gamma_potential + prior_potential\n",
    "        # id_print([gamma_potential, beta_prior_potential, prior_potential, likelihood_potential], a=\"gamma_p, beta_p, prior_p, ll_p\")\n",
    "        return potential_eng\n",
    "\n",
    "    return potential_energy"
   ],
   "metadata": {
    "collapsed": false,
    "pycharm": {
     "name": "#%%\n"
    }
   }
  },
  {
   "cell_type": "code",
   "execution_count": 3,
   "outputs": [
    {
     "ename": "RuntimeError",
     "evalue": "jaxlib is version 0.3.8, but this version of jax requires version >= 0.3.14.",
     "output_type": "error",
     "traceback": [
      "\u001B[0;31m---------------------------------------------------------------------------\u001B[0m",
      "\u001B[0;31mRuntimeError\u001B[0m                              Traceback (most recent call last)",
      "Input \u001B[0;32mIn [3]\u001B[0m, in \u001B[0;36m<cell line: 1>\u001B[0;34m()\u001B[0m\n\u001B[0;32m----> 1\u001B[0m \u001B[38;5;28;01mfrom\u001B[39;00m \u001B[38;5;21;01mjax\u001B[39;00m\u001B[38;5;21;01m.\u001B[39;00m\u001B[38;5;21;01mexperimental\u001B[39;00m\u001B[38;5;21;01m.\u001B[39;00m\u001B[38;5;21;01mhost_callback\u001B[39;00m \u001B[38;5;28;01mimport\u001B[39;00m id_print\n\u001B[1;32m      2\u001B[0m \u001B[38;5;28;01mdef\u001B[39;00m \u001B[38;5;21mgenerate_disc_logprob_fn\u001B[39m(X, y, J, eta, mu):\n\u001B[1;32m      4\u001B[0m     \u001B[38;5;28;01mdef\u001B[39;00m \u001B[38;5;21mlogprob_fn\u001B[39m(gamma, position):\n",
      "File \u001B[0;32m/usr/local/lib/python3.9/dist-packages/jax/__init__.py:35\u001B[0m, in \u001B[0;36m<module>\u001B[0;34m\u001B[0m\n\u001B[1;32m     30\u001B[0m \u001B[38;5;28;01mdel\u001B[39;00m _cloud_tpu_init\n\u001B[1;32m     32\u001B[0m \u001B[38;5;66;03m# Confusingly there are two things named \"config\": the module and the class.\u001B[39;00m\n\u001B[1;32m     33\u001B[0m \u001B[38;5;66;03m# We want the exported object to be the class, so we first import the module\u001B[39;00m\n\u001B[1;32m     34\u001B[0m \u001B[38;5;66;03m# to make sure a later import doesn't overwrite the class.\u001B[39;00m\n\u001B[0;32m---> 35\u001B[0m \u001B[38;5;28;01mfrom\u001B[39;00m \u001B[38;5;21;01mjax\u001B[39;00m \u001B[38;5;28;01mimport\u001B[39;00m config \u001B[38;5;28;01mas\u001B[39;00m _config_module\n\u001B[1;32m     36\u001B[0m \u001B[38;5;28;01mdel\u001B[39;00m _config_module\n\u001B[1;32m     38\u001B[0m \u001B[38;5;28;01mfrom\u001B[39;00m \u001B[38;5;21;01mjax\u001B[39;00m\u001B[38;5;21;01m.\u001B[39;00m\u001B[38;5;21;01m_src\u001B[39;00m\u001B[38;5;21;01m.\u001B[39;00m\u001B[38;5;21;01mconfig\u001B[39;00m \u001B[38;5;28;01mimport\u001B[39;00m (\n\u001B[1;32m     39\u001B[0m   config \u001B[38;5;28;01mas\u001B[39;00m config,\n\u001B[1;32m     40\u001B[0m   enable_checks \u001B[38;5;28;01mas\u001B[39;00m enable_checks,\n\u001B[0;32m   (...)\u001B[0m\n\u001B[1;32m     57\u001B[0m   transfer_guard_device_to_host \u001B[38;5;28;01mas\u001B[39;00m transfer_guard_device_to_host,\n\u001B[1;32m     58\u001B[0m )\n",
      "File \u001B[0;32m/usr/local/lib/python3.9/dist-packages/jax/config.py:17\u001B[0m, in \u001B[0;36m<module>\u001B[0;34m\u001B[0m\n\u001B[1;32m      1\u001B[0m \u001B[38;5;66;03m# Copyright 2018 Google LLC\u001B[39;00m\n\u001B[1;32m      2\u001B[0m \u001B[38;5;66;03m#\u001B[39;00m\n\u001B[1;32m      3\u001B[0m \u001B[38;5;66;03m# Licensed under the Apache License, Version 2.0 (the \"License\");\u001B[39;00m\n\u001B[0;32m   (...)\u001B[0m\n\u001B[1;32m     14\u001B[0m \n\u001B[1;32m     15\u001B[0m \u001B[38;5;66;03m# TODO(phawkins): fix users of this alias and delete this file.\u001B[39;00m\n\u001B[0;32m---> 17\u001B[0m \u001B[38;5;28;01mfrom\u001B[39;00m \u001B[38;5;21;01mjax\u001B[39;00m\u001B[38;5;21;01m.\u001B[39;00m\u001B[38;5;21;01m_src\u001B[39;00m\u001B[38;5;21;01m.\u001B[39;00m\u001B[38;5;21;01mconfig\u001B[39;00m \u001B[38;5;28;01mimport\u001B[39;00m config\n",
      "File \u001B[0;32m/usr/local/lib/python3.9/dist-packages/jax/_src/config.py:29\u001B[0m, in \u001B[0;36m<module>\u001B[0;34m\u001B[0m\n\u001B[1;32m     25\u001B[0m \u001B[38;5;28;01mimport\u001B[39;00m \u001B[38;5;21;01mwarnings\u001B[39;00m\n\u001B[1;32m     27\u001B[0m \u001B[38;5;28;01mfrom\u001B[39;00m \u001B[38;5;21;01mabsl\u001B[39;00m \u001B[38;5;28;01mimport\u001B[39;00m logging\n\u001B[0;32m---> 29\u001B[0m \u001B[38;5;28;01mfrom\u001B[39;00m \u001B[38;5;21;01mjax\u001B[39;00m\u001B[38;5;21;01m.\u001B[39;00m\u001B[38;5;21;01m_src\u001B[39;00m \u001B[38;5;28;01mimport\u001B[39;00m lib\n\u001B[1;32m     30\u001B[0m \u001B[38;5;28;01mfrom\u001B[39;00m \u001B[38;5;21;01mjax\u001B[39;00m\u001B[38;5;21;01m.\u001B[39;00m\u001B[38;5;21;01m_src\u001B[39;00m\u001B[38;5;21;01m.\u001B[39;00m\u001B[38;5;21;01mlib\u001B[39;00m \u001B[38;5;28;01mimport\u001B[39;00m jax_jit\n\u001B[1;32m     31\u001B[0m \u001B[38;5;28;01mfrom\u001B[39;00m \u001B[38;5;21;01mjax\u001B[39;00m\u001B[38;5;21;01m.\u001B[39;00m\u001B[38;5;21;01m_src\u001B[39;00m\u001B[38;5;21;01m.\u001B[39;00m\u001B[38;5;21;01mlib\u001B[39;00m \u001B[38;5;28;01mimport\u001B[39;00m transfer_guard_lib\n",
      "File \u001B[0;32m/usr/local/lib/python3.9/dist-packages/jax/_src/lib/__init__.py:87\u001B[0m, in \u001B[0;36m<module>\u001B[0;34m\u001B[0m\n\u001B[1;32m     84\u001B[0m   \u001B[38;5;28;01mreturn\u001B[39;00m _jaxlib_version\n\u001B[1;32m     86\u001B[0m version_str \u001B[38;5;241m=\u001B[39m jaxlib\u001B[38;5;241m.\u001B[39mversion\u001B[38;5;241m.\u001B[39m__version__\n\u001B[0;32m---> 87\u001B[0m version \u001B[38;5;241m=\u001B[39m \u001B[43mcheck_jaxlib_version\u001B[49m\u001B[43m(\u001B[49m\n\u001B[1;32m     88\u001B[0m \u001B[43m  \u001B[49m\u001B[43mjax_version\u001B[49m\u001B[38;5;241;43m=\u001B[39;49m\u001B[43mjax\u001B[49m\u001B[38;5;241;43m.\u001B[39;49m\u001B[43mversion\u001B[49m\u001B[38;5;241;43m.\u001B[39;49m\u001B[43m__version__\u001B[49m\u001B[43m,\u001B[49m\n\u001B[1;32m     89\u001B[0m \u001B[43m  \u001B[49m\u001B[43mjaxlib_version\u001B[49m\u001B[38;5;241;43m=\u001B[39;49m\u001B[43mjaxlib\u001B[49m\u001B[38;5;241;43m.\u001B[39;49m\u001B[43mversion\u001B[49m\u001B[38;5;241;43m.\u001B[39;49m\u001B[43m__version__\u001B[49m\u001B[43m,\u001B[49m\n\u001B[1;32m     90\u001B[0m \u001B[43m  \u001B[49m\u001B[43mminimum_jaxlib_version\u001B[49m\u001B[38;5;241;43m=\u001B[39;49m\u001B[43mjax\u001B[49m\u001B[38;5;241;43m.\u001B[39;49m\u001B[43mversion\u001B[49m\u001B[38;5;241;43m.\u001B[39;49m\u001B[43m_minimum_jaxlib_version\u001B[49m\u001B[43m)\u001B[49m\n\u001B[1;32m     94\u001B[0m \u001B[38;5;66;03m# Before importing any C compiled modules from jaxlib, first import the CPU\u001B[39;00m\n\u001B[1;32m     95\u001B[0m \u001B[38;5;66;03m# feature guard module to verify that jaxlib was compiled in a way that only\u001B[39;00m\n\u001B[1;32m     96\u001B[0m \u001B[38;5;66;03m# uses instructions that are present on this machine.\u001B[39;00m\n\u001B[1;32m     97\u001B[0m \u001B[38;5;28;01mimport\u001B[39;00m \u001B[38;5;21;01mjaxlib\u001B[39;00m\u001B[38;5;21;01m.\u001B[39;00m\u001B[38;5;21;01mcpu_feature_guard\u001B[39;00m \u001B[38;5;28;01mas\u001B[39;00m \u001B[38;5;21;01mcpu_feature_guard\u001B[39;00m\n",
      "File \u001B[0;32m/usr/local/lib/python3.9/dist-packages/jax/_src/lib/__init__.py:76\u001B[0m, in \u001B[0;36mcheck_jaxlib_version\u001B[0;34m(jax_version, jaxlib_version, minimum_jaxlib_version)\u001B[0m\n\u001B[1;32m     73\u001B[0m \u001B[38;5;28;01mif\u001B[39;00m _jaxlib_version \u001B[38;5;241m<\u001B[39m _minimum_jaxlib_version:\n\u001B[1;32m     74\u001B[0m   msg \u001B[38;5;241m=\u001B[39m (\u001B[38;5;124mf\u001B[39m\u001B[38;5;124m'\u001B[39m\u001B[38;5;124mjaxlib is version \u001B[39m\u001B[38;5;132;01m{\u001B[39;00mjaxlib_version\u001B[38;5;132;01m}\u001B[39;00m\u001B[38;5;124m, but this version \u001B[39m\u001B[38;5;124m'\u001B[39m\n\u001B[1;32m     75\u001B[0m          \u001B[38;5;124mf\u001B[39m\u001B[38;5;124m'\u001B[39m\u001B[38;5;124mof jax requires version >= \u001B[39m\u001B[38;5;132;01m{\u001B[39;00mminimum_jaxlib_version\u001B[38;5;132;01m}\u001B[39;00m\u001B[38;5;124m.\u001B[39m\u001B[38;5;124m'\u001B[39m)\n\u001B[0;32m---> 76\u001B[0m   \u001B[38;5;28;01mraise\u001B[39;00m \u001B[38;5;167;01mRuntimeError\u001B[39;00m(msg)\n\u001B[1;32m     78\u001B[0m \u001B[38;5;28;01mif\u001B[39;00m _jaxlib_version \u001B[38;5;241m>\u001B[39m _jax_version:\n\u001B[1;32m     79\u001B[0m   msg \u001B[38;5;241m=\u001B[39m (\u001B[38;5;124mf\u001B[39m\u001B[38;5;124m'\u001B[39m\u001B[38;5;124mjaxlib version \u001B[39m\u001B[38;5;132;01m{\u001B[39;00mjaxlib_version\u001B[38;5;132;01m}\u001B[39;00m\u001B[38;5;124m is newer than and \u001B[39m\u001B[38;5;124m'\u001B[39m\n\u001B[1;32m     80\u001B[0m          \u001B[38;5;124mf\u001B[39m\u001B[38;5;124m'\u001B[39m\u001B[38;5;124mincompatible with jax version \u001B[39m\u001B[38;5;132;01m{\u001B[39;00mjax_version\u001B[38;5;132;01m}\u001B[39;00m\u001B[38;5;124m. Please \u001B[39m\u001B[38;5;124m'\u001B[39m\n\u001B[1;32m     81\u001B[0m          \u001B[38;5;124m'\u001B[39m\u001B[38;5;124mupdate your jax and/or jaxlib packages.\u001B[39m\u001B[38;5;124m'\u001B[39m)\n",
      "\u001B[0;31mRuntimeError\u001B[0m: jaxlib is version 0.3.8, but this version of jax requires version >= 0.3.14."
     ]
    }
   ],
   "source": [
    "from jax.experimental.host_callback import id_print\n",
    "def generate_disc_logprob_fn(X, y, J, eta, mu):\n",
    "\n",
    "    def logprob_fn(gamma, position):\n",
    "        gamma_logp = gamma_energy(gamma, J, eta, mu)\n",
    "        beta_sel = (position[\"beta\"] * gamma)\n",
    "        sigma = jax.nn.softplus(position[\"sigma\"])[0]\n",
    "        likelihood_dist = tfd.Normal(loc= (X @ beta_sel), scale=sigma)\n",
    "        # likelihood = -jnp.sum((y - (X @ beta_sel))**2)# MSE - will change it to cross-entropy for Logistic reg\n",
    "        likelihood = jnp.sum(likelihood_dist.log_prob(y))\n",
    "        return  gamma_logp + likelihood\n",
    "\n",
    "    return logprob_fn\n",
    "\n",
    "def generate_contin_logprob(X, y):\n",
    "    n = X.shape[0]\n",
    "    def logprob_fn(gamma, position):\n",
    "        alpha = jax.nn.softplus(position[\"alpha\"])\n",
    "        precision = jax.nn.softplus(position[\"precision\"])\n",
    "        mix_probs = jax.nn.softmax(position[\"mix_probs\"])\n",
    "        loc = position[\"loc\"]\n",
    "        # sigma = jax.nn.softplus(position[\"sigma\"])\n",
    "        changed_pos = {\"alpha\": alpha, \"precision\": precision, \"mix_probs\": mix_probs, \"loc\": loc}\n",
    "        prior_logp = jnp.sum(joint_dist.log_prob(changed_pos))\n",
    "\n",
    "        beta_sel = (position[\"beta\"] * gamma )# we only apply the DP on the selected betas\n",
    "        beta_dist = tfd.MixtureSameFamily(\n",
    "                        mixture_distribution=tfd.Categorical(probs=mix_probs),\n",
    "                        components_distribution=tfd.Independent(tfd.Normal(\n",
    "                            loc=loc,\n",
    "                            scale=precision), reinterpreted_batch_ndims=1))\n",
    "\n",
    "        print(beta_dist)\n",
    "\n",
    "        beta_logp = jnp.sum(beta_dist.log_prob(beta_sel))\n",
    "        mu = jax.nn.softplus(jnp.sum((y - (X @ beta_sel))**2))\n",
    "        sigma_dist = tfd.InverseGamma(concentration=n/2, scale=mu)\n",
    "        sigma_logp = jnp.sum(sigma_dist.log_prob(sigma))\n",
    "        likelihood_dist = tfd.Normal(loc=(X @ beta_sel), scale=sigma)\n",
    "        # likelihood = -jnp.sum((y - (X @ beta_sel))**2)  # Do we need this here again?\n",
    "        likelihood = jnp.sum(likelihood_dist.log_prob(y))\n",
    "        # id_print((beta_logp, prior_logp, sigma_logp), a=\"(beta_lopg, prior_logp, sigma_logp)\")\n",
    "        return prior_logp + beta_logp + likelihood\n",
    "\n",
    "\n",
    "    return logprob_fn"
   ],
   "metadata": {
    "collapsed": false,
    "pycharm": {
     "name": "#%%\n"
    }
   }
  },
  {
   "cell_type": "code",
   "execution_count": 208,
   "metadata": {
    "execution": {
     "iopub.execute_input": "2022-08-05T19:50:02.267504Z",
     "iopub.status.busy": "2022-08-05T19:50:02.267199Z",
     "iopub.status.idle": "2022-08-05T19:50:02.757446Z",
     "shell.execute_reply": "2022-08-05T19:50:02.756777Z",
     "shell.execute_reply.started": "2022-08-05T19:50:02.267486Z"
    },
    "id": "e7k2xTMavhSd",
    "pycharm": {
     "name": "#%%\n"
    }
   },
   "outputs": [
    {
     "name": "stdout",
     "output_type": "stream",
     "text": [
      "disc logprob: -42827.859375\n",
      "contin logprob: -74499.6640625\n"
     ]
    }
   ],
   "source": [
    "## Prior Distributions\n",
    "from blackjax.mcmc.mala import MALAState\n",
    "\n",
    "# _, sample_key = jax.random.split(jax_prng_key())\n",
    "burnin = 0.1\n",
    "# eta, mu = eta_dist.sample(seed=sample_key), mu_dist.sample(seed=sample_key)\n",
    "eta, mu = 0.23, -1.9\n",
    "\n",
    "# Dirichlet Mixture params\n",
    "mix_probs = jnp.ones([max_cluster_num]) / max_cluster_num\n",
    "loc = jax.random.uniform(rng_key, minval=-9, maxval=9, shape=(max_cluster_num, dims))\n",
    "precision = jnp.ones((max_cluster_num, dims))\n",
    "alpha, sigma = jnp.ones([1]), jnp.ones(1)\n",
    "\n",
    "disc_init_pos = init_gamma_dist.sample(seed=sample_key) * 1.\n",
    "beta_init_pos = init_beta_dist.sample(seed=sample_key)\n",
    "contin_init_pos = {\"mix_probs\": mix_probs, \"loc\": loc, \"precision\": precision, \"alpha\": alpha,\n",
    "                    \"beta\": beta_init_pos, \"sigma\": sigma}\n",
    "\n",
    "disc_logprob_fn = generate_disc_logprob_fn(X_train, y_train, J, eta, mu)\n",
    "contin_logprob_fn = generate_contin_logprob(X_train, y_train)\n",
    "\n",
    "disc_logp, disc_grad = jax.value_and_grad(disc_logprob_fn)(disc_init_pos, contin_init_pos)\n",
    "contin_logp, contin_grad = jax.value_and_grad(contin_logprob_fn, argnums=1)(disc_init_pos, contin_init_pos)\n",
    "\n",
    "# sanity check\n",
    "print(f\"disc logprob: {disc_logprob_fn(disc_init_pos, contin_init_pos)}\")\n",
    "print(f\"contin logprob: {contin_logprob_fn(disc_init_pos, contin_init_pos)}\")"
   ]
  },
  {
   "cell_type": "code",
   "execution_count": 209,
   "metadata": {
    "execution": {
     "iopub.execute_input": "2022-08-05T19:50:04.172935Z",
     "iopub.status.busy": "2022-08-05T19:50:04.172308Z",
     "iopub.status.idle": "2022-08-05T19:50:04.215988Z",
     "shell.execute_reply": "2022-08-05T19:50:04.215364Z",
     "shell.execute_reply.started": "2022-08-05T19:50:04.172913Z"
    },
    "id": "SFiWkL3r4LCb",
    "pycharm": {
     "name": "#%%\n"
    }
   },
   "outputs": [],
   "source": [
    "disc_state = MALAState(disc_init_pos, disc_logp, disc_grad)\n",
    "contin_state = MALAState(contin_init_pos, contin_logp, contin_grad)"
   ]
  },
  {
   "cell_type": "code",
   "execution_count": 210,
   "outputs": [],
   "source": [
    "\n",
    "def mm_inference_loop(rng_key, kernel, initial_state, num_samples):\n",
    "    @jax.jit\n",
    "    def one_step(state, rng_key):\n",
    "        new_state = kernel(rng_key, state)\n",
    "        return new_state, new_state\n",
    "\n",
    "    keys = jax.random.split(rng_key, num_samples)\n",
    "    _, states = jax.lax.scan(one_step, initial_state, keys)\n",
    "\n",
    "    return states"
   ],
   "metadata": {
    "collapsed": false,
    "pycharm": {
     "name": "#%%\n"
    }
   }
  },
  {
   "cell_type": "code",
   "execution_count": 211,
   "metadata": {
    "execution": {
     "iopub.execute_input": "2022-08-05T19:50:07.468529Z",
     "iopub.status.busy": "2022-08-05T19:50:07.468234Z",
     "iopub.status.idle": "2022-08-05T19:50:11.169070Z",
     "shell.execute_reply": "2022-08-05T19:50:11.168416Z",
     "shell.execute_reply.started": "2022-08-05T19:50:07.468507Z"
    },
    "id": "7MGErBWoDvgA",
    "pycharm": {
     "name": "#%%\n"
    }
   },
   "outputs": [],
   "source": [
    "%autoreload\n",
    "import blackjax\n",
    "\n",
    "discrete_step = 0.2\n",
    "contin_step = 1e-6\n",
    "# end_contin_step = 1e-10\n",
    "\n",
    "L = 1\n",
    "num_samples = 10000\n",
    "\n",
    "mixed_mala = blackjax.mixed_mala(disc_logprob_fn, contin_logprob_fn, discrete_step, contin_step, L)\n",
    "\n",
    "\n",
    "\n",
    "init_state = mixed_mala.init((disc_init_pos, contin_init_pos))\n",
    "mm_kernel = jax.jit(mixed_mala.step)\n",
    "post_samples = mm_inference_loop(rng_key, mm_kernel, init_state, num_samples)\n"
   ]
  },
  {
   "cell_type": "code",
   "execution_count": 204,
   "outputs": [
    {
     "data": {
      "text/plain": "[<matplotlib.lines.Line2D at 0x7f3d1e6eed60>]"
     },
     "execution_count": 204,
     "metadata": {},
     "output_type": "execute_result"
    },
    {
     "data": {
      "text/plain": "<Figure size 432x288 with 1 Axes>",
      "image/png": "[encoded data removed]"
     },
     "metadata": {
      "needs_background": "light"
     },
     "output_type": "display_data"
    }
   ],
   "source": [
    "plt.plot(post_samples.disc_logprob)"
   ],
   "metadata": {
    "collapsed": false,
    "pycharm": {
     "name": "#%%\n"
    }
   }
  },
  {
   "cell_type": "code",
   "execution_count": 205,
   "outputs": [
    {
     "data": {
      "text/plain": "[<matplotlib.lines.Line2D at 0x7f3d1e58d1f0>]"
     },
     "execution_count": 205,
     "metadata": {},
     "output_type": "execute_result"
    },
    {
     "data": {
      "text/plain": "<Figure size 432x288 with 1 Axes>",
      "image/png": "[encoded data removed]"
     },
     "metadata": {
      "needs_background": "light"
     },
     "output_type": "display_data"
    }
   ],
   "source": [
    "plt.plot(post_samples.contin_logprob)"
   ],
   "metadata": {
    "collapsed": false,
    "pycharm": {
     "name": "#%%\n"
    }
   }
  },
  {
   "cell_type": "code",
   "execution_count": 189,
   "outputs": [
    {
     "data": {
      "text/plain": "DeviceArray([1.0000000e+00, 1.0000000e+00, 1.0000000e+00, 1.0000000e+00,\n             1.0000000e+00, 1.0000000e+00, 1.0000000e+00, 1.0000000e+00,\n             1.0000000e+00, 1.0000000e+00, 1.0000000e+00, 1.0000000e+00,\n             1.0000000e+00, 1.0000000e+00, 1.0000000e+00, 1.0000000e+00,\n             1.0000000e+00, 1.0000000e+00, 1.0000000e+00, 1.0000000e+00,\n             1.0000000e+00, 1.0000000e+00, 1.0000000e+00, 1.0000000e+00,\n             1.0000000e+00, 1.0000000e+00, 1.0000000e+00, 1.0000000e+00,\n             1.0000000e+00, 1.0000000e+00, 1.0000000e+00, 1.0000000e+00,\n             1.0000000e+00, 1.0000000e+00, 1.0000000e+00, 1.0000000e+00,\n             1.0000000e+00, 1.0000000e+00, 1.0000000e+00, 1.0000000e+00,\n             1.0000000e+00, 1.0000000e+00, 1.0000000e+00, 1.0000000e+00,\n             8.1000000e+03, 1.0000000e+00, 8.1000000e+03, 8.1000000e+03,\n             8.1000000e+03, 8.1000000e+03, 8.1000000e+03, 8.1000000e+03,\n             8.1000000e+03, 8.1000000e+03, 8.1000000e+03, 2.2738508e+03,\n             8.1000000e+03, 8.1000000e+03, 8.1000000e+03, 1.0000000e+00,\n             1.0000000e+00, 8.1000010e+03, 8.1000000e+03, 8.1000000e+03,\n             1.0000000e+00, 1.0000000e+00, 1.0000000e+00, 4.0873071e+03,\n             1.0000000e+00, 3.7776555e+03, 1.0000000e+00, 1.0000000e+00,\n             3.0008350e+03, 1.0000000e+00, 1.0000000e+00, 1.0000000e+00,\n             1.0000000e+00, 5.3522559e+03, 8.1000000e+03, 1.0000000e+00,\n             8.1000000e+03, 1.0000000e+00, 8.1000000e+03, 1.0000000e+00,\n             2.5212021e+03, 1.0000000e+00, 1.0000000e+00, 1.0000000e+00,\n             1.0000000e+00, 8.1000000e+03, 8.1000000e+03, 8.1000000e+03,\n             8.1000000e+03, 1.0000000e+00, 8.1000000e+03, 8.1000000e+03,\n             8.1000000e+03, 8.1000000e+03, 1.0000000e+00, 8.1000000e+03,\n             8.1000000e+03, 8.1000000e+03, 1.0000000e+00, 5.1887505e+03,\n             8.1000000e+03, 5.4465674e+03, 1.0000000e+00, 1.0000000e+00,\n             8.1000000e+03, 8.1000000e+03, 8.0999980e+03, 1.0000000e+00,\n             8.1000000e+03, 8.1000000e+03, 8.1000000e+03, 8.1000000e+03,\n             5.1282661e+03, 8.1000000e+03, 1.0000000e+00, 8.1000000e+03,\n             8.1000010e+03, 8.1000000e+03, 1.0000000e+00, 8.1000000e+03,\n             8.1000000e+03, 1.0000000e+00, 8.1000000e+03, 1.0000000e+00,\n             8.1000000e+03, 8.1000000e+03, 8.1000000e+03, 8.1000000e+03,\n             1.0000000e+00, 1.0000000e+00, 1.0000000e+00, 1.0000000e+00,\n             1.0000000e+00, 1.0000000e+00, 1.0000000e+00, 1.0000000e+00,\n             3.8447578e+03, 5.3026841e+03, 8.1000000e+03, 1.0000000e+00,\n             1.0000000e+00, 8.1000000e+03, 1.0000000e+00, 8.1000000e+03,\n             8.1000000e+03, 8.1000000e+03, 8.1000000e+03, 8.1000000e+03,\n             8.1000000e+03, 8.1000000e+03, 8.1000000e+03, 8.1000000e+03,\n             4.7477905e+03, 8.1000000e+03, 8.1000000e+03, 8.1000000e+03,\n             1.0000000e+00, 8.1000000e+03, 8.1000000e+03, 8.1000000e+03,\n             8.1000000e+03, 1.0000000e+00, 1.0000000e+00, 8.1000000e+03,\n             1.0000000e+00, 8.1000000e+03, 1.0000000e+00, 6.4494727e+03,\n             1.0000000e+00, 1.0000000e+00, 1.0000000e+00, 1.0000000e+00,\n             8.1000000e+03, 8.1000000e+03, 8.1000000e+03, 8.1000000e+03,\n             8.1000000e+03, 1.0000000e+00, 8.1000000e+03, 8.1000000e+03,\n             8.1000000e+03, 8.1000000e+03, 1.0000000e+00, 4.3908862e+03,\n             1.0000000e+00, 5.4035098e+03, 1.0000000e+00, 1.0000000e+00,\n             1.0000000e+00, 1.0000000e+00, 8.1000000e+03, 1.0000000e+00,\n             8.1000000e+03, 1.0000000e+00, 1.0000000e+00, 1.0000000e+00,\n             1.0000000e+00, 1.0000000e+00, 1.0000000e+00, 8.1000000e+03,\n             5.4080244e+03, 1.0000000e+00, 1.0000000e+00, 1.0000000e+00,\n             1.0000000e+00, 8.1000000e+03, 8.1000000e+03, 3.5862192e+03,\n             8.1000000e+03, 8.1000000e+03, 8.1000000e+03, 8.1000000e+03,\n             8.1000000e+03, 8.1000000e+03, 8.1000000e+03, 8.1000000e+03],            dtype=float32)"
     },
     "execution_count": 189,
     "metadata": {},
     "output_type": "execute_result"
    }
   ],
   "source": [
    "get_ess(post_samples.position.discrete_position[int(burnin*num_samples):], burnin)"
   ],
   "metadata": {
    "collapsed": false,
    "pycharm": {
     "name": "#%%\n"
    }
   }
  },
  {
   "cell_type": "code",
   "execution_count": 190,
   "outputs": [
    {
     "data": {
      "text/plain": "DeviceArray(97.44356, dtype=float32)"
     },
     "execution_count": 190,
     "metadata": {},
     "output_type": "execute_result"
    }
   ],
   "source": [
    "np.mean(np.sum(post_samples.position.discrete_position[int(burnin*num_samples):], axis=1), axis=0)"
   ],
   "metadata": {
    "collapsed": false,
    "pycharm": {
     "name": "#%%\n"
    }
   }
  },
  {
   "cell_type": "code",
   "execution_count": 191,
   "outputs": [
    {
     "data": {
      "text/plain": "DeviceArray([1., 1., 1., 1., 1., 1., 1., 1., 1., 1., 1., 1., 1., 1., 1.,\n             1., 1., 1., 1., 1., 1., 1., 1., 1., 1., 1., 1., 1., 1., 1.,\n             1., 1., 1., 1., 1., 1., 1., 1., 1., 1., 1., 1., 1., 1., 1.,\n             1., 1., 1., 1., 1., 1., 1., 1., 1., 1., 1., 1., 1., 1., 1.,\n             1., 1., 1., 1., 1., 1., 1., 1., 1., 1., 1., 1., 1., 1., 1.,\n             1., 1., 1., 1., 1., 1., 1., 1., 1., 1., 1., 1., 1., 1., 1.,\n             1., 1., 1., 1., 1., 1., 1., 1., 1., 1., 1., 1., 1., 1., 1.,\n             1., 1., 1., 1., 1., 1., 1., 1., 1., 1., 1., 1., 1., 1., 1.,\n             1., 1., 1., 1., 1., 1., 1., 1., 1., 1., 1., 1., 1., 1., 1.,\n             1., 1., 1., 1., 1., 1., 1., 1., 1., 1., 1., 1., 1., 1., 1.,\n             1., 1., 1., 1., 1., 1., 1., 1., 1., 1., 1., 1., 1., 1., 1.,\n             1., 1., 1., 1., 1., 1., 1., 1., 1., 1., 1., 1., 1., 1., 1.,\n             1., 1., 1., 1., 1., 1., 1., 1., 1., 1., 1., 1., 1., 1., 1.,\n             1., 1., 1., 1., 1., 1., 1., 1., 1., 1., 1., 1., 1., 1., 1.,\n             1., 1., 1., 1., 1., 1., 1., 1., 1., 1.], dtype=float32)"
     },
     "execution_count": 191,
     "metadata": {},
     "output_type": "execute_result"
    }
   ],
   "source": [
    "get_ess(post_samples.position.contin_position[\"beta\"], burnin)"
   ],
   "metadata": {
    "collapsed": false,
    "pycharm": {
     "name": "#%%\n"
    }
   }
  },
  {
   "cell_type": "code",
   "execution_count": 60,
   "outputs": [
    {
     "data": {
      "text/plain": "DeviceArray([0.6666667 , 0.33333334, 0.33333334, 0.6666667 , 0.33333334,\n             0.33333334, 0.6666667 , 0.33333334, 0.33333334, 0.33333334,\n             0.33333334, 0.33333334, 0.33333334, 0.33333334, 0.33333334,\n             0.        , 0.6666667 , 0.6666667 , 0.6666667 , 0.6666667 ,\n             0.6666667 , 0.33333334, 0.6666667 , 0.6666667 , 0.6666667 ,\n             0.33333334, 0.33333334, 0.33333334, 0.6666667 , 0.33333334,\n             0.33333334, 0.6666667 , 0.6666667 , 0.33333334, 0.6666667 ,\n             0.6666667 , 1.        , 0.6666667 , 0.33333334, 0.33333334,\n             0.6666667 , 1.        , 0.33333334, 0.33333334, 0.33333334,\n             0.33333334, 0.33333334, 0.33333334, 0.6666667 , 0.6666667 ,\n             0.6666667 , 0.33333334, 0.33333334, 0.6666667 , 0.33333334,\n             0.6666667 , 0.33333334, 0.6666667 , 0.6666667 , 0.6666667 ,\n             0.33333334, 0.6666667 , 0.6666667 , 0.33333334, 0.33333334,\n             0.6666667 , 0.33333334, 0.33333334, 0.33333334, 0.33333334,\n             0.6666667 , 0.33333334, 0.33333334, 0.6666667 , 0.6666667 ,\n             0.33333334, 0.33333334, 0.6666667 , 0.6666667 , 0.33333334,\n             0.33333334, 0.33333334, 0.6666667 , 0.6666667 , 0.6665556 ,\n             0.6666667 , 0.6666667 , 0.6666667 , 0.6666667 , 0.33333334,\n             0.33333334, 0.6666667 , 0.6666667 , 0.33333334, 0.6666667 ,\n             0.6666667 , 0.33333334, 0.6666667 , 0.6666667 , 0.6666667 ,\n             0.6666667 , 0.6666667 , 0.6666667 , 0.6666667 , 0.33333334,\n             0.33333334, 0.33333334, 0.6666667 , 0.6666667 , 0.6666667 ,\n             0.33333334, 0.33333334, 0.6666667 , 0.33333334, 0.6666667 ,\n             0.33333334, 0.33333334, 0.6666667 , 0.6666667 , 0.6666667 ,\n             0.33333334, 0.33333334, 0.6666667 , 0.6666667 , 0.6666667 ,\n             0.33333334, 0.6666667 , 0.6666667 , 0.6666667 , 0.6666667 ,\n             0.6666667 , 0.33333334, 0.6666667 , 0.6666667 , 0.6666667 ,\n             0.6666667 , 0.6666667 , 0.6666667 , 0.        , 0.6666667 ,\n             1.        , 0.6666667 , 0.6666667 , 0.6666667 , 0.6666667 ,\n             0.6666667 , 0.33333334, 0.33333334, 0.33333334, 0.33333334,\n             0.6666667 , 0.33333334, 0.6666667 , 0.33333334, 0.6666667 ,\n             0.33333334, 0.6666667 , 0.6666667 , 0.6666667 , 0.6666667 ,\n             0.        , 0.6666667 , 0.6666667 , 0.6666667 , 0.6666667 ,\n             0.33333334, 0.6666667 , 0.6666667 , 0.33333334, 0.6666667 ,\n             0.6666667 , 1.        , 0.6666667 , 0.33333334, 0.33333334,\n             0.33333334, 0.6666667 , 0.33333334, 0.6666667 , 0.33333334,\n             0.33333334, 0.33333334, 0.6666667 , 0.33333334, 0.33333334,\n             0.6666667 , 0.6666667 , 0.6666667 , 0.6666667 , 0.33333334,\n             0.6666667 , 0.6666667 , 0.33333334, 0.        , 0.33333334,\n             0.33333334, 0.33333334, 1.        , 0.6666667 , 0.6666667 ,\n             0.6666667 , 0.6666667 , 0.6666667 , 0.6666667 , 0.33333334,\n             0.6666667 , 0.6666667 , 0.6666667 , 0.33333334, 0.6666667 ,\n             0.33333334, 0.6666667 , 0.33333334, 0.6666667 , 0.33333334,\n             0.33333334, 0.33333334, 0.6666667 , 0.6666667 , 0.33333334],            dtype=float32)"
     },
     "execution_count": 60,
     "metadata": {},
     "output_type": "execute_result"
    }
   ],
   "source": [
    "jnp.mean(post_samples.position.discrete_position[int(burnin*num_samples):], axis=0)"
   ],
   "metadata": {
    "collapsed": false,
    "pycharm": {
     "name": "#%%\n"
    }
   }
  },
  {
   "cell_type": "code",
   "execution_count": 61,
   "outputs": [],
   "source": [
    "after_burnin = num_samples - int(burnin*num_samples)\n",
    "\n",
    "count = jnp.sum(post_samples.position.discrete_position[-after_burnin:] == jnp.ones((after_burnin, p)), axis=0)\n",
    "count = count / after_burnin\n",
    "idx = np.argwhere(count == 1)"
   ],
   "metadata": {
    "collapsed": false,
    "pycharm": {
     "name": "#%%\n"
    }
   }
  },
  {
   "cell_type": "code",
   "execution_count": 62,
   "outputs": [
    {
     "data": {
      "text/plain": "array([[ 36],\n       [ 41],\n       [140],\n       [171],\n       [197]], dtype=int32)"
     },
     "execution_count": 62,
     "metadata": {},
     "output_type": "execute_result"
    }
   ],
   "source": [
    "idx"
   ],
   "metadata": {
    "collapsed": false,
    "pycharm": {
     "name": "#%%\n"
    }
   }
  },
  {
   "cell_type": "code",
   "execution_count": 438,
   "outputs": [],
   "source": [
    "mask = np.zeros(p)\n",
    "mask[idx] = 1."
   ],
   "metadata": {
    "collapsed": false,
    "pycharm": {
     "name": "#%%\n"
    }
   }
  },
  {
   "cell_type": "code",
   "execution_count": 439,
   "outputs": [],
   "source": [
    "beta_mean = jnp.mean(post_samples.position.contin_position[\"beta\"][-after_burnin:], axis=0)"
   ],
   "metadata": {
    "collapsed": false,
    "pycharm": {
     "name": "#%%\n"
    }
   }
  },
  {
   "cell_type": "code",
   "execution_count": 440,
   "outputs": [
    {
     "data": {
      "text/plain": "DeviceArray([[ 0.7793652 ],\n             [ 0.65472424],\n             [ 1.3554393 ],\n             [ 0.2873859 ],\n             [ 0.8651368 ],\n             [ 1.064304  ],\n             [ 1.3720478 ],\n             [ 2.1502357 ],\n             [ 1.4969984 ],\n             [ 0.7380357 ],\n             [ 0.42589447],\n             [ 1.496183  ],\n             [ 1.2750962 ],\n             [ 0.4894644 ],\n             [-1.1422236 ],\n             [-1.9322939 ]], dtype=float32)"
     },
     "execution_count": 440,
     "metadata": {},
     "output_type": "execute_result"
    }
   ],
   "source": [
    "beta_mean[idx]"
   ],
   "metadata": {
    "collapsed": false,
    "pycharm": {
     "name": "#%%\n"
    }
   }
  },
  {
   "cell_type": "code",
   "execution_count": 441,
   "outputs": [
    {
     "data": {
      "text/plain": "DeviceArray([ 0.04988884, -1.4763514 , -1.0037918 , -0.646032  ,\n             -0.78511244,  0.12243191,  0.2189167 ,  0.7793652 ,\n             -1.320902  , -0.6683453 , -1.0862435 , -0.9459912 ,\n             -0.6953757 ,  0.65472424, -1.0500953 ,  1.3554393 ,\n             -0.32465935, -0.7439053 , -0.3743278 ,  0.37750998,\n             -1.3323117 , -0.891101  ,  0.2873859 ,  0.20574859,\n             -1.2548807 ,  0.8651368 ,  0.08666334,  1.064304  ,\n             -0.92414886, -0.62545484,  1.3720478 ,  0.19653115,\n              2.1502357 , -0.9105317 , -0.50185776,  1.4969984 ,\n              0.7380357 , -0.68939424, -0.01414957,  0.42589447,\n              1.496183  ,  1.2750962 ,  0.4894644 , -1.3792808 ,\n             -0.32487148,  0.37731716, -2.526175  , -2.1641498 ,\n              1.0053191 , -0.71497744, -0.29956445,  0.93444663,\n              1.3123035 ,  0.43158334,  0.25610253,  0.7249027 ,\n             -0.979391  ,  1.1282829 ,  0.25673884,  0.0316744 ,\n             -1.1320318 , -1.2975053 ,  1.6054424 , -0.8046797 ,\n              0.42693433,  1.411156  ,  2.0318282 , -0.6183132 ,\n             -0.21540953,  0.5145027 ,  0.52906674,  0.8226448 ,\n              1.8044981 , -0.2624094 , -0.76413935,  0.8009607 ,\n              0.19558132, -0.42000848, -0.08874767,  0.18098313,\n              0.1270542 , -0.53896016, -0.6648839 ,  0.86494046,\n             -2.4954324 , -0.09932319, -1.3496224 ,  0.7545355 ,\n              0.06246104, -0.86893237,  0.41445726,  0.25893307,\n              2.235433  , -0.04069143, -0.3191516 ,  0.7174777 ,\n             -2.4150655 , -0.5298642 , -0.03216324,  1.5660175 ,\n             -1.2035547 ,  1.5445172 , -0.3524452 , -1.8264723 ,\n             -0.21056978, -0.45452926,  1.4554154 ,  0.48176998,\n             -0.98493564,  0.2350459 , -0.5221442 , -1.2838678 ,\n              0.25273594,  0.49611622, -1.157974  , -1.0549058 ,\n              0.8725407 ,  1.6380364 ,  0.47262707, -0.2153311 ,\n              2.8562808 , -1.017626  ,  1.3452917 , -0.93409896,\n             -0.48380947, -1.1422236 , -0.17996067, -0.56583893,\n              1.8766844 ,  0.08337528, -0.53487045, -0.1737543 ,\n              0.6294144 ,  0.0066962 , -1.9322939 ,  0.05548788,\n              0.10467927,  0.25465024,  0.96318513, -0.67982745,\n             -0.2654393 ,  1.4605467 , -1.0512191 , -1.047111  ,\n             -0.07698899, -1.673195  ,  0.9408787 , -0.8830671 ,\n              0.02171119, -0.50252146,  1.5316767 , -1.6065462 ,\n             -2.164984  ,  0.63299614,  1.1240846 , -0.3246822 ,\n              0.4358864 , -0.22916369,  0.42953268,  0.5207589 ,\n             -0.7702409 , -0.18540694,  0.7717321 , -1.4783691 ,\n              0.39392915, -0.6476564 , -2.5556452 , -1.5200399 ,\n              0.77693546, -0.84306514, -0.03861488,  1.0465914 ,\n             -0.93349385, -0.26901233, -0.21113202, -0.73819244,\n              0.06069326, -0.37159938,  2.3144631 , -1.102625  ,\n              0.86965525, -0.851082  ,  0.98506075,  0.881824  ,\n             -0.8591505 , -0.4587296 ,  0.39167136, -2.4260817 ,\n             -0.2597933 , -0.8567802 ,  1.2348508 , -1.2930448 ,\n              1.3420285 ,  0.58498156,  0.00715775, -0.14702843,\n             -1.0507767 ,  0.00908957,  1.5039518 , -1.2045186 ,\n             -0.6549764 , -0.23413678, -0.48842362,  1.0076077 ,\n             -0.04273878, -0.30829287, -0.722357  , -0.3608591 ,\n              0.7100312 ,  0.7611372 ,  1.5566645 , -0.44353777,\n             -0.7916564 ,  1.6812589 ,  1.5257409 ,  1.4788452 ,\n              0.81121206, -0.5637996 , -0.63833296,  0.14587224],            dtype=float32)"
     },
     "execution_count": 441,
     "metadata": {},
     "output_type": "execute_result"
    }
   ],
   "source": [
    "beta_mean"
   ],
   "metadata": {
    "collapsed": false,
    "pycharm": {
     "name": "#%%\n"
    }
   }
  },
  {
   "cell_type": "code",
   "execution_count": 442,
   "outputs": [
    {
     "data": {
      "text/plain": "array([-16.43064345, -44.52301487, -47.03722782,  24.83671888,\n        -6.32733362,  35.19591026, -14.1746924 ,   6.05819514,\n        71.34866981,   8.89598294,   6.79112717, -37.76036321,\n        32.53587372, -24.98372392, -76.31231772,  55.48158119,\n         7.07174034,  24.62862474, -49.84016726,  -5.66028485,\n        21.30136923, -22.12926954, -18.69784576,  19.06767792,\n        15.64283964,   0.37736688, -19.26471162,  12.31527468,\n         1.12119291,   5.68984485,  38.26370577, -12.36302739,\n       -21.12484137, -34.98658104,  -9.15289675,  13.2432983 ,\n       -63.74302306,  -0.77788809,  45.94037846,   4.31170086,\n        32.53579374,  68.23226933,  43.29437402, -36.24684565,\n        35.38599582,  -6.64109961,  21.10623385,  -4.3913634 ,\n        -6.40550389,  43.23361408,  13.32671114,  71.30412534,\n        80.40365332, -40.11093094,  46.22111628,   4.55309902,\n       -44.42406127,   9.06467769,   7.0142362 ,  52.09668813,\n         0.97031959,  19.2269571 ,  32.64188839,  89.29869024,\n         3.58246079,  -0.44076269,  -2.09668036,  69.08760463,\n        31.36121234, -86.11593346])"
     },
     "execution_count": 442,
     "metadata": {},
     "output_type": "execute_result"
    }
   ],
   "source": [
    "y_train"
   ],
   "metadata": {
    "collapsed": false,
    "pycharm": {
     "name": "#%%\n"
    }
   }
  },
  {
   "cell_type": "code",
   "execution_count": 443,
   "outputs": [
    {
     "data": {
      "text/plain": "2.4587082869310646e-27"
     },
     "execution_count": 443,
     "metadata": {},
     "output_type": "execute_result"
    }
   ],
   "source": [
    "clf = LinearRegression()\n",
    "clf.fit(X_train, y_train)\n",
    "mean_squared_error(y_train ,clf.predict(X_train))"
   ],
   "metadata": {
    "collapsed": false,
    "pycharm": {
     "name": "#%%\n"
    }
   }
  },
  {
   "cell_type": "code",
   "execution_count": 444,
   "outputs": [
    {
     "data": {
      "text/plain": "941.5871456093985"
     },
     "execution_count": 444,
     "metadata": {},
     "output_type": "execute_result"
    }
   ],
   "source": [
    "mean_squared_error(y_train, (X_train @ (beta_mean * mask)))"
   ],
   "metadata": {
    "collapsed": false,
    "pycharm": {
     "name": "#%%\n"
    }
   }
  },
  {
   "cell_type": "code",
   "execution_count": 267,
   "outputs": [
    {
     "data": {
      "text/plain": "(100,)"
     },
     "execution_count": 267,
     "metadata": {},
     "output_type": "execute_result"
    }
   ],
   "source": [
    "(X @ (beta_mean * mask)).shape"
   ],
   "metadata": {
    "collapsed": false,
    "pycharm": {
     "name": "#%%\n"
    }
   }
  },
  {
   "cell_type": "code",
   "execution_count": 249,
   "metadata": {
    "colab": {
     "base_uri": "https://localhost:8080/"
    },
    "execution": {
     "iopub.execute_input": "2022-08-05T19:50:23.579019Z",
     "iopub.status.busy": "2022-08-05T19:50:23.578729Z",
     "iopub.status.idle": "2022-08-05T19:50:23.587068Z",
     "shell.execute_reply": "2022-08-05T19:50:23.586536Z",
     "shell.execute_reply.started": "2022-08-05T19:50:23.578996Z"
    },
    "id": "pWBDVV5dVOo1",
    "outputId": "1aebafca-c951-4824-80ea-762c25c499ae",
    "pycharm": {
     "name": "#%%\n"
    }
   },
   "outputs": [
    {
     "data": {
      "text/plain": "DeviceArray([ 0.2792703 , -0.18597655,  0.30200517,  0.2838874 ,\n             -0.19167244,  1.5195519 ,  0.42364323,  0.10489247,\n              0.15010683, -0.07017838,  0.3615261 , -1.4708123 ,\n             -1.3895881 ,  0.10029171,  1.3744712 ,  0.0314678 ,\n             -0.5983568 , -1.0812591 ,  0.47836947,  0.74597526],            dtype=float32)"
     },
     "execution_count": 249,
     "metadata": {},
     "output_type": "execute_result"
    }
   ],
   "source": [
    "jnp.mean(post_samples.position.contin_position[\"beta\"][int(burnin*num_samples):], axis=0)"
   ]
  },
  {
   "cell_type": "code",
   "execution_count": 257,
   "metadata": {
    "colab": {
     "base_uri": "https://localhost:8080/",
     "height": 501
    },
    "execution": {
     "iopub.execute_input": "2022-08-05T19:50:26.876399Z",
     "iopub.status.busy": "2022-08-05T19:50:26.876135Z",
     "iopub.status.idle": "2022-08-05T19:50:26.966181Z",
     "shell.execute_reply": "2022-08-05T19:50:26.965483Z",
     "shell.execute_reply.started": "2022-08-05T19:50:26.876380Z"
    },
    "id": "rZknPLted9hF",
    "outputId": "65f53112-595f-4555-c66e-99be1cc92213",
    "pycharm": {
     "name": "#%%\n"
    }
   },
   "outputs": [
    {
     "ename": "ValueError",
     "evalue": "x and y must have same first dimension, but have shapes (220,) and (1, 4)",
     "output_type": "error",
     "traceback": [
      "\u001B[0;31m---------------------------------------------------------------------------\u001B[0m",
      "\u001B[0;31mValueError\u001B[0m                                Traceback (most recent call last)",
      "Input \u001B[0;32mIn [257]\u001B[0m, in \u001B[0;36m<cell line: 2>\u001B[0;34m()\u001B[0m\n\u001B[1;32m      1\u001B[0m fig, ax \u001B[38;5;241m=\u001B[39m plt\u001B[38;5;241m.\u001B[39msubplots(figsize\u001B[38;5;241m=\u001B[39m(\u001B[38;5;241m8\u001B[39m, \u001B[38;5;241m8\u001B[39m))\n\u001B[0;32m----> 2\u001B[0m \u001B[43max\u001B[49m\u001B[38;5;241;43m.\u001B[39;49m\u001B[43mplot\u001B[49m\u001B[43m(\u001B[49m\u001B[43mnp\u001B[49m\u001B[38;5;241;43m.\u001B[39;49m\u001B[43marange\u001B[49m\u001B[43m(\u001B[49m\u001B[38;5;241;43m0\u001B[39;49m\u001B[43m,\u001B[49m\u001B[43m \u001B[49m\u001B[43mp\u001B[49m\u001B[43m)\u001B[49m\u001B[43m,\u001B[49m\u001B[43m \u001B[49m\u001B[43mjnp\u001B[49m\u001B[38;5;241;43m.\u001B[39;49m\u001B[43mmean\u001B[49m\u001B[43m(\u001B[49m\u001B[43mpost_samples\u001B[49m\u001B[38;5;241;43m.\u001B[39;49m\u001B[43mposition\u001B[49m\u001B[38;5;241;43m.\u001B[39;49m\u001B[43mcontin_position\u001B[49m\u001B[43m[\u001B[49m\u001B[38;5;124;43m\"\u001B[39;49m\u001B[38;5;124;43mbeta\u001B[39;49m\u001B[38;5;124;43m\"\u001B[39;49m\u001B[43m]\u001B[49m\u001B[43m[\u001B[49m\u001B[38;5;28;43mint\u001B[39;49m\u001B[43m(\u001B[49m\u001B[43mburnin\u001B[49m\u001B[38;5;241;43m*\u001B[39;49m\u001B[43mnum_samples\u001B[49m\u001B[43m)\u001B[49m\u001B[43m:\u001B[49m\u001B[43m,\u001B[49m\u001B[43midx\u001B[49m\u001B[43m]\u001B[49m\u001B[43m,\u001B[49m\u001B[43m \u001B[49m\u001B[43maxis\u001B[49m\u001B[38;5;241;43m=\u001B[39;49m\u001B[38;5;241;43m0\u001B[39;49m\u001B[43m)\u001B[49m\u001B[43m,\u001B[49m\u001B[43m \u001B[49m\u001B[43mcolor\u001B[49m\u001B[38;5;241;43m=\u001B[39;49m\u001B[38;5;124;43m\"\u001B[39;49m\u001B[38;5;124;43morange\u001B[39;49m\u001B[38;5;124;43m\"\u001B[39;49m\u001B[43m)\u001B[49m\n\u001B[1;32m      3\u001B[0m ax\u001B[38;5;241m.\u001B[39maxvline(x\u001B[38;5;241m=\u001B[39m\u001B[38;5;241m44\u001B[39m, linestyle\u001B[38;5;241m=\u001B[39m\u001B[38;5;124m\"\u001B[39m\u001B[38;5;124m--\u001B[39m\u001B[38;5;124m\"\u001B[39m, color\u001B[38;5;241m=\u001B[39m\u001B[38;5;124m\"\u001B[39m\u001B[38;5;124mblue\u001B[39m\u001B[38;5;124m\"\u001B[39m, label\u001B[38;5;241m=\u001B[39m\u001B[38;5;124m\"\u001B[39m\u001B[38;5;124mi = 44\u001B[39m\u001B[38;5;124m\"\u001B[39m)\n",
      "File \u001B[0;32m~/miniconda3/lib/python3.9/site-packages/matplotlib/axes/_axes.py:1632\u001B[0m, in \u001B[0;36mAxes.plot\u001B[0;34m(self, scalex, scaley, data, *args, **kwargs)\u001B[0m\n\u001B[1;32m   1390\u001B[0m \u001B[38;5;124;03m\"\"\"\u001B[39;00m\n\u001B[1;32m   1391\u001B[0m \u001B[38;5;124;03mPlot y versus x as lines and/or markers.\u001B[39;00m\n\u001B[1;32m   1392\u001B[0m \n\u001B[0;32m   (...)\u001B[0m\n\u001B[1;32m   1629\u001B[0m \u001B[38;5;124;03m(``'green'``) or hex strings (``'#008000'``).\u001B[39;00m\n\u001B[1;32m   1630\u001B[0m \u001B[38;5;124;03m\"\"\"\u001B[39;00m\n\u001B[1;32m   1631\u001B[0m kwargs \u001B[38;5;241m=\u001B[39m cbook\u001B[38;5;241m.\u001B[39mnormalize_kwargs(kwargs, mlines\u001B[38;5;241m.\u001B[39mLine2D)\n\u001B[0;32m-> 1632\u001B[0m lines \u001B[38;5;241m=\u001B[39m [\u001B[38;5;241m*\u001B[39m\u001B[38;5;28mself\u001B[39m\u001B[38;5;241m.\u001B[39m_get_lines(\u001B[38;5;241m*\u001B[39margs, data\u001B[38;5;241m=\u001B[39mdata, \u001B[38;5;241m*\u001B[39m\u001B[38;5;241m*\u001B[39mkwargs)]\n\u001B[1;32m   1633\u001B[0m \u001B[38;5;28;01mfor\u001B[39;00m line \u001B[38;5;129;01min\u001B[39;00m lines:\n\u001B[1;32m   1634\u001B[0m     \u001B[38;5;28mself\u001B[39m\u001B[38;5;241m.\u001B[39madd_line(line)\n",
      "File \u001B[0;32m~/miniconda3/lib/python3.9/site-packages/matplotlib/axes/_base.py:312\u001B[0m, in \u001B[0;36m_process_plot_var_args.__call__\u001B[0;34m(self, data, *args, **kwargs)\u001B[0m\n\u001B[1;32m    310\u001B[0m     this \u001B[38;5;241m+\u001B[39m\u001B[38;5;241m=\u001B[39m args[\u001B[38;5;241m0\u001B[39m],\n\u001B[1;32m    311\u001B[0m     args \u001B[38;5;241m=\u001B[39m args[\u001B[38;5;241m1\u001B[39m:]\n\u001B[0;32m--> 312\u001B[0m \u001B[38;5;28;01myield from\u001B[39;00m \u001B[38;5;28;43mself\u001B[39;49m\u001B[38;5;241;43m.\u001B[39;49m\u001B[43m_plot_args\u001B[49m\u001B[43m(\u001B[49m\u001B[43mthis\u001B[49m\u001B[43m,\u001B[49m\u001B[43m \u001B[49m\u001B[43mkwargs\u001B[49m\u001B[43m)\u001B[49m\n",
      "File \u001B[0;32m~/miniconda3/lib/python3.9/site-packages/matplotlib/axes/_base.py:498\u001B[0m, in \u001B[0;36m_process_plot_var_args._plot_args\u001B[0;34m(self, tup, kwargs, return_kwargs)\u001B[0m\n\u001B[1;32m    495\u001B[0m     \u001B[38;5;28mself\u001B[39m\u001B[38;5;241m.\u001B[39maxes\u001B[38;5;241m.\u001B[39myaxis\u001B[38;5;241m.\u001B[39mupdate_units(y)\n\u001B[1;32m    497\u001B[0m \u001B[38;5;28;01mif\u001B[39;00m x\u001B[38;5;241m.\u001B[39mshape[\u001B[38;5;241m0\u001B[39m] \u001B[38;5;241m!=\u001B[39m y\u001B[38;5;241m.\u001B[39mshape[\u001B[38;5;241m0\u001B[39m]:\n\u001B[0;32m--> 498\u001B[0m     \u001B[38;5;28;01mraise\u001B[39;00m \u001B[38;5;167;01mValueError\u001B[39;00m(\u001B[38;5;124mf\u001B[39m\u001B[38;5;124m\"\u001B[39m\u001B[38;5;124mx and y must have same first dimension, but \u001B[39m\u001B[38;5;124m\"\u001B[39m\n\u001B[1;32m    499\u001B[0m                      \u001B[38;5;124mf\u001B[39m\u001B[38;5;124m\"\u001B[39m\u001B[38;5;124mhave shapes \u001B[39m\u001B[38;5;132;01m{\u001B[39;00mx\u001B[38;5;241m.\u001B[39mshape\u001B[38;5;132;01m}\u001B[39;00m\u001B[38;5;124m and \u001B[39m\u001B[38;5;132;01m{\u001B[39;00my\u001B[38;5;241m.\u001B[39mshape\u001B[38;5;132;01m}\u001B[39;00m\u001B[38;5;124m\"\u001B[39m)\n\u001B[1;32m    500\u001B[0m \u001B[38;5;28;01mif\u001B[39;00m x\u001B[38;5;241m.\u001B[39mndim \u001B[38;5;241m>\u001B[39m \u001B[38;5;241m2\u001B[39m \u001B[38;5;129;01mor\u001B[39;00m y\u001B[38;5;241m.\u001B[39mndim \u001B[38;5;241m>\u001B[39m \u001B[38;5;241m2\u001B[39m:\n\u001B[1;32m    501\u001B[0m     \u001B[38;5;28;01mraise\u001B[39;00m \u001B[38;5;167;01mValueError\u001B[39;00m(\u001B[38;5;124mf\u001B[39m\u001B[38;5;124m\"\u001B[39m\u001B[38;5;124mx and y can be no greater than 2D, but have \u001B[39m\u001B[38;5;124m\"\u001B[39m\n\u001B[1;32m    502\u001B[0m                      \u001B[38;5;124mf\u001B[39m\u001B[38;5;124m\"\u001B[39m\u001B[38;5;124mshapes \u001B[39m\u001B[38;5;132;01m{\u001B[39;00mx\u001B[38;5;241m.\u001B[39mshape\u001B[38;5;132;01m}\u001B[39;00m\u001B[38;5;124m and \u001B[39m\u001B[38;5;132;01m{\u001B[39;00my\u001B[38;5;241m.\u001B[39mshape\u001B[38;5;132;01m}\u001B[39;00m\u001B[38;5;124m\"\u001B[39m)\n",
      "\u001B[0;31mValueError\u001B[0m: x and y must have same first dimension, but have shapes (220,) and (1, 4)"
     ]
    },
    {
     "data": {
      "text/plain": "<Figure size 576x576 with 1 Axes>",
      "image/png": "[encoded data removed]"
     },
     "metadata": {
      "needs_background": "light"
     },
     "output_type": "display_data"
    }
   ],
   "source": [
    "fig, ax = plt.subplots(figsize=(8, 8))\n",
    "ax.plot(np.arange(0, p), jnp.mean(post_samples.position.contin_position[\"beta\"][int(burnin*num_samples):], axis=0), color=\"orange\")\n",
    "ax.axvline(x=44, linestyle=\"--\", color=\"blue\", label=\"i = 44\")"
   ]
  },
  {
   "cell_type": "code",
   "execution_count": 247,
   "outputs": [
    {
     "name": "stdout",
     "output_type": "stream",
     "text": [
      "inf\n"
     ]
    },
    {
     "name": "stderr",
     "output_type": "stream",
     "text": [
      "2022-08-09 16:53:56.446317: W external/org_tensorflow/tensorflow/core/common_runtime/bfc_allocator.cc:479] Allocator (GPU_0_bfc) ran out of memory trying to allocate 1.64GiB (rounded to 1760000000)requested by op \n",
      "2022-08-09 16:53:56.446639: W external/org_tensorflow/tensorflow/core/common_runtime/bfc_allocator.cc:491] ******_***_______________________*******************************************************____________\n",
      "2022-08-09 16:53:56.447232: E external/org_tensorflow/tensorflow/compiler/xla/pjrt/pjrt_stream_executor_client.cc:2130] Execution of replica 0 failed: RESOURCE_EXHAUSTED: Out of memory while trying to allocate 1760000000 bytes.\n",
      "BufferAssignment OOM Debugging.\n",
      "BufferAssignment stats:\n",
      "             parameter allocation:   853.3KiB\n",
      "              constant allocation:        24B\n",
      "        maybe_live_out allocation:    6.74GiB\n",
      "     preallocated temp allocation:    1.11MiB\n",
      "  preallocated temp fragmentation:     1.1KiB (0.10%)\n",
      "                 total allocation:    6.74GiB\n",
      "Peak buffers:\n",
      "\tBuffer 1:\n",
      "\t\tSize: 1.64GiB\n",
      "\t\tXLA Label: copy\n",
      "\t\tShape: f32[10000,10,20,220]\n",
      "\t\t==========================\n",
      "\n",
      "\tBuffer 2:\n",
      "\t\tSize: 1.64GiB\n",
      "\t\tXLA Label: copy\n",
      "\t\tShape: f32[10000,10,20,220]\n",
      "\t\t==========================\n",
      "\n",
      "\tBuffer 3:\n",
      "\t\tSize: 1.64GiB\n",
      "\t\tXLA Label: copy\n",
      "\t\tShape: f32[10000,10,20,220]\n",
      "\t\t==========================\n",
      "\n",
      "\tBuffer 4:\n",
      "\t\tSize: 1.64GiB\n",
      "\t\tOperator: op_name=\"jit(scan)/jit(main)/broadcast_in_dim[shape=(10000, 10, 20, 220) broadcast_dimensions=()]\" source_file=\"/tmp/ipykernel_31621/967532976.py\" source_line=23\n",
      "\t\tXLA Label: broadcast\n",
      "\t\tShape: f32[10000,10,20,220]\n",
      "\t\t==========================\n",
      "\n",
      "\tBuffer 5:\n",
      "\t\tSize: 83.92MiB\n",
      "\t\tXLA Label: copy\n",
      "\t\tShape: f32[10000,10,220]\n",
      "\t\t==========================\n",
      "\n",
      "\tBuffer 6:\n",
      "\t\tSize: 83.92MiB\n",
      "\t\tOperator: op_name=\"jit(scan)/jit(main)/broadcast_in_dim[shape=(10000, 10, 220) broadcast_dimensions=()]\" source_file=\"/tmp/ipykernel_31621/967532976.py\" source_line=23\n",
      "\t\tXLA Label: broadcast\n",
      "\t\tShape: f32[10000,10,220]\n",
      "\t\t==========================\n",
      "\n",
      "\tBuffer 7:\n",
      "\t\tSize: 7.63MiB\n",
      "\t\tXLA Label: copy\n",
      "\t\tShape: f32[10000,10,20]\n",
      "\t\t==========================\n",
      "\n",
      "\tBuffer 8:\n",
      "\t\tSize: 7.63MiB\n",
      "\t\tOperator: op_name=\"jit(scan)/jit(main)/broadcast_in_dim[shape=(10000, 10, 20) broadcast_dimensions=()]\" source_file=\"/tmp/ipykernel_31621/967532976.py\" source_line=23\n",
      "\t\tXLA Label: broadcast\n",
      "\t\tShape: f32[10000,10,20]\n",
      "\t\t==========================\n",
      "\n",
      "\tBuffer 9:\n",
      "\t\tSize: 390.6KiB\n",
      "\t\tXLA Label: copy\n",
      "\t\tShape: f32[10000,10,1]\n",
      "\t\t==========================\n",
      "\n",
      "\tBuffer 10:\n",
      "\t\tSize: 390.6KiB\n",
      "\t\tOperator: op_name=\"jit(scan)/jit(main)/broadcast_in_dim[shape=(10000, 10, 1) broadcast_dimensions=()]\" source_file=\"/tmp/ipykernel_31621/967532976.py\" source_line=23\n",
      "\t\tXLA Label: broadcast\n",
      "\t\tShape: f32[10000,10,1]\n",
      "\t\t==========================\n",
      "\n",
      "\tBuffer 11:\n",
      "\t\tSize: 176.6KiB\n",
      "\t\tOperator: op_name=\"jit(scan)/jit(main)/while/body/jit(one_step)/jit(step_fn)/threefry2x32\" source_file=\"/home/xabush/miniconda3/lib/python3.9/site-packages/blackjax/mcmc/diffusion.py\" source_line=20\n",
      "\t\tXLA Label: custom-call\n",
      "\t\tShape: u32[45205]\n",
      "\t\t==========================\n",
      "\n",
      "\tBuffer 12:\n",
      "\t\tSize: 176.6KiB\n",
      "\t\tOperator: op_name=\"jit(scan)/jit(main)/while/body/jit(one_step)/jit(step_fn)/slice[start_indices=(45205,) limit_indices=(90410,) strides=None]\" source_file=\"/home/xabush/miniconda3/lib/python3.9/site-packages/blackjax/mcmc/diffusion.py\" source_line=20\n",
      "\t\tXLA Label: fusion\n",
      "\t\tShape: u32[45205]\n",
      "\t\t==========================\n",
      "\n",
      "\tBuffer 13:\n",
      "\t\tSize: 176.6KiB\n",
      "\t\tOperator: op_name=\"jit(scan)/jit(main)/while/body/jit(one_step)/jit(step_fn)/slice[start_indices=(0,) limit_indices=(45205,) strides=None]\" source_file=\"/home/xabush/miniconda3/lib/python3.9/site-packages/blackjax/mcmc/diffusion.py\" source_line=20\n",
      "\t\tXLA Label: fusion\n",
      "\t\tShape: u32[45205]\n",
      "\t\t==========================\n",
      "\n",
      "\tBuffer 14:\n",
      "\t\tSize: 176.6KiB\n",
      "\t\tOperator: op_name=\"jit(scan)/jit(main)/while/body/jit(one_step)/jit(step_fn)/threefry2x32\" source_file=\"/home/xabush/miniconda3/lib/python3.9/site-packages/blackjax/mcmc/diffusion.py\" source_line=20\n",
      "\t\tXLA Label: fusion\n",
      "\t\tShape: u32[45205]\n",
      "\t\t==========================\n",
      "\n",
      "\tBuffer 15:\n",
      "\t\tSize: 176.6KiB\n",
      "\t\tOperator: op_name=\"jit(scan)/jit(main)/while/body/jit(one_step)/jit(step_fn)/threefry2x32\" source_file=\"/home/xabush/miniconda3/lib/python3.9/site-packages/blackjax/mcmc/diffusion.py\" source_line=20\n",
      "\t\tXLA Label: fusion\n",
      "\t\tShape: u32[45205]\n",
      "\t\t==========================\n",
      "\n",
      "\n"
     ]
    },
    {
     "ename": "KeyboardInterrupt",
     "evalue": "",
     "output_type": "error",
     "traceback": [
      "\u001B[0;31m---------------------------------------------------------------------------\u001B[0m",
      "\u001B[0;31mXlaRuntimeError\u001B[0m                           Traceback (most recent call last)",
      "    \u001B[0;31m[... skipping hidden 1 frame]\u001B[0m\n",
      "File \u001B[0;32m~/miniconda3/lib/python3.9/site-packages/jax/_src/lax/control_flow/loops.py:275\u001B[0m, in \u001B[0;36mscan\u001B[0;34m(f, init, xs, length, reverse, unroll)\u001B[0m\n\u001B[1;32m    272\u001B[0m   \u001B[38;5;28;01mraise\u001B[39;00m \u001B[38;5;167;01mNotImplementedError\u001B[39;00m(\n\u001B[1;32m    273\u001B[0m       \u001B[38;5;124mf\u001B[39m\u001B[38;5;124m'\u001B[39m\u001B[38;5;124mEffects not supported in `scan`: \u001B[39m\u001B[38;5;132;01m{\u001B[39;00mdisallowed_effects\u001B[38;5;132;01m}\u001B[39;00m\u001B[38;5;124m'\u001B[39m)\n\u001B[0;32m--> 275\u001B[0m out \u001B[38;5;241m=\u001B[39m \u001B[43mscan_p\u001B[49m\u001B[38;5;241;43m.\u001B[39;49m\u001B[43mbind\u001B[49m\u001B[43m(\u001B[49m\u001B[38;5;241;43m*\u001B[39;49m\u001B[43mconsts\u001B[49m\u001B[43m,\u001B[49m\u001B[43m \u001B[49m\u001B[38;5;241;43m*\u001B[39;49m\u001B[43min_flat\u001B[49m\u001B[43m,\u001B[49m\n\u001B[1;32m    276\u001B[0m \u001B[43m                  \u001B[49m\u001B[43mreverse\u001B[49m\u001B[38;5;241;43m=\u001B[39;49m\u001B[43mreverse\u001B[49m\u001B[43m,\u001B[49m\u001B[43m \u001B[49m\u001B[43mlength\u001B[49m\u001B[38;5;241;43m=\u001B[39;49m\u001B[43mlength\u001B[49m\u001B[43m,\u001B[49m\u001B[43m \u001B[49m\u001B[43mjaxpr\u001B[49m\u001B[38;5;241;43m=\u001B[39;49m\u001B[43mjaxpr\u001B[49m\u001B[43m,\u001B[49m\n\u001B[1;32m    277\u001B[0m \u001B[43m                  \u001B[49m\u001B[43mnum_consts\u001B[49m\u001B[38;5;241;43m=\u001B[39;49m\u001B[38;5;28;43mlen\u001B[39;49m\u001B[43m(\u001B[49m\u001B[43mconsts\u001B[49m\u001B[43m)\u001B[49m\u001B[43m,\u001B[49m\u001B[43m \u001B[49m\u001B[43mnum_carry\u001B[49m\u001B[38;5;241;43m=\u001B[39;49m\u001B[38;5;28;43mlen\u001B[39;49m\u001B[43m(\u001B[49m\u001B[43minit_flat\u001B[49m\u001B[43m)\u001B[49m\u001B[43m,\u001B[49m\n\u001B[1;32m    278\u001B[0m \u001B[43m                  \u001B[49m\u001B[43mlinear\u001B[49m\u001B[38;5;241;43m=\u001B[39;49m\u001B[43m(\u001B[49m\u001B[38;5;28;43;01mFalse\u001B[39;49;00m\u001B[43m,\u001B[49m\u001B[43m)\u001B[49m\u001B[43m \u001B[49m\u001B[38;5;241;43m*\u001B[39;49m\u001B[43m \u001B[49m\u001B[43m(\u001B[49m\u001B[38;5;28;43mlen\u001B[39;49m\u001B[43m(\u001B[49m\u001B[43mconsts\u001B[49m\u001B[43m)\u001B[49m\u001B[43m \u001B[49m\u001B[38;5;241;43m+\u001B[39;49m\u001B[43m \u001B[49m\u001B[38;5;28;43mlen\u001B[39;49m\u001B[43m(\u001B[49m\u001B[43min_flat\u001B[49m\u001B[43m)\u001B[49m\u001B[43m)\u001B[49m\u001B[43m,\u001B[49m\n\u001B[1;32m    279\u001B[0m \u001B[43m                  \u001B[49m\u001B[43munroll\u001B[49m\u001B[38;5;241;43m=\u001B[39;49m\u001B[43munroll\u001B[49m\u001B[43m)\u001B[49m\n\u001B[1;32m    280\u001B[0m \u001B[38;5;28;01mreturn\u001B[39;00m tree_unflatten(out_tree, out)\n",
      "File \u001B[0;32m~/miniconda3/lib/python3.9/site-packages/jax/_src/lax/control_flow/loops.py:990\u001B[0m, in \u001B[0;36mscan_bind\u001B[0;34m(*args, **params)\u001B[0m\n\u001B[1;32m    989\u001B[0m   core\u001B[38;5;241m.\u001B[39mcheck_jaxpr(params[\u001B[38;5;124m'\u001B[39m\u001B[38;5;124mjaxpr\u001B[39m\u001B[38;5;124m'\u001B[39m]\u001B[38;5;241m.\u001B[39mjaxpr)\n\u001B[0;32m--> 990\u001B[0m \u001B[38;5;28;01mreturn\u001B[39;00m \u001B[43mcore\u001B[49m\u001B[38;5;241;43m.\u001B[39;49m\u001B[43mAxisPrimitive\u001B[49m\u001B[38;5;241;43m.\u001B[39;49m\u001B[43mbind\u001B[49m\u001B[43m(\u001B[49m\u001B[43mscan_p\u001B[49m\u001B[43m,\u001B[49m\u001B[43m \u001B[49m\u001B[38;5;241;43m*\u001B[39;49m\u001B[43margs\u001B[49m\u001B[43m,\u001B[49m\u001B[43m \u001B[49m\u001B[38;5;241;43m*\u001B[39;49m\u001B[38;5;241;43m*\u001B[39;49m\u001B[43mparams\u001B[49m\u001B[43m)\u001B[49m\n",
      "File \u001B[0;32m~/miniconda3/lib/python3.9/site-packages/jax/core.py:2325\u001B[0m, in \u001B[0;36mAxisPrimitive.bind\u001B[0;34m(self, *args, **params)\u001B[0m\n\u001B[1;32m   2323\u001B[0m top_trace \u001B[38;5;241m=\u001B[39m (top_trace \u001B[38;5;28;01mif\u001B[39;00m \u001B[38;5;129;01mnot\u001B[39;00m axis_main \u001B[38;5;129;01mor\u001B[39;00m axis_main\u001B[38;5;241m.\u001B[39mlevel \u001B[38;5;241m<\u001B[39m top_trace\u001B[38;5;241m.\u001B[39mlevel\n\u001B[1;32m   2324\u001B[0m              \u001B[38;5;28;01melse\u001B[39;00m axis_main\u001B[38;5;241m.\u001B[39mwith_cur_sublevel())\n\u001B[0;32m-> 2325\u001B[0m \u001B[38;5;28;01mreturn\u001B[39;00m \u001B[38;5;28;43mself\u001B[39;49m\u001B[38;5;241;43m.\u001B[39;49m\u001B[43mbind_with_trace\u001B[49m\u001B[43m(\u001B[49m\u001B[43mtop_trace\u001B[49m\u001B[43m,\u001B[49m\u001B[43m \u001B[49m\u001B[43margs\u001B[49m\u001B[43m,\u001B[49m\u001B[43m \u001B[49m\u001B[43mparams\u001B[49m\u001B[43m)\u001B[49m\n",
      "File \u001B[0;32m~/miniconda3/lib/python3.9/site-packages/jax/core.py:327\u001B[0m, in \u001B[0;36mPrimitive.bind_with_trace\u001B[0;34m(self, trace, args, params)\u001B[0m\n\u001B[1;32m    326\u001B[0m \u001B[38;5;28;01mdef\u001B[39;00m \u001B[38;5;21mbind_with_trace\u001B[39m(\u001B[38;5;28mself\u001B[39m, trace, args, params):\n\u001B[0;32m--> 327\u001B[0m   out \u001B[38;5;241m=\u001B[39m \u001B[43mtrace\u001B[49m\u001B[38;5;241;43m.\u001B[39;49m\u001B[43mprocess_primitive\u001B[49m\u001B[43m(\u001B[49m\u001B[38;5;28;43mself\u001B[39;49m\u001B[43m,\u001B[49m\u001B[43m \u001B[49m\u001B[38;5;28;43mmap\u001B[39;49m\u001B[43m(\u001B[49m\u001B[43mtrace\u001B[49m\u001B[38;5;241;43m.\u001B[39;49m\u001B[43mfull_raise\u001B[49m\u001B[43m,\u001B[49m\u001B[43m \u001B[49m\u001B[43margs\u001B[49m\u001B[43m)\u001B[49m\u001B[43m,\u001B[49m\u001B[43m \u001B[49m\u001B[43mparams\u001B[49m\u001B[43m)\u001B[49m\n\u001B[1;32m    328\u001B[0m   \u001B[38;5;28;01mreturn\u001B[39;00m \u001B[38;5;28mmap\u001B[39m(full_lower, out) \u001B[38;5;28;01mif\u001B[39;00m \u001B[38;5;28mself\u001B[39m\u001B[38;5;241m.\u001B[39mmultiple_results \u001B[38;5;28;01melse\u001B[39;00m full_lower(out)\n",
      "File \u001B[0;32m~/miniconda3/lib/python3.9/site-packages/jax/core.py:684\u001B[0m, in \u001B[0;36mEvalTrace.process_primitive\u001B[0;34m(self, primitive, tracers, params)\u001B[0m\n\u001B[1;32m    683\u001B[0m \u001B[38;5;28;01mdef\u001B[39;00m \u001B[38;5;21mprocess_primitive\u001B[39m(\u001B[38;5;28mself\u001B[39m, primitive, tracers, params):\n\u001B[0;32m--> 684\u001B[0m   \u001B[38;5;28;01mreturn\u001B[39;00m \u001B[43mprimitive\u001B[49m\u001B[38;5;241;43m.\u001B[39;49m\u001B[43mimpl\u001B[49m\u001B[43m(\u001B[49m\u001B[38;5;241;43m*\u001B[39;49m\u001B[43mtracers\u001B[49m\u001B[43m,\u001B[49m\u001B[43m \u001B[49m\u001B[38;5;241;43m*\u001B[39;49m\u001B[38;5;241;43m*\u001B[39;49m\u001B[43mparams\u001B[49m\u001B[43m)\u001B[49m\n",
      "File \u001B[0;32m~/miniconda3/lib/python3.9/site-packages/jax/_src/dispatch.py:101\u001B[0m, in \u001B[0;36mapply_primitive\u001B[0;34m(prim, *args, **params)\u001B[0m\n\u001B[1;32m     99\u001B[0m compiled_fun \u001B[38;5;241m=\u001B[39m xla_primitive_callable(prim, \u001B[38;5;241m*\u001B[39munsafe_map(arg_spec, args),\n\u001B[1;32m    100\u001B[0m                                       \u001B[38;5;241m*\u001B[39m\u001B[38;5;241m*\u001B[39mparams)\n\u001B[0;32m--> 101\u001B[0m \u001B[38;5;28;01mreturn\u001B[39;00m \u001B[43mcompiled_fun\u001B[49m\u001B[43m(\u001B[49m\u001B[38;5;241;43m*\u001B[39;49m\u001B[43margs\u001B[49m\u001B[43m)\u001B[49m\n",
      "File \u001B[0;32m~/miniconda3/lib/python3.9/site-packages/jax/_src/dispatch.py:733\u001B[0m, in \u001B[0;36m_execute_compiled\u001B[0;34m(name, compiled, input_handler, output_buffer_counts, result_handler, has_unordered_effects, ordered_effects, kept_var_idx, *args)\u001B[0m\n\u001B[1;32m    731\u001B[0m   in_flat, token_handler \u001B[38;5;241m=\u001B[39m _add_tokens(has_unordered_effects, ordered_effects,\n\u001B[1;32m    732\u001B[0m                                        device, in_flat)\n\u001B[0;32m--> 733\u001B[0m out_flat \u001B[38;5;241m=\u001B[39m \u001B[43mcompiled\u001B[49m\u001B[38;5;241;43m.\u001B[39;49m\u001B[43mexecute\u001B[49m\u001B[43m(\u001B[49m\u001B[43min_flat\u001B[49m\u001B[43m)\u001B[49m\n\u001B[1;32m    734\u001B[0m check_special(name, out_flat)\n",
      "\u001B[0;31mXlaRuntimeError\u001B[0m: RESOURCE_EXHAUSTED: Out of memory while trying to allocate 1760000000 bytes.\nBufferAssignment OOM Debugging.\nBufferAssignment stats:\n             parameter allocation:   853.3KiB\n              constant allocation:        24B\n        maybe_live_out allocation:    6.74GiB\n     preallocated temp allocation:    1.11MiB\n  preallocated temp fragmentation:     1.1KiB (0.10%)\n                 total allocation:    6.74GiB\nPeak buffers:\n\tBuffer 1:\n\t\tSize: 1.64GiB\n\t\tXLA Label: copy\n\t\tShape: f32[10000,10,20,220]\n\t\t==========================\n\n\tBuffer 2:\n\t\tSize: 1.64GiB\n\t\tXLA Label: copy\n\t\tShape: f32[10000,10,20,220]\n\t\t==========================\n\n\tBuffer 3:\n\t\tSize: 1.64GiB\n\t\tXLA Label: copy\n\t\tShape: f32[10000,10,20,220]\n\t\t==========================\n\n\tBuffer 4:\n\t\tSize: 1.64GiB\n\t\tOperator: op_name=\"jit(scan)/jit(main)/broadcast_in_dim[shape=(10000, 10, 20, 220) broadcast_dimensions=()]\" source_file=\"/tmp/ipykernel_31621/967532976.py\" source_line=23\n\t\tXLA Label: broadcast\n\t\tShape: f32[10000,10,20,220]\n\t\t==========================\n\n\tBuffer 5:\n\t\tSize: 83.92MiB\n\t\tXLA Label: copy\n\t\tShape: f32[10000,10,220]\n\t\t==========================\n\n\tBuffer 6:\n\t\tSize: 83.92MiB\n\t\tOperator: op_name=\"jit(scan)/jit(main)/broadcast_in_dim[shape=(10000, 10, 220) broadcast_dimensions=()]\" source_file=\"/tmp/ipykernel_31621/967532976.py\" source_line=23\n\t\tXLA Label: broadcast\n\t\tShape: f32[10000,10,220]\n\t\t==========================\n\n\tBuffer 7:\n\t\tSize: 7.63MiB\n\t\tXLA Label: copy\n\t\tShape: f32[10000,10,20]\n\t\t==========================\n\n\tBuffer 8:\n\t\tSize: 7.63MiB\n\t\tOperator: op_name=\"jit(scan)/jit(main)/broadcast_in_dim[shape=(10000, 10, 20) broadcast_dimensions=()]\" source_file=\"/tmp/ipykernel_31621/967532976.py\" source_line=23\n\t\tXLA Label: broadcast\n\t\tShape: f32[10000,10,20]\n\t\t==========================\n\n\tBuffer 9:\n\t\tSize: 390.6KiB\n\t\tXLA Label: copy\n\t\tShape: f32[10000,10,1]\n\t\t==========================\n\n\tBuffer 10:\n\t\tSize: 390.6KiB\n\t\tOperator: op_name=\"jit(scan)/jit(main)/broadcast_in_dim[shape=(10000, 10, 1) broadcast_dimensions=()]\" source_file=\"/tmp/ipykernel_31621/967532976.py\" source_line=23\n\t\tXLA Label: broadcast\n\t\tShape: f32[10000,10,1]\n\t\t==========================\n\n\tBuffer 11:\n\t\tSize: 176.6KiB\n\t\tOperator: op_name=\"jit(scan)/jit(main)/while/body/jit(one_step)/jit(step_fn)/threefry2x32\" source_file=\"/home/xabush/miniconda3/lib/python3.9/site-packages/blackjax/mcmc/diffusion.py\" source_line=20\n\t\tXLA Label: custom-call\n\t\tShape: u32[45205]\n\t\t==========================\n\n\tBuffer 12:\n\t\tSize: 176.6KiB\n\t\tOperator: op_name=\"jit(scan)/jit(main)/while/body/jit(one_step)/jit(step_fn)/slice[start_indices=(45205,) limit_indices=(90410,) strides=None]\" source_file=\"/home/xabush/miniconda3/lib/python3.9/site-packages/blackjax/mcmc/diffusion.py\" source_line=20\n\t\tXLA Label: fusion\n\t\tShape: u32[45205]\n\t\t==========================\n\n\tBuffer 13:\n\t\tSize: 176.6KiB\n\t\tOperator: op_name=\"jit(scan)/jit(main)/while/body/jit(one_step)/jit(step_fn)/slice[start_indices=(0,) limit_indices=(45205,) strides=None]\" source_file=\"/home/xabush/miniconda3/lib/python3.9/site-packages/blackjax/mcmc/diffusion.py\" source_line=20\n\t\tXLA Label: fusion\n\t\tShape: u32[45205]\n\t\t==========================\n\n\tBuffer 14:\n\t\tSize: 176.6KiB\n\t\tOperator: op_name=\"jit(scan)/jit(main)/while/body/jit(one_step)/jit(step_fn)/threefry2x32\" source_file=\"/home/xabush/miniconda3/lib/python3.9/site-packages/blackjax/mcmc/diffusion.py\" source_line=20\n\t\tXLA Label: fusion\n\t\tShape: u32[45205]\n\t\t==========================\n\n\tBuffer 15:\n\t\tSize: 176.6KiB\n\t\tOperator: op_name=\"jit(scan)/jit(main)/while/body/jit(one_step)/jit(step_fn)/threefry2x32\" source_file=\"/home/xabush/miniconda3/lib/python3.9/site-packages/blackjax/mcmc/diffusion.py\" source_line=20\n\t\tXLA Label: fusion\n\t\tShape: u32[45205]\n\t\t==========================\n\n",
      "\nDuring handling of the above exception, another exception occurred:\n",
      "\u001B[0;31mKeyboardInterrupt\u001B[0m                         Traceback (most recent call last)",
      "Input \u001B[0;32mIn [247]\u001B[0m, in \u001B[0;36m<cell line: 8>\u001B[0;34m()\u001B[0m\n\u001B[1;32m      6\u001B[0m initial_state \u001B[38;5;241m=\u001B[39m mala\u001B[38;5;241m.\u001B[39minit(initial_position)\n\u001B[1;32m      7\u001B[0m mala_kernel \u001B[38;5;241m=\u001B[39m jax\u001B[38;5;241m.\u001B[39mjit(mala\u001B[38;5;241m.\u001B[39mstep)\n\u001B[0;32m----> 8\u001B[0m states \u001B[38;5;241m=\u001B[39m \u001B[43minference_loop\u001B[49m\u001B[43m(\u001B[49m\u001B[43mrng_key\u001B[49m\u001B[43m,\u001B[49m\u001B[43m \u001B[49m\u001B[43mmala_kernel\u001B[49m\u001B[43m,\u001B[49m\u001B[43m \u001B[49m\u001B[43minitial_state\u001B[49m\u001B[43m,\u001B[49m\u001B[43m \u001B[49m\u001B[38;5;241;43m10_000\u001B[39;49m\u001B[43m)\u001B[49m\n",
      "Input \u001B[0;32mIn [71]\u001B[0m, in \u001B[0;36minference_loop\u001B[0;34m(rng_key, kernel, initial_state, num_samples)\u001B[0m\n\u001B[1;32m     20\u001B[0m   \u001B[38;5;28;01mreturn\u001B[39;00m state, state\n\u001B[1;32m     22\u001B[0m keys \u001B[38;5;241m=\u001B[39m jax\u001B[38;5;241m.\u001B[39mrandom\u001B[38;5;241m.\u001B[39msplit(rng_key, num_samples)\n\u001B[0;32m---> 23\u001B[0m _, states \u001B[38;5;241m=\u001B[39m \u001B[43mjax\u001B[49m\u001B[38;5;241;43m.\u001B[39;49m\u001B[43mlax\u001B[49m\u001B[38;5;241;43m.\u001B[39;49m\u001B[43mscan\u001B[49m\u001B[43m(\u001B[49m\u001B[43mone_step\u001B[49m\u001B[43m,\u001B[49m\u001B[43m \u001B[49m\u001B[43minitial_state\u001B[49m\u001B[43m,\u001B[49m\u001B[43m \u001B[49m\u001B[43mkeys\u001B[49m\u001B[43m)\u001B[49m\n\u001B[1;32m     25\u001B[0m \u001B[38;5;28;01mreturn\u001B[39;00m states\n",
      "File \u001B[0;32m~/miniconda3/lib/python3.9/site-packages/jax/_src/traceback_util.py:162\u001B[0m, in \u001B[0;36mapi_boundary.<locals>.reraise_with_filtered_traceback\u001B[0;34m(*args, **kwargs)\u001B[0m\n\u001B[1;32m    160\u001B[0m __tracebackhide__ \u001B[38;5;241m=\u001B[39m \u001B[38;5;28;01mTrue\u001B[39;00m\n\u001B[1;32m    161\u001B[0m \u001B[38;5;28;01mtry\u001B[39;00m:\n\u001B[0;32m--> 162\u001B[0m   \u001B[38;5;28;01mreturn\u001B[39;00m \u001B[43mfun\u001B[49m\u001B[43m(\u001B[49m\u001B[38;5;241;43m*\u001B[39;49m\u001B[43margs\u001B[49m\u001B[43m,\u001B[49m\u001B[43m \u001B[49m\u001B[38;5;241;43m*\u001B[39;49m\u001B[38;5;241;43m*\u001B[39;49m\u001B[43mkwargs\u001B[49m\u001B[43m)\u001B[49m\n\u001B[1;32m    163\u001B[0m \u001B[38;5;28;01mexcept\u001B[39;00m \u001B[38;5;167;01mException\u001B[39;00m \u001B[38;5;28;01mas\u001B[39;00m e:\n\u001B[1;32m    164\u001B[0m   mode \u001B[38;5;241m=\u001B[39m filtering_mode()\n",
      "\u001B[0;31mKeyboardInterrupt\u001B[0m: "
     ]
    }
   ],
   "source": [
    "# rng_key = jax.random.PRNGKey(1254)\n",
    "# logprob = lambda x: jnp.sum(jax.vmap(joint.log_prob)(x))\n",
    "# mala = blackjax.mala(logprob, 1e-5)\n",
    "# initial_position = joint.sample(seed=jax_prng_key(), sample_shape=(10,))\n",
    "# print(logprob(initial_position))\n",
    "# initial_state = mala.init(initial_position)\n",
    "# mala_kernel = jax.jit(mala.step)\n",
    "# states = inference_loop(rng_key, mala_kernel, initial_state, 10_000)"
   ],
   "metadata": {
    "collapsed": false,
    "pycharm": {
     "name": "#%%\n"
    }
   }
  },
  {
   "cell_type": "code",
   "execution_count": 315,
   "metadata": {
    "execution": {
     "iopub.execute_input": "2022-08-05T19:32:45.263686Z",
     "iopub.status.busy": "2022-08-05T19:32:45.262979Z",
     "iopub.status.idle": "2022-08-05T19:32:45.269095Z",
     "shell.execute_reply": "2022-08-05T19:32:45.268636Z",
     "shell.execute_reply.started": "2022-08-05T19:32:45.263661Z"
    },
    "pycharm": {
     "name": "#%%\n"
    }
   },
   "outputs": [
    {
     "data": {
      "text/plain": "DeviceArray([[1., 1., 1., ..., 1., 1., 1.],\n             [1., 1., 1., ..., 1., 1., 1.],\n             [1., 1., 1., ..., 1., 1., 1.],\n             ...,\n             [1., 1., 1., ..., 1., 1., 1.],\n             [1., 1., 1., ..., 1., 1., 1.],\n             [1., 1., 1., ..., 1., 1., 1.]], dtype=float32)"
     },
     "execution_count": 315,
     "metadata": {},
     "output_type": "execute_result"
    }
   ],
   "source": [
    "get_ess(states.position[\"beta\"], 0.0)"
   ]
  },
  {
   "cell_type": "code",
   "execution_count": 316,
   "metadata": {
    "id": "XsHN_VvMPVhO",
    "pycharm": {
     "name": "#%%\n"
    }
   },
   "outputs": [
    {
     "ename": "TypeError",
     "evalue": "unhashable type: 'slice'",
     "output_type": "error",
     "traceback": [
      "\u001B[0;31m---------------------------------------------------------------------------\u001B[0m",
      "\u001B[0;31mTypeError\u001B[0m                                 Traceback (most recent call last)",
      "Input \u001B[0;32mIn [316]\u001B[0m, in \u001B[0;36m<cell line: 1>\u001B[0;34m()\u001B[0m\n\u001B[0;32m----> 1\u001B[0m stp \u001B[38;5;241m=\u001B[39m \u001B[43mstates\u001B[49m\u001B[38;5;241;43m.\u001B[39;49m\u001B[43mposition\u001B[49m\u001B[43m[\u001B[49m\u001B[38;5;28;43mint\u001B[39;49m\u001B[43m(\u001B[49m\u001B[43mnum_samples\u001B[49m\u001B[38;5;241;43m*\u001B[39;49m\u001B[38;5;241;43m0.1\u001B[39;49m\u001B[43m)\u001B[49m\u001B[43m:\u001B[49m\u001B[43m]\u001B[49m\n\u001B[1;32m      2\u001B[0m mean_stp \u001B[38;5;241m=\u001B[39m jnp\u001B[38;5;241m.\u001B[39mmean(stp, axis\u001B[38;5;241m=\u001B[39m\u001B[38;5;241m0\u001B[39m)[\u001B[38;5;241m0\u001B[39m]\n",
      "\u001B[0;31mTypeError\u001B[0m: unhashable type: 'slice'"
     ]
    }
   ],
   "source": [
    "stp = states.position[int(num_samples*0.1):]\n",
    "mean_stp = jnp.mean(stp, axis=0)[0]"
   ]
  },
  {
   "cell_type": "code",
   "execution_count": null,
   "metadata": {
    "colab": {
     "base_uri": "https://localhost:8080/",
     "height": 283
    },
    "id": "ZocAWNXvP8O0",
    "outputId": "fde7fa98-e9f2-4099-87a3-aa3ccc8be277",
    "pycharm": {
     "name": "#%%\n"
    }
   },
   "outputs": [
    {
     "data": {
      "text/plain": [
       "[<matplotlib.lines.Line2D at 0x7f46ee3150d0>]"
      ]
     },
     "execution_count": 37,
     "metadata": {},
     "output_type": "execute_result"
    },
    {
     "data": {
      "image/png": "[encoded data removed]",
      "text/plain": [
       "<Figure size 432x288 with 1 Axes>"
      ]
     },
     "metadata": {
      "needs_background": "light"
     },
     "output_type": "display_data"
    }
   ],
   "source": [
    "plt.plot(states.logprob)"
   ]
  },
  {
   "cell_type": "code",
   "execution_count": null,
   "metadata": {
    "id": "tBK-l3nbd9ZM",
    "pycharm": {
     "name": "#%%\n"
    }
   },
   "outputs": [],
   "source": [
    "mu_list = jnp.array([-2., 4.]).reshape(n_comp,)\n",
    "Sigma_list = (1. * jnp.stack([np.eye(1) for _ in range(pi.shape[0])])).reshape(n_comp,)\n",
    "temperature = 0.2\n",
    "\n",
    "def select_cat(p):\n",
    "  i = jnp.argmax(p)\n",
    "  return i\n",
    "\n",
    "joint_dist = tfd.JointDistributionSequential([\n",
    "                 tfd.RelaxedBernoulli(probs=pi, temperature=temperature),         \n",
    "    lambda p: tfd.Normal(loc=mu_list[jnp.argmax(p)], scale=Sigma_list[jnp.argmax(p)])\n",
    "])\n"
   ]
  },
  {
   "cell_type": "code",
   "execution_count": null,
   "metadata": {
    "id": "9IzmTJNdNOt9",
    "pycharm": {
     "name": "#%%\n"
    }
   },
   "outputs": [],
   "source": [
    "def joint_logprob(z, x):\n",
    "  return joint_dist.log_prob([z, x])"
   ]
  },
  {
   "cell_type": "code",
   "execution_count": null,
   "metadata": {
    "collapsed": true,
    "id": "Y0sf7VsCeAc7",
    "jupyter": {
     "outputs_hidden": true
    },
    "pycharm": {
     "name": "#%%\n"
    }
   },
   "outputs": [],
   "source": [
    "\n",
    "x = joint_dist.sample(seed=jax_prng_key(), sample_shape=(1,))\n"
   ]
  },
  {
   "cell_type": "code",
   "execution_count": null,
   "metadata": {
    "colab": {
     "base_uri": "https://localhost:8080/"
    },
    "id": "8McY-B6zOqZd",
    "outputId": "96a99ea4-9129-45e1-82ab-d2038c649650",
    "pycharm": {
     "name": "#%%\n"
    }
   },
   "outputs": [
    {
     "data": {
      "text/plain": [
       "[DeviceArray([[1.7705379e-11, 2.2592945e-03]], dtype=float32),\n",
       " DeviceArray(5.6057415, dtype=float32)]"
      ]
     },
     "execution_count": 111,
     "metadata": {},
     "output_type": "execute_result"
    }
   ],
   "source": [
    "x"
   ]
  },
  {
   "cell_type": "code",
   "execution_count": null,
   "metadata": {
    "colab": {
     "base_uri": "https://localhost:8080/"
    },
    "id": "v_wiU2jeOqUV",
    "outputId": "1db64809-6023-44d4-e30e-19432c63a590",
    "pycharm": {
     "name": "#%%\n"
    }
   },
   "outputs": [
    {
     "data": {
      "text/plain": [
       "DeviceArray([[9.9999881e-01, 8.2526243e-01],\n",
       "             [9.9205482e-01, 9.8945552e-01],\n",
       "             [2.2606441e-04, 9.6258480e-04],\n",
       "             ...,\n",
       "             [1.2734017e-03, 9.9919862e-01],\n",
       "             [7.6786989e-01, 1.3903156e-04],\n",
       "             [9.9999607e-01, 1.3607772e-02]], dtype=float32)"
      ]
     },
     "execution_count": 97,
     "metadata": {},
     "output_type": "execute_result"
    }
   ],
   "source": [
    "x[0]"
   ]
  },
  {
   "cell_type": "code",
   "execution_count": null,
   "metadata": {
    "id": "Co5VtFj2Pg0_",
    "pycharm": {
     "name": "#%%\n"
    }
   },
   "outputs": [],
   "source": [
    "x[1]"
   ]
  },
  {
   "cell_type": "code",
   "execution_count": null,
   "metadata": {
    "colab": {
     "base_uri": "https://localhost:8080/"
    },
    "id": "c_vHNiJ1XzrT",
    "outputId": "2685d7fd-8911-4293-af62-c318dc4c536c",
    "pycharm": {
     "name": "#%%\n"
    }
   },
   "outputs": [
    {
     "name": "stderr",
     "output_type": "stream",
     "text": [
      "WARNING:root:The use of `check_types` is deprecated and does not have any effect.\n",
      "WARNING:root:The use of `check_types` is deprecated and does not have any effect.\n",
      "/usr/local/lib/python3.7/dist-packages/jax/_src/numpy/lax_numpy.py:4488: UserWarning: Explicitly requested dtype <class 'jax.numpy.float64'> requested in astype is not available, and will be truncated to dtype float32. To enable more dtypes, set the jax_enable_x64 configuration option or the JAX_ENABLE_X64 shell environment variable. See https://github.com/google/jax#current-gotchas for more.\n",
      "  lax_internal._check_user_dtype_supported(dtype, \"astype\")\n",
      "/usr/local/lib/python3.7/dist-packages/jax/_src/numpy/lax_numpy.py:1833: UserWarning: Explicitly requested dtype <class 'jax.numpy.float64'> requested in array is not available, and will be truncated to dtype float32. To enable more dtypes, set the jax_enable_x64 configuration option or the JAX_ENABLE_X64 shell environment variable. See https://github.com/google/jax#current-gotchas for more.\n",
      "  lax_internal._check_user_dtype_supported(dtype, \"array\")\n",
      "/usr/local/lib/python3.7/dist-packages/jax/_src/numpy/lax_numpy.py:1966: UserWarning: Explicitly requested dtype <class 'jax.numpy.float64'> requested in zeros is not available, and will be truncated to dtype float32. To enable more dtypes, set the jax_enable_x64 configuration option or the JAX_ENABLE_X64 shell environment variable. See https://github.com/google/jax#current-gotchas for more.\n",
      "  lax_internal._check_user_dtype_supported(dtype, \"zeros\")\n",
      "/usr/local/lib/python3.7/dist-packages/jax/_src/numpy/lax_numpy.py:1833: UserWarning: Explicitly requested dtype <class 'jax.numpy.float64'> requested in array is not available, and will be truncated to dtype float32. To enable more dtypes, set the jax_enable_x64 configuration option or the JAX_ENABLE_X64 shell environment variable. See https://github.com/google/jax#current-gotchas for more.\n",
      "  lax_internal._check_user_dtype_supported(dtype, \"array\")\n",
      "/usr/local/lib/python3.7/dist-packages/jax/_src/numpy/lax_numpy.py:1966: UserWarning: Explicitly requested dtype <class 'jax.numpy.float64'> requested in zeros is not available, and will be truncated to dtype float32. To enable more dtypes, set the jax_enable_x64 configuration option or the JAX_ENABLE_X64 shell environment variable. See https://github.com/google/jax#current-gotchas for more.\n",
      "  lax_internal._check_user_dtype_supported(dtype, \"zeros\")\n",
      "/usr/local/lib/python3.7/dist-packages/jax/_src/numpy/lax_numpy.py:1975: UserWarning: Explicitly requested dtype <class 'jax.numpy.float64'> requested in ones is not available, and will be truncated to dtype float32. To enable more dtypes, set the jax_enable_x64 configuration option or the JAX_ENABLE_X64 shell environment variable. See https://github.com/google/jax#current-gotchas for more.\n",
      "  lax_internal._check_user_dtype_supported(dtype, \"ones\")\n",
      "WARNING:root:The use of `check_types` is deprecated and does not have any effect.\n",
      "WARNING:root:The use of `check_types` is deprecated and does not have any effect.\n",
      "WARNING:root:The use of `check_types` is deprecated and does not have any effect.\n",
      "WARNING:root:The use of `check_types` is deprecated and does not have any effect.\n",
      "WARNING:root:The use of `check_types` is deprecated and does not have any effect.\n",
      "WARNING:root:The use of `check_types` is deprecated and does not have any effect.\n",
      "WARNING:root:The use of `check_types` is deprecated and does not have any effect.\n",
      "WARNING:root:The use of `check_types` is deprecated and does not have any effect.\n",
      "WARNING:root:The use of `check_types` is deprecated and does not have any effect.\n",
      "WARNING:root:The use of `check_types` is deprecated and does not have any effect.\n",
      "WARNING:root:The use of `check_types` is deprecated and does not have any effect.\n",
      "WARNING:root:The use of `check_types` is deprecated and does not have any effect.\n",
      "WARNING:root:The use of `check_types` is deprecated and does not have any effect.\n",
      "WARNING:root:The use of `check_types` is deprecated and does not have any effect.\n",
      "WARNING:root:The use of `check_types` is deprecated and does not have any effect.\n",
      "/usr/local/lib/python3.7/dist-packages/jax/_src/numpy/lax_numpy.py:4488: UserWarning: Explicitly requested dtype <class 'jax.numpy.float64'> requested in astype is not available, and will be truncated to dtype float32. To enable more dtypes, set the jax_enable_x64 configuration option or the JAX_ENABLE_X64 shell environment variable. See https://github.com/google/jax#current-gotchas for more.\n",
      "  lax_internal._check_user_dtype_supported(dtype, \"astype\")\n",
      "/usr/local/lib/python3.7/dist-packages/jax/_src/numpy/lax_numpy.py:1833: UserWarning: Explicitly requested dtype <class 'jax.numpy.float64'> requested in array is not available, and will be truncated to dtype float32. To enable more dtypes, set the jax_enable_x64 configuration option or the JAX_ENABLE_X64 shell environment variable. See https://github.com/google/jax#current-gotchas for more.\n",
      "  lax_internal._check_user_dtype_supported(dtype, \"array\")\n",
      "/usr/local/lib/python3.7/dist-packages/jax/_src/numpy/lax_numpy.py:1966: UserWarning: Explicitly requested dtype <class 'jax.numpy.float64'> requested in zeros is not available, and will be truncated to dtype float32. To enable more dtypes, set the jax_enable_x64 configuration option or the JAX_ENABLE_X64 shell environment variable. See https://github.com/google/jax#current-gotchas for more.\n",
      "  lax_internal._check_user_dtype_supported(dtype, \"zeros\")\n",
      "/usr/local/lib/python3.7/dist-packages/jax/_src/numpy/lax_numpy.py:1975: UserWarning: Explicitly requested dtype <class 'jax.numpy.float64'> requested in ones is not available, and will be truncated to dtype float32. To enable more dtypes, set the jax_enable_x64 configuration option or the JAX_ENABLE_X64 shell environment variable. See https://github.com/google/jax#current-gotchas for more.\n",
      "  lax_internal._check_user_dtype_supported(dtype, \"ones\")\n",
      "WARNING:root:The use of `check_types` is deprecated and does not have any effect.\n",
      "WARNING:root:The use of `check_types` is deprecated and does not have any effect.\n",
      "WARNING:root:The use of `check_types` is deprecated and does not have any effect.\n",
      "WARNING:root:The use of `check_types` is deprecated and does not have any effect.\n",
      "WARNING:root:The use of `check_types` is deprecated and does not have any effect.\n",
      "WARNING:root:The use of `check_types` is deprecated and does not have any effect.\n",
      "WARNING:root:The use of `check_types` is deprecated and does not have any effect.\n",
      "WARNING:root:The use of `check_types` is deprecated and does not have any effect.\n"
     ]
    },
    {
     "data": {
      "text/plain": [
       "[DeviceArray([0.03947287, 0.02690292], dtype=float32),\n",
       " DeviceArray(9.018711e-29, dtype=float32),\n",
       " DeviceArray(0.5695137, dtype=float32),\n",
       " DeviceArray(0.5695137, dtype=float32),\n",
       " DeviceArray([0, 0, 1, 0, 1, 1, 0, 0, 0, 1, 1, 0], dtype=int32)]"
      ]
     },
     "execution_count": 47,
     "metadata": {},
     "output_type": "execute_result"
    }
   ],
   "source": [
    "joint = tfd.JointDistributionSequential([\n",
    "                 tfd.Exponential(rate=[100, 120]),           # e\n",
    "    lambda    e: tfd.Gamma(concentration=e[0], rate=e[1]),    # g\n",
    "                 tfd.Normal(loc=0, scale=2.),                 # n\n",
    "    lambda n, g: tfd.Normal(loc=n, scale=g),                   # m\n",
    "    lambda    m: tfd.Sample(tfd.Bernoulli(logits=m), 12)      # x\n",
    "], batch_ndims=0, use_vectorized_map=True)\n",
    "joint.sample(seed=jax_prng_key())"
   ]
  },
  {
   "cell_type": "code",
   "execution_count": null,
   "metadata": {
    "id": "eOWO9K48Ygd6",
    "pycharm": {
     "name": "#%%\n"
    }
   },
   "outputs": [],
   "source": []
  }
 ],
 "metadata": {
  "colab": {
   "collapsed_sections": [
    "6qPXLy_dQxv9"
   ],
   "name": "mixed_mala_test.ipynb",
   "provenance": []
  },
  "kernelspec": {
   "display_name": "Python 3 (ipykernel)",
   "language": "python",
   "name": "python3"
  },
  "language_info": {
   "codemirror_mode": {
    "name": "ipython",
    "version": 3
   },
   "file_extension": ".py",
   "mimetype": "text/x-python",
   "name": "python",
   "nbconvert_exporter": "python",
   "pygments_lexer": "ipython3",
   "version": "3.9.13"
  }
 },
 "nbformat": 4,
 "nbformat_minor": 4
}